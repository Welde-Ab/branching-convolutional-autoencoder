{
 "cells": [
  {
   "cell_type": "code",
   "execution_count": 14,
   "metadata": {},
   "outputs": [
    {
     "name": "stdout",
     "output_type": "stream",
     "text": [
      "2.3.0\n"
     ]
    }
   ],
   "source": [
    "import tensorflow as tf\n",
    "from tensorflow_addons.layers import InstanceNormalization\n",
    "import tensorflow.keras as keras\n",
    "from tensorflow.keras.layers import Dense, Conv1D, Activation, Flatten, Input, Reshape, LeakyReLU\n",
    "from tensorflow.keras import Model, Sequential\n",
    "from tensorflow.keras.models import load_model\n",
    "from tensorflow.keras.models import model_from_json\n",
    "from tensorflow.keras import Input\n",
    "from tensorflow.keras.layers import Conv2D\n",
    "from tensorflow.keras.layers import Conv2DTranspose\n",
    "from tensorflow.keras.layers import BatchNormalization\n",
    "from tensorflow.keras.layers import Dropout\n",
    "from tensorflow.keras.layers import MaxPool2D\n",
    "from tensorflow.keras.layers import UpSampling2D\n",
    "from tensorflow.keras.layers import Flatten\n",
    "from tensorflow.keras.layers import Concatenate\n",
    "from tensorflow.keras.layers import Reshape\n",
    "from tensorflow.keras.layers import LeakyReLU\n",
    "from tensorflow.keras.callbacks import ModelCheckpoint\n",
    "\n",
    "import tensorflow_docs as tfdocs\n",
    "import tensorflow_docs.modeling\n",
    "import tensorflow_docs.plots\n",
    "\n",
    "from  IPython import display\n",
    "import pathlib\n",
    "import shutil\n",
    "import tempfile\n",
    "import math\n",
    "import numpy as np\n",
    "import json\n",
    "from scipy.io import loadmat\n",
    "import matplotlib.pyplot as plt\n",
    "import os\n",
    "import numpy as np\n",
    "from os.path import join, exists, basename, split\n",
    "from spectral import *\n",
    "\n",
    "from os import listdir\n",
    "from os.path import isfile, join\n",
    "from os import walk\n",
    "import glob\n",
    "from sklearn.model_selection import train_test_split\n",
    "from spectral import *\n",
    "\n",
    "print(tf.__version__)"
   ]
  },
  {
   "cell_type": "code",
   "execution_count": 15,
   "metadata": {},
   "outputs": [
    {
     "name": "stdout",
     "output_type": "stream",
     "text": [
      "1 Physical GPUs, 1 Logical GPUs\n"
     ]
    }
   ],
   "source": [
    "### Limit GPU Memory growth ###\n",
    "gpus = tf.config.experimental.list_physical_devices('GPU')\n",
    "if gpus:\n",
    "  try:\n",
    "    # Currently, memory growth needs to be the same across GPUs\n",
    "    for gpu in gpus:\n",
    "      tf.config.experimental.set_memory_growth(gpu, True)\n",
    "    logical_gpus = tf.config.experimental.list_logical_devices('GPU')\n",
    "    print(len(gpus), \"Physical GPUs,\", len(logical_gpus), \"Logical GPUs\")\n",
    "  except RuntimeError as e:\n",
    "    # Memory growth must be set before GPUs have been initialized\n",
    "    print(e)"
   ]
  },
  {
   "cell_type": "markdown",
   "metadata": {},
   "source": [
    "### Define Data loading Function ###"
   ]
  },
  {
   "cell_type": "code",
   "execution_count": 16,
   "metadata": {},
   "outputs": [],
   "source": [
    "def load_data(name):\n",
    "    images = []\n",
    "    \n",
    "    print(name+\"----------\")\n",
    "    datas = []\n",
    "    u = 0\n",
    "    \n",
    "    for filename in glob.glob(name+\"/*.npy\"):\n",
    "\n",
    "        datas.append(filename)\n",
    "        u = u + 1\n",
    "\n",
    "    print(\"Number of Samples :    \"+str(u))\n",
    "        \n",
    "    return datas"
   ]
  },
  {
   "cell_type": "code",
   "execution_count": 17,
   "metadata": {},
   "outputs": [
    {
     "name": "stdout",
     "output_type": "stream",
     "text": [
      "E:\\intermediate_notebooks\\hermi_combined----------\n",
      "Number of Samples :    1512\n"
     ]
    }
   ],
   "source": [
    "all_images = load_data(r\"E:\\intermediate_notebooks\\hermi_combined\");# List containing names (string) of the datasets in pavC"
   ]
  },
  {
   "cell_type": "markdown",
   "metadata": {},
   "source": [
    "### Define Training and Testing Data Split)"
   ]
  },
  {
   "cell_type": "code",
   "execution_count": 18,
   "metadata": {},
   "outputs": [],
   "source": [
    "np.random.seed(25)\n",
    "train_images, test_images = train_test_split(all_images, test_size=0.25, shuffle=True)"
   ]
  },
  {
   "cell_type": "code",
   "execution_count": 19,
   "metadata": {},
   "outputs": [
    {
     "name": "stdout",
     "output_type": "stream",
     "text": [
      "1134\n",
      "378\n"
     ]
    }
   ],
   "source": [
    "print(len(train_images))\n",
    "print(len(test_images))"
   ]
  },
  {
   "cell_type": "markdown",
   "metadata": {},
   "source": [
    "# Define batch and validation data generators ###"
   ]
  },
  {
   "cell_type": "code",
   "execution_count": 20,
   "metadata": {},
   "outputs": [],
   "source": [
    "def myBatchGenerator(batch_size, images):  \n",
    "    batch_counter = 0\n",
    "    save_batch = 0\n",
    "    while True:    \n",
    "        batch_image = []\n",
    "        batch_label = []\n",
    "        while batch_counter < batch_size + save_batch:\n",
    "            rand_ind = np.random.randint(len(images));#Random index number to access list\n",
    "\n",
    "            filename = images[batch_counter]\n",
    "            theImage = np.load(filename)\n",
    "            #The input image and the batch label should be the same in this case\n",
    "            \n",
    "            batch_image.append(theImage)\n",
    "            batch_label.append(theImage)\n",
    "            \n",
    "            #print(theImage.shape)\n",
    "            batch_counter = batch_counter + 1\n",
    "            #print(\"batch_counter : \"+str(batch_counter))\n",
    "        #print(\"batch_size + save_batch : \"+str(batch_size + save_batch))\n",
    "        if(batch_counter == len(images)-1 or (batch_size + save_batch) > len(images)-1):\n",
    "            batch_counter = 0\n",
    "            save_batch = 0\n",
    "            \n",
    "        save_batch = batch_counter\n",
    "        BI = np.array(batch_image)#.as...\n",
    "        BL = np.array(batch_label)#.astype(np.float32);#Batch labe\n",
    "        yield BI, BL"
   ]
  },
  {
   "cell_type": "code",
   "execution_count": 21,
   "metadata": {},
   "outputs": [],
   "source": [
    "def myValidGenerator(batch_size, images): #Load images in a non-random way\n",
    "    \n",
    "    batch_counter = 0\n",
    "    while True:\n",
    "        batch_image = []\n",
    "        batch_label = []\n",
    "        while batch_counter < batch_size:\n",
    "            rand_ind = np.random.randint(len(images));#Random index number to access list\n",
    "\n",
    "            filename = images[rand_ind]\n",
    "            #filename = images[batch_counter]\n",
    "            theImage = np.load(filename)\n",
    "\n",
    "            batch_image.append (theImage)\n",
    "            #print(theImage.shape)\n",
    "\n",
    "            batch_label.append(theImage)\n",
    "\n",
    "            batch_counter = batch_counter + 1\n",
    "        batch_counter = 0\n",
    "        \n",
    "        BI = np.array(batch_image)#.astype(np.float32);#Batch image\n",
    "#         print(\"Validation\")\n",
    "#         for i in range(len(batch_label)):\n",
    "#             print(batch_label[i].shape)\n",
    "            \n",
    "        BL = np.array(batch_label)#.astype(np.float32);#Batch labe\n",
    "        yield BI, BL;# Yield gives a sequence of values?"
   ]
  },
  {
   "cell_type": "markdown",
   "metadata": {},
   "source": [
    "#### Generate training and validation data from file ####"
   ]
  },
  {
   "cell_type": "code",
   "execution_count": 22,
   "metadata": {},
   "outputs": [],
   "source": [
    "BATCH_SIZE = 21; # Common divisor for 207 and 621\n",
    "train_batch = myBatchGenerator(BATCH_SIZE, train_images)\n",
    "test_batch = myValidGenerator(BATCH_SIZE, test_images)"
   ]
  },
  {
   "cell_type": "markdown",
   "metadata": {},
   "source": [
    "## Define custom loss function"
   ]
  },
  {
   "cell_type": "code",
   "execution_count": 23,
   "metadata": {},
   "outputs": [],
   "source": [
    "def loss_function_reconstruction_1D(y_reconstructed, y_target, func='SID'):\n",
    "    \"\"\" Reconstruction loss function op, comparing 1D tensors for network reconstruction and target.\n",
    "\n",
    "    Args:\n",
    "        y_reconstructed (tensor): Output of network (reconstructed 1D vector). Shape [numSamples x inputSize].\n",
    "        y_target (tensor): What the network is trying to reconstruct (1D vector). Shape [numSamples x inputSize].\n",
    "        func (string): The name of the loss function to be used. 'SSE'-sum of square errors,'CSA'-cosine spectral angle, \\\n",
    "            'SA'-spectral angle, 'SID'-spectral information divergence.\n",
    "\n",
    "    Returns:\n",
    "        (tensor): Reconstruction loss.\n",
    "    \"\"\"\n",
    "    if func == 'SSE':\n",
    "        # sum of squared errors loss\n",
    "        loss = tf.reduce_sum( tf.square(y_target - y_reconstructed) )\n",
    "\n",
    "    elif func == 'CSA':\n",
    "        # cosine of spectral angle loss\n",
    "        normalize_r = tf.math.l2_normalize(tf.transpose(y_reconstructed), axis=0)\n",
    "        normalize_t = tf.math.l2_normalize(tf.transpose(y_target), axis=0)\n",
    "        \n",
    "        loss = tf.reduce_sum( 1 - tf.reduce_sum(tf.multiply(normalize_r, normalize_t),axis=0 ) )\n",
    "\n",
    "    elif func == 'SA':\n",
    "        # spectral angle loss\n",
    "        normalize_r = tf.math.l2_normalize(tf.transpose(y_reconstructed),axis=0)\n",
    "        normalize_t = tf.math.l2_normalize(tf.transpose(y_target),axis=0)\n",
    "        loss = tf.reduce_sum( tf.math.acos(tf.reduce_sum(tf.multiply(normalize_r, normalize_t),axis=0 ) ) )\n",
    "\n",
    "    elif func == 'SID':\n",
    "        # spectral information divergence loss\n",
    "        loss = 0;\n",
    "        #y_target = y_target.numpy();\n",
    "        #y_reconstructed = y_reconstructed.numpy();#23, 64, 64, 102\n",
    "        \n",
    "        for i in range(23):\n",
    "            \n",
    "            y_tar_temp = y_target[i]#.numpy();#64x64x102\n",
    "            y_rec_temp = y_reconstructed[i]#.numpy();#64x64x102\n",
    "            y_tar_temp = tf.reshape(y_tar_temp, (-1, 102));#(64x64, 102)\n",
    "            y_rec_temp = tf.reshape(y_rec_temp, (-1, 102));#(64x64, 102)\n",
    "            print(tf.shape(y_tar_temp))\n",
    "            print(tf.shape(y_rec_temp))\n",
    "            t = tf.math.divide( tf.transpose(y_tar_temp) , tf.math.reduce_mean(tf.transpose(y_tar_temp)) )\n",
    "            r = tf.math.divide( tf.transpose(y_rec_temp) , tf.math.reduce_mean(tf.transpose(y_rec_temp)) )\n",
    "            loss += tf.math.reduce_mean(\n",
    "                tf.reduce_sum( tf.math.multiply(t,tf.math.log(tf.math.divide(t,r))) )\n",
    "                                  + tf.math.reduce_mean( tf.math.multiply(r,tf.math.log(tf.math.divide(r,t))) ) )\n",
    "            print(\"one-----------------------------\")\n",
    "            print(y_tar_temp)\n",
    "            \n",
    "            print(\"two---------------------------------\")\n",
    "            print(y_rec_temp)\n",
    "            \n",
    "            print(\"three------------------------\")\n",
    "            print(t)\n",
    "            \n",
    "            print(\"Loss------------------------\")\n",
    "            print(loss)\n",
    "            print(\" Index : \" + str(i))\n",
    "            \n",
    "        loss = loss/23\n",
    "        \n",
    "        return  loss\n",
    "    \n",
    "#     elif func == 'SID':\n",
    "#         # spectral information divergence loss\n",
    "        \n",
    "#         #y_target = y_target.numpy();\n",
    "#         #y_reconstructed = y_reconstructed.numpy();#23, 64, 64, 102\n",
    "        \n",
    "#         y_tar_temp = tf.reshape(y_target, (23, 64*64,102));#(64x64, 102)\n",
    "#         y_rec_temp = tf.reshape(y_reconstructed, (23, 64*64, 102));#(64x64, 102)\n",
    "#         t = tf.math.divide( tf.transpose(y_target) , tf.math.reduce_mean(tf.transpose(y_reconstructed),axis=0) )\n",
    "#         r = tf.math.divide( tf.transpose(y_reconstructed) , tf.math.reduce_mean(tf.transpose(y_reconstructed),axis=0) )\n",
    "#         loss = tf.math.reduce_mean( tf.reduce_sum( tf.math.multiply(t,tf.math.log(tf.math.divide(t,r))) , axis=0)\n",
    "#                                   + tf.math.reduce_mean( tf.math.multiply(r,tf.math.log(tf.math.divide(r,t))) , axis=0) )\n",
    "#         print(loss)\n",
    "#         return  loss\n",
    "                                    \n",
    "    elif func == 'MAE':\n",
    "        # sum of squared errors loss\n",
    "        loss = tf.reduce_mean( tf.math.abs(y_target - y_reconstructed) )\n",
    "        \n",
    "    elif func == 'SMS':\n",
    "        # Combined loss function of SID, SSE, SSE, MAE\n",
    "        y_target_sq = y_target.numpy()\n",
    "        y_recon_sq = y_reconstructed.numpy()\n",
    "        if (len(y_target.shape) == 4):\n",
    "            y_target_sq = np.squeeze(y_target)\n",
    "            print(\"Target has been squeezed!\")\n",
    "            print(y_target_sq.shape)\n",
    "        if (len(y_target.shape) == 4):\n",
    "            y_recon_sq = np.squeeze(y_reconstructed)\n",
    "            print(\"Recon has been squeezed!\")\n",
    "            print(y_recon_sq.shape)\n",
    "        y_target_re = tf.reshape(y_target_sq, (-1, y_target_sq.shape[2]))\n",
    "        y_recon_re = tf.reshape(y_recon_sq, (-1, y_recon_sq.shape[2]))\n",
    "        t = tf.math.divide( tf.transpose(y_target_re) , tf.math.reduce_mean(tf.transpose(y_target_re),axis=0) )\n",
    "        r = tf.math.divide( tf.transpose(y_recon_re) , tf.math.reduce_mean(tf.transpose(y_recon_re),axis=0) )\n",
    "        loss_1 = tf.math.reduce_mean( tf.math.reduce_mean( tf.math.multiply(t,tf.math.log(tf.math.divide(t,r))) , axis=0)\n",
    "                              + tf.math.reduce_mean( tf.math.multiply(r, tf.math.log(tf.math.divide(r,t))) , axis=0) )\n",
    "        loss = tf.reduce_mean( tf.math.abs(y_target - y_reconstructed) ) + loss_1;\n",
    "\n",
    "    else:\n",
    "        raise ValueError('unknown loss function: %s. Use SSE, CSA, SA or SID.' % func)\n",
    "\n",
    "    return loss"
   ]
  },
  {
   "cell_type": "markdown",
   "metadata": {},
   "source": [
    "## Define the encoder section of the AE ###"
   ]
  },
  {
   "cell_type": "code",
   "execution_count": 24,
   "metadata": {},
   "outputs": [
    {
     "name": "stdout",
     "output_type": "stream",
     "text": [
      "Model: \"functional_5\"\n",
      "_________________________________________________________________\n",
      "Layer (type)                 Output Shape              Param #   \n",
      "=================================================================\n",
      "input_2 (InputLayer)         [(None, 64, 64, 242)]     0         \n",
      "_________________________________________________________________\n",
      "conv2d_6 (Conv2D)            (None, 64, 64, 242)       2869878   \n",
      "_________________________________________________________________\n",
      "instance_normalization_11 (I (None, 64, 64, 242)       484       \n",
      "_________________________________________________________________\n",
      "conv2d_7 (Conv2D)            (None, 64, 64, 200)       1210200   \n",
      "_________________________________________________________________\n",
      "instance_normalization_12 (I (None, 64, 64, 200)       400       \n",
      "_________________________________________________________________\n",
      "conv2d_8 (Conv2D)            (None, 64, 64, 158)       790158    \n",
      "_________________________________________________________________\n",
      "instance_normalization_13 (I (None, 64, 64, 158)       316       \n",
      "_________________________________________________________________\n",
      "conv2d_9 (Conv2D)            (None, 64, 64, 116)       165068    \n",
      "_________________________________________________________________\n",
      "instance_normalization_14 (I (None, 64, 64, 116)       232       \n",
      "_________________________________________________________________\n",
      "conv2d_10 (Conv2D)           (None, 64, 64, 74)        77330     \n",
      "_________________________________________________________________\n",
      "instance_normalization_15 (I (None, 64, 64, 74)        148       \n",
      "_________________________________________________________________\n",
      "conv2d_11 (Conv2D)           (None, 64, 64, 32)        21344     \n",
      "_________________________________________________________________\n",
      "dropout_1 (Dropout)          (None, 64, 64, 32)        0         \n",
      "_________________________________________________________________\n",
      "instance_normalization_16 (I (None, 64, 64, 32)        64        \n",
      "=================================================================\n",
      "Total params: 5,135,622\n",
      "Trainable params: 5,135,622\n",
      "Non-trainable params: 0\n",
      "_________________________________________________________________\n"
     ]
    }
   ],
   "source": [
    "input_shape = (64, 64, 242)\n",
    "theInput = Input(input_shape)\n",
    "\n",
    "convAE = Conv2D(filters = 242, kernel_size = (7, 7), padding='same', activation = LeakyReLU())(theInput)\n",
    "convAE = InstanceNormalization(axis=3, center=True, scale=True, beta_initializer='random_uniform', gamma_initializer='random_uniform')(convAE)\n",
    "convAE = Conv2D(filters = 200, kernel_size = (5, 5), padding='same', activation = LeakyReLU())(convAE)\n",
    "convAE = InstanceNormalization(axis=3, center=True, scale=True, beta_initializer='random_uniform', gamma_initializer='random_uniform')(convAE)\n",
    "convAE = Conv2D(filters = 158, kernel_size = (5, 5), padding='same', activation = LeakyReLU())(convAE)\n",
    "convAE = InstanceNormalization(axis=3, center=True, scale=True, beta_initializer='random_uniform', gamma_initializer='random_uniform')(convAE)\n",
    "convAE = Conv2D(filters = 116, kernel_size = (3, 3), padding='same', activation = LeakyReLU())(convAE)\n",
    "convAE = InstanceNormalization(axis=3, center=True, scale=True, beta_initializer='random_uniform', gamma_initializer='random_uniform')(convAE)\n",
    "convAE = Conv2D(filters = 74, kernel_size = (3, 3), padding='same', activation = LeakyReLU())(convAE)\n",
    "convAE = InstanceNormalization(axis=3, center=True, scale=True, beta_initializer='random_uniform', gamma_initializer='random_uniform')(convAE)\n",
    "convAE = Conv2D(filters = 32, kernel_size = (3, 3), padding='same', activation = LeakyReLU())(convAE)\n",
    "convAE = Dropout(0.5)(convAE)\n",
    "convAE = InstanceNormalization(axis=3, center=True, scale=True, beta_initializer='random_uniform', gamma_initializer='random_uniform')(convAE)\n",
    "\n",
    "encoder_2d = Model(inputs = theInput, outputs = convAE);\n",
    "encoder_2d.summary();"
   ]
  },
  {
   "cell_type": "markdown",
   "metadata": {},
   "source": [
    "## Define Decoder ####"
   ]
  },
  {
   "cell_type": "code",
   "execution_count": 25,
   "metadata": {},
   "outputs": [
    {
     "name": "stdout",
     "output_type": "stream",
     "text": [
      "Model: \"functional_7\"\n",
      "_________________________________________________________________\n",
      "Layer (type)                 Output Shape              Param #   \n",
      "=================================================================\n",
      "input_2 (InputLayer)         [(None, 64, 64, 242)]     0         \n",
      "_________________________________________________________________\n",
      "conv2d_6 (Conv2D)            (None, 64, 64, 242)       2869878   \n",
      "_________________________________________________________________\n",
      "instance_normalization_11 (I (None, 64, 64, 242)       484       \n",
      "_________________________________________________________________\n",
      "conv2d_7 (Conv2D)            (None, 64, 64, 200)       1210200   \n",
      "_________________________________________________________________\n",
      "instance_normalization_12 (I (None, 64, 64, 200)       400       \n",
      "_________________________________________________________________\n",
      "conv2d_8 (Conv2D)            (None, 64, 64, 158)       790158    \n",
      "_________________________________________________________________\n",
      "instance_normalization_13 (I (None, 64, 64, 158)       316       \n",
      "_________________________________________________________________\n",
      "conv2d_9 (Conv2D)            (None, 64, 64, 116)       165068    \n",
      "_________________________________________________________________\n",
      "instance_normalization_14 (I (None, 64, 64, 116)       232       \n",
      "_________________________________________________________________\n",
      "conv2d_10 (Conv2D)           (None, 64, 64, 74)        77330     \n",
      "_________________________________________________________________\n",
      "instance_normalization_15 (I (None, 64, 64, 74)        148       \n",
      "_________________________________________________________________\n",
      "conv2d_11 (Conv2D)           (None, 64, 64, 32)        21344     \n",
      "_________________________________________________________________\n",
      "dropout_1 (Dropout)          (None, 64, 64, 32)        0         \n",
      "_________________________________________________________________\n",
      "instance_normalization_16 (I (None, 64, 64, 32)        64        \n",
      "_________________________________________________________________\n",
      "conv2d_transpose_6 (Conv2DTr (None, 64, 64, 32)        9248      \n",
      "_________________________________________________________________\n",
      "instance_normalization_17 (I (None, 64, 64, 32)        64        \n",
      "_________________________________________________________________\n",
      "conv2d_transpose_7 (Conv2DTr (None, 64, 64, 74)        21386     \n",
      "_________________________________________________________________\n",
      "instance_normalization_18 (I (None, 64, 64, 74)        148       \n",
      "_________________________________________________________________\n",
      "conv2d_transpose_8 (Conv2DTr (None, 64, 64, 116)       77372     \n",
      "_________________________________________________________________\n",
      "instance_normalization_19 (I (None, 64, 64, 116)       232       \n",
      "_________________________________________________________________\n",
      "conv2d_transpose_9 (Conv2DTr (None, 64, 64, 158)       458358    \n",
      "_________________________________________________________________\n",
      "instance_normalization_20 (I (None, 64, 64, 158)       316       \n",
      "_________________________________________________________________\n",
      "conv2d_transpose_10 (Conv2DT (None, 64, 64, 200)       790200    \n",
      "_________________________________________________________________\n",
      "instance_normalization_21 (I (None, 64, 64, 200)       400       \n",
      "_________________________________________________________________\n",
      "conv2d_transpose_11 (Conv2DT (None, 64, 64, 242)       2371842   \n",
      "=================================================================\n",
      "Total params: 8,865,188\n",
      "Trainable params: 8,865,188\n",
      "Non-trainable params: 0\n",
      "_________________________________________________________________\n"
     ]
    }
   ],
   "source": [
    "convAE = Conv2DTranspose(filters = 32, kernel_size = (3, 3), padding='same', activation = LeakyReLU())(convAE)\n",
    "convAE = InstanceNormalization(axis=3, center=True, scale=True, beta_initializer='random_uniform', gamma_initializer='random_uniform')(convAE);\n",
    "convAE = Conv2DTranspose(filters = 74, kernel_size = (3, 3), padding='same', activation = LeakyReLU())(convAE)\n",
    "convAE = InstanceNormalization(axis=3, center=True, scale=True, beta_initializer='random_uniform', gamma_initializer='random_uniform')(convAE);\n",
    "convAE = Conv2DTranspose(filters = 116, kernel_size = (3, 3), padding='same', activation = LeakyReLU())(convAE)\n",
    "convAE = InstanceNormalization(axis=3, center=True, scale=True, beta_initializer='random_uniform', gamma_initializer='random_uniform')(convAE);\n",
    "convAE = Conv2DTranspose(filters = 158, kernel_size = (5, 5), padding='same', activation = LeakyReLU())(convAE)\n",
    "convAE = InstanceNormalization(axis=3, center=True, scale=True, beta_initializer='random_uniform', gamma_initializer='random_uniform')(convAE);\n",
    "convAE = Conv2DTranspose(filters = 200, kernel_size = (5, 5), padding='same', activation = LeakyReLU())(convAE)\n",
    "convAE = InstanceNormalization(axis=3, center=True, scale=True, beta_initializer='random_uniform', gamma_initializer='random_uniform')(convAE);\n",
    "convAE = Conv2DTranspose(filters = 242, kernel_size = (7, 7), padding='same', activation = \"tanh\")(convAE)\n",
    "#drop = Dropout(0.5)(conv2d_6)\n",
    "#instance_6 = InstanceNormalization(axis=3, center=True, scale=True, beta_initializer='random_uniform', gamma_initializer='random_uniform')(drop);\n",
    "ae_combined = tf.keras.Model(inputs = theInput, outputs = convAE);\n",
    "ae_combined.summary();"
   ]
  },
  {
   "cell_type": "markdown",
   "metadata": {},
   "source": [
    "## Define training log paths ##"
   ]
  },
  {
   "cell_type": "code",
   "execution_count": 26,
   "metadata": {},
   "outputs": [
    {
     "data": {
      "text/plain": [
       "WindowsPath('E:/dim_reduc_desktop1_cae/dim_reduc_hermi/tensorboard_logs')"
      ]
     },
     "execution_count": 26,
     "metadata": {},
     "output_type": "execute_result"
    }
   ],
   "source": [
    "logdir = pathlib.Path(r\"E:\\dim_reduc_desktop1_cae\\dim_reduc_hermi\")/\"tensorboard_logs\"\n",
    "shutil.rmtree(logdir, ignore_errors=True)\n",
    "logdir"
   ]
  },
  {
   "cell_type": "markdown",
   "metadata": {},
   "source": [
    "## Define training callbacks"
   ]
  },
  {
   "cell_type": "code",
   "execution_count": 28,
   "metadata": {},
   "outputs": [],
   "source": [
    "def get_callbacks(name):\n",
    "  return [\n",
    "    tfdocs.modeling.EpochDots(),\n",
    "    tf.keras.callbacks.EarlyStopping(monitor='mae', patience=20),\n",
    "    tf.keras.callbacks.TensorBoard(logdir/name),\n",
    "    tf.keras.callbacks.ModelCheckpoint(\n",
    "        \"hermi_dim_reduc_cae_v1.h5\", monitor='val_loss', verbose=1, save_best_only=True,\n",
    "         mode='min')\n",
    "  ]"
   ]
  },
  {
   "cell_type": "code",
   "execution_count": 19,
   "metadata": {},
   "outputs": [],
   "source": [
    "ae_combined.compile(optimizer = 'adam', loss = 'mae', metrics = \"mae\")"
   ]
  },
  {
   "cell_type": "code",
   "execution_count": null,
   "metadata": {
    "scrolled": true
   },
   "outputs": [
    {
     "name": "stdout",
     "output_type": "stream",
     "text": [
      "Epoch 1/30\n",
      " 1/54 [..............................] - ETA: 0s - loss: 0.1092 - mae: 0.1092WARNING:tensorflow:From c:\\users\\cvr 2019 2020\\anaconda3\\envs\\tf2\\lib\\site-packages\\tensorflow\\python\\ops\\summary_ops_v2.py:1277: stop (from tensorflow.python.eager.profiler) is deprecated and will be removed after 2020-07-01.\n",
      "Instructions for updating:\n",
      "use `tf.profiler.experimental.stop` instead.\n",
      " 2/54 [>.............................] - ETA: 21s - loss: 0.1260 - mae: 0.1260WARNING:tensorflow:Callbacks method `on_train_batch_end` is slow compared to the batch time (batch time: 0.1890s vs `on_train_batch_end` time: 0.6070s). Check your callbacks.\n",
      "54/54 [==============================] - ETA: 0s - loss: 0.0424 - mae: 0.0424\n",
      "Epoch: 0, loss:0.0424,  mae:0.0424,  val_loss:0.0293,  val_mae:0.0293,  \n",
      ".\n",
      "Epoch 00001: val_loss improved from inf to 0.02934, saving model to hermi_dim_reduc_cae_v1.h5\n",
      "54/54 [==============================] - 43s 796ms/step - loss: 0.0424 - mae: 0.0424 - val_loss: 0.0293 - val_mae: 0.0293\n",
      "Epoch 2/30\n",
      "54/54 [==============================] - ETA: 0s - loss: 0.0265 - mae: 0.0265.\n",
      "Epoch 00002: val_loss improved from 0.02934 to 0.02230, saving model to hermi_dim_reduc_cae_v1.h5\n",
      "54/54 [==============================] - 336s 6s/step - loss: 0.0265 - mae: 0.0265 - val_loss: 0.0223 - val_mae: 0.0223\n",
      "Epoch 3/30\n",
      "54/54 [==============================] - ETA: 0s - loss: 0.0236 - mae: 0.0236 .\n",
      "Epoch 00003: val_loss improved from 0.02230 to 0.02207, saving model to hermi_dim_reduc_cae_v1.h5\n",
      "54/54 [==============================] - 611s 11s/step - loss: 0.0236 - mae: 0.0236 - val_loss: 0.0221 - val_mae: 0.0221\n",
      "Epoch 4/30\n",
      "54/54 [==============================] - ETA: 0s - loss: 0.0173 - mae: 0.0173 .\n",
      "Epoch 00004: val_loss improved from 0.02207 to 0.01525, saving model to hermi_dim_reduc_cae_v1.h5\n",
      "54/54 [==============================] - 608s 11s/step - loss: 0.0173 - mae: 0.0173 - val_loss: 0.0153 - val_mae: 0.0153\n",
      "Epoch 5/30\n",
      "54/54 [==============================] - ETA: 0s - loss: 0.0149 - mae: 0.0149 .\n",
      "Epoch 00005: val_loss improved from 0.01525 to 0.01323, saving model to hermi_dim_reduc_cae_v1.h5\n",
      "54/54 [==============================] - 611s 11s/step - loss: 0.0149 - mae: 0.0149 - val_loss: 0.0132 - val_mae: 0.0132\n",
      "Epoch 6/30\n",
      "54/54 [==============================] - ETA: 0s - loss: 0.0126 - mae: 0.0126 .\n",
      "Epoch 00006: val_loss improved from 0.01323 to 0.01250, saving model to hermi_dim_reduc_cae_v1.h5\n",
      "54/54 [==============================] - 608s 11s/step - loss: 0.0126 - mae: 0.0126 - val_loss: 0.0125 - val_mae: 0.0125\n",
      "Epoch 7/30\n",
      "54/54 [==============================] - ETA: 0s - loss: 0.0115 - mae: 0.0115 .\n",
      "Epoch 00007: val_loss improved from 0.01250 to 0.01029, saving model to hermi_dim_reduc_cae_v1.h5\n",
      "54/54 [==============================] - 608s 11s/step - loss: 0.0115 - mae: 0.0115 - val_loss: 0.0103 - val_mae: 0.0103\n",
      "Epoch 8/30\n",
      "54/54 [==============================] - ETA: 0s - loss: 0.0104 - mae: 0.0104 .\n",
      "Epoch 00008: val_loss improved from 0.01029 to 0.00927, saving model to hermi_dim_reduc_cae_v1.h5\n",
      "54/54 [==============================] - 606s 11s/step - loss: 0.0104 - mae: 0.0104 - val_loss: 0.0093 - val_mae: 0.0093\n",
      "Epoch 9/30\n",
      "54/54 [==============================] - ETA: 0s - loss: 0.0098 - mae: 0.0098 .\n",
      "Epoch 00009: val_loss improved from 0.00927 to 0.00888, saving model to hermi_dim_reduc_cae_v1.h5\n",
      "54/54 [==============================] - 607s 11s/step - loss: 0.0098 - mae: 0.0098 - val_loss: 0.0089 - val_mae: 0.0089\n",
      "Epoch 10/30\n",
      "54/54 [==============================] - ETA: 0s - loss: 0.0091 - mae: 0.0091 .\n",
      "Epoch 00010: val_loss did not improve from 0.00888\n",
      "54/54 [==============================] - 608s 11s/step - loss: 0.0091 - mae: 0.0091 - val_loss: 0.0096 - val_mae: 0.0096\n",
      "Epoch 11/30\n",
      "54/54 [==============================] - ETA: 0s - loss: 0.0087 - mae: 0.0087 .\n",
      "Epoch 00011: val_loss improved from 0.00888 to 0.00789, saving model to hermi_dim_reduc_cae_v1.h5\n",
      "54/54 [==============================] - 610s 11s/step - loss: 0.0087 - mae: 0.0087 - val_loss: 0.0079 - val_mae: 0.0079\n",
      "Epoch 12/30\n",
      "23/54 [===========>..................] - ETA: 5:38 - loss: 0.0084 - mae: 0.0084"
     ]
    }
   ],
   "source": [
    "history_v1 = ae_combined.fit(train_batch, \n",
    "                          steps_per_epoch=54, \n",
    "                          epochs=30, \n",
    "                          verbose=1,\n",
    "                          validation_data=test_batch, \n",
    "                          validation_steps=1,\n",
    "                          callbacks = get_callbacks(\"updated\")\n",
    "                          )"
   ]
  },
  {
   "cell_type": "code",
   "execution_count": 27,
   "metadata": {
    "scrolled": true
   },
   "outputs": [
    {
     "name": "stderr",
     "output_type": "stream",
     "text": [
      "WARNING:root:The given value for groups will be overwritten.\n",
      "WARNING:root:The given value for groups will be overwritten.\n",
      "WARNING:root:The given value for groups will be overwritten.\n",
      "WARNING:root:The given value for groups will be overwritten.\n",
      "WARNING:root:The given value for groups will be overwritten.\n",
      "WARNING:root:The given value for groups will be overwritten.\n",
      "WARNING:root:The given value for groups will be overwritten.\n",
      "WARNING:root:The given value for groups will be overwritten.\n",
      "WARNING:root:The given value for groups will be overwritten.\n",
      "WARNING:root:The given value for groups will be overwritten.\n",
      "WARNING:root:The given value for groups will be overwritten.\n"
     ]
    }
   ],
   "source": [
    "cae_chkpt = load_model(\"hermi_dim_reduc_cae_v1.h5\", custom_objects={\"LeakyReLU\":LeakyReLU()})"
   ]
  },
  {
   "cell_type": "code",
   "execution_count": 29,
   "metadata": {},
   "outputs": [
    {
     "name": "stdout",
     "output_type": "stream",
     "text": [
      "Epoch 1/30\n",
      " 1/54 [..............................] - ETA: 0s - loss: 0.0079 - mean_absolute_error: 0.0079WARNING:tensorflow:From c:\\users\\cvr 2019 2020\\anaconda3\\envs\\tf2\\lib\\site-packages\\tensorflow\\python\\ops\\summary_ops_v2.py:1277: stop (from tensorflow.python.eager.profiler) is deprecated and will be removed after 2020-07-01.\n",
      "Instructions for updating:\n",
      "use `tf.profiler.experimental.stop` instead.\n"
     ]
    },
    {
     "name": "stderr",
     "output_type": "stream",
     "text": [
      "WARNING:tensorflow:From c:\\users\\cvr 2019 2020\\anaconda3\\envs\\tf2\\lib\\site-packages\\tensorflow\\python\\ops\\summary_ops_v2.py:1277: stop (from tensorflow.python.eager.profiler) is deprecated and will be removed after 2020-07-01.\n",
      "Instructions for updating:\n",
      "use `tf.profiler.experimental.stop` instead.\n"
     ]
    },
    {
     "name": "stdout",
     "output_type": "stream",
     "text": [
      " 2/54 [>.............................] - ETA: 18s - loss: 0.0079 - mean_absolute_error: 0.0079WARNING:tensorflow:Callbacks method `on_train_batch_end` is slow compared to the batch time (batch time: 0.1983s vs `on_train_batch_end` time: 0.4945s). Check your callbacks.\n"
     ]
    },
    {
     "name": "stderr",
     "output_type": "stream",
     "text": [
      "WARNING:tensorflow:Callbacks method `on_train_batch_end` is slow compared to the batch time (batch time: 0.1983s vs `on_train_batch_end` time: 0.4945s). Check your callbacks.\n"
     ]
    },
    {
     "name": "stdout",
     "output_type": "stream",
     "text": [
      "54/54 [==============================] - ETA: 0s - loss: 0.0081 - mean_absolute_error: 0.0081\n",
      "Epoch: 0, loss:0.0081,  mean_absolute_error:0.0081,  val_loss:0.0074,  val_mean_absolute_error:0.0074,  \n",
      ".WARNING:tensorflow:Early stopping conditioned on metric `mae` which is not available. Available metrics are: loss,mean_absolute_error,val_loss,val_mean_absolute_error\n"
     ]
    },
    {
     "name": "stderr",
     "output_type": "stream",
     "text": [
      "WARNING:tensorflow:Early stopping conditioned on metric `mae` which is not available. Available metrics are: loss,mean_absolute_error,val_loss,val_mean_absolute_error\n"
     ]
    },
    {
     "name": "stdout",
     "output_type": "stream",
     "text": [
      "\n",
      "Epoch 00001: val_loss improved from inf to 0.00741, saving model to hermi_dim_reduc_cae_v1.h5\n",
      "54/54 [==============================] - 38s 705ms/step - loss: 0.0081 - mean_absolute_error: 0.0081 - val_loss: 0.0074 - val_mean_absolute_error: 0.0074\n",
      "Epoch 2/30\n",
      "54/54 [==============================] - ETA: 0s - loss: 0.0084 - mean_absolute_error: 0.0084.WARNING:tensorflow:Early stopping conditioned on metric `mae` which is not available. Available metrics are: loss,mean_absolute_error,val_loss,val_mean_absolute_error\n"
     ]
    },
    {
     "name": "stderr",
     "output_type": "stream",
     "text": [
      "WARNING:tensorflow:Early stopping conditioned on metric `mae` which is not available. Available metrics are: loss,mean_absolute_error,val_loss,val_mean_absolute_error\n"
     ]
    },
    {
     "name": "stdout",
     "output_type": "stream",
     "text": [
      "\n",
      "Epoch 00002: val_loss did not improve from 0.00741\n",
      "54/54 [==============================] - 36s 660ms/step - loss: 0.0084 - mean_absolute_error: 0.0084 - val_loss: 0.0087 - val_mean_absolute_error: 0.0087\n",
      "Epoch 3/30\n",
      "54/54 [==============================] - ETA: 0s - loss: 0.0084 - mean_absolute_error: 0.0084.WARNING:tensorflow:Early stopping conditioned on metric `mae` which is not available. Available metrics are: loss,mean_absolute_error,val_loss,val_mean_absolute_error\n"
     ]
    },
    {
     "name": "stderr",
     "output_type": "stream",
     "text": [
      "WARNING:tensorflow:Early stopping conditioned on metric `mae` which is not available. Available metrics are: loss,mean_absolute_error,val_loss,val_mean_absolute_error\n"
     ]
    },
    {
     "name": "stdout",
     "output_type": "stream",
     "text": [
      "\n",
      "Epoch 00003: val_loss did not improve from 0.00741\n",
      "54/54 [==============================] - 35s 655ms/step - loss: 0.0084 - mean_absolute_error: 0.0084 - val_loss: 0.0079 - val_mean_absolute_error: 0.0079\n",
      "Epoch 4/30\n",
      "54/54 [==============================] - ETA: 0s - loss: 0.0077 - mean_absolute_error: 0.0077.WARNING:tensorflow:Early stopping conditioned on metric `mae` which is not available. Available metrics are: loss,mean_absolute_error,val_loss,val_mean_absolute_error\n"
     ]
    },
    {
     "name": "stderr",
     "output_type": "stream",
     "text": [
      "WARNING:tensorflow:Early stopping conditioned on metric `mae` which is not available. Available metrics are: loss,mean_absolute_error,val_loss,val_mean_absolute_error\n"
     ]
    },
    {
     "name": "stdout",
     "output_type": "stream",
     "text": [
      "\n",
      "Epoch 00004: val_loss improved from 0.00741 to 0.00681, saving model to hermi_dim_reduc_cae_v1.h5\n",
      "54/54 [==============================] - 36s 672ms/step - loss: 0.0077 - mean_absolute_error: 0.0077 - val_loss: 0.0068 - val_mean_absolute_error: 0.0068\n",
      "Epoch 5/30\n",
      "54/54 [==============================] - ETA: 0s - loss: 0.0072 - mean_absolute_error: 0.0072.WARNING:tensorflow:Early stopping conditioned on metric `mae` which is not available. Available metrics are: loss,mean_absolute_error,val_loss,val_mean_absolute_error\n"
     ]
    },
    {
     "name": "stderr",
     "output_type": "stream",
     "text": [
      "WARNING:tensorflow:Early stopping conditioned on metric `mae` which is not available. Available metrics are: loss,mean_absolute_error,val_loss,val_mean_absolute_error\n"
     ]
    },
    {
     "name": "stdout",
     "output_type": "stream",
     "text": [
      "\n",
      "Epoch 00005: val_loss did not improve from 0.00681\n",
      "54/54 [==============================] - 36s 671ms/step - loss: 0.0072 - mean_absolute_error: 0.0072 - val_loss: 0.0069 - val_mean_absolute_error: 0.0069\n",
      "Epoch 6/30\n",
      "54/54 [==============================] - ETA: 0s - loss: 0.0069 - mean_absolute_error: 0.0069.WARNING:tensorflow:Early stopping conditioned on metric `mae` which is not available. Available metrics are: loss,mean_absolute_error,val_loss,val_mean_absolute_error\n"
     ]
    },
    {
     "name": "stderr",
     "output_type": "stream",
     "text": [
      "WARNING:tensorflow:Early stopping conditioned on metric `mae` which is not available. Available metrics are: loss,mean_absolute_error,val_loss,val_mean_absolute_error\n"
     ]
    },
    {
     "name": "stdout",
     "output_type": "stream",
     "text": [
      "\n",
      "Epoch 00006: val_loss did not improve from 0.00681\n",
      "54/54 [==============================] - 36s 661ms/step - loss: 0.0069 - mean_absolute_error: 0.0069 - val_loss: 0.0069 - val_mean_absolute_error: 0.0069\n",
      "Epoch 7/30\n",
      "54/54 [==============================] - ETA: 0s - loss: 0.0070 - mean_absolute_error: 0.0070.WARNING:tensorflow:Early stopping conditioned on metric `mae` which is not available. Available metrics are: loss,mean_absolute_error,val_loss,val_mean_absolute_error\n"
     ]
    },
    {
     "name": "stderr",
     "output_type": "stream",
     "text": [
      "WARNING:tensorflow:Early stopping conditioned on metric `mae` which is not available. Available metrics are: loss,mean_absolute_error,val_loss,val_mean_absolute_error\n"
     ]
    },
    {
     "name": "stdout",
     "output_type": "stream",
     "text": [
      "\n",
      "Epoch 00007: val_loss improved from 0.00681 to 0.00656, saving model to hermi_dim_reduc_cae_v1.h5\n",
      "54/54 [==============================] - 36s 661ms/step - loss: 0.0070 - mean_absolute_error: 0.0070 - val_loss: 0.0066 - val_mean_absolute_error: 0.0066\n",
      "Epoch 8/30\n",
      "54/54 [==============================] - ETA: 0s - loss: 0.0070 - mean_absolute_error: 0.0070.WARNING:tensorflow:Early stopping conditioned on metric `mae` which is not available. Available metrics are: loss,mean_absolute_error,val_loss,val_mean_absolute_error\n"
     ]
    },
    {
     "name": "stderr",
     "output_type": "stream",
     "text": [
      "WARNING:tensorflow:Early stopping conditioned on metric `mae` which is not available. Available metrics are: loss,mean_absolute_error,val_loss,val_mean_absolute_error\n"
     ]
    },
    {
     "name": "stdout",
     "output_type": "stream",
     "text": [
      "\n",
      "Epoch 00008: val_loss did not improve from 0.00656\n",
      "54/54 [==============================] - 36s 661ms/step - loss: 0.0070 - mean_absolute_error: 0.0070 - val_loss: 0.0074 - val_mean_absolute_error: 0.0074\n",
      "Epoch 9/30\n",
      "54/54 [==============================] - ETA: 0s - loss: 0.0065 - mean_absolute_error: 0.0065.WARNING:tensorflow:Early stopping conditioned on metric `mae` which is not available. Available metrics are: loss,mean_absolute_error,val_loss,val_mean_absolute_error\n"
     ]
    },
    {
     "name": "stderr",
     "output_type": "stream",
     "text": [
      "WARNING:tensorflow:Early stopping conditioned on metric `mae` which is not available. Available metrics are: loss,mean_absolute_error,val_loss,val_mean_absolute_error\n"
     ]
    },
    {
     "name": "stdout",
     "output_type": "stream",
     "text": [
      "\n",
      "Epoch 00009: val_loss improved from 0.00656 to 0.00617, saving model to hermi_dim_reduc_cae_v1.h5\n",
      "54/54 [==============================] - 37s 677ms/step - loss: 0.0065 - mean_absolute_error: 0.0065 - val_loss: 0.0062 - val_mean_absolute_error: 0.0062\n",
      "Epoch 10/30\n",
      "54/54 [==============================] - ETA: 0s - loss: 0.0070 - mean_absolute_error: 0.0070.WARNING:tensorflow:Early stopping conditioned on metric `mae` which is not available. Available metrics are: loss,mean_absolute_error,val_loss,val_mean_absolute_error\n"
     ]
    },
    {
     "name": "stderr",
     "output_type": "stream",
     "text": [
      "WARNING:tensorflow:Early stopping conditioned on metric `mae` which is not available. Available metrics are: loss,mean_absolute_error,val_loss,val_mean_absolute_error\n"
     ]
    },
    {
     "name": "stdout",
     "output_type": "stream",
     "text": [
      "\n",
      "Epoch 00010: val_loss did not improve from 0.00617\n",
      "54/54 [==============================] - 37s 683ms/step - loss: 0.0070 - mean_absolute_error: 0.0070 - val_loss: 0.0068 - val_mean_absolute_error: 0.0068\n",
      "Epoch 11/30\n",
      "54/54 [==============================] - ETA: 0s - loss: 0.0069 - mean_absolute_error: 0.0069.WARNING:tensorflow:Early stopping conditioned on metric `mae` which is not available. Available metrics are: loss,mean_absolute_error,val_loss,val_mean_absolute_error\n"
     ]
    },
    {
     "name": "stderr",
     "output_type": "stream",
     "text": [
      "WARNING:tensorflow:Early stopping conditioned on metric `mae` which is not available. Available metrics are: loss,mean_absolute_error,val_loss,val_mean_absolute_error\n"
     ]
    },
    {
     "name": "stdout",
     "output_type": "stream",
     "text": [
      "\n",
      "Epoch 00011: val_loss did not improve from 0.00617\n",
      "54/54 [==============================] - 36s 674ms/step - loss: 0.0069 - mean_absolute_error: 0.0069 - val_loss: 0.0072 - val_mean_absolute_error: 0.0072\n",
      "Epoch 12/30\n",
      "54/54 [==============================] - ETA: 0s - loss: 0.0069 - mean_absolute_error: 0.0069.WARNING:tensorflow:Early stopping conditioned on metric `mae` which is not available. Available metrics are: loss,mean_absolute_error,val_loss,val_mean_absolute_error\n"
     ]
    },
    {
     "name": "stderr",
     "output_type": "stream",
     "text": [
      "WARNING:tensorflow:Early stopping conditioned on metric `mae` which is not available. Available metrics are: loss,mean_absolute_error,val_loss,val_mean_absolute_error\n"
     ]
    },
    {
     "name": "stdout",
     "output_type": "stream",
     "text": [
      "\n",
      "Epoch 00012: val_loss did not improve from 0.00617\n",
      "54/54 [==============================] - 37s 676ms/step - loss: 0.0069 - mean_absolute_error: 0.0069 - val_loss: 0.0075 - val_mean_absolute_error: 0.0075\n",
      "Epoch 13/30\n",
      "54/54 [==============================] - ETA: 0s - loss: 0.0064 - mean_absolute_error: 0.0064.WARNING:tensorflow:Early stopping conditioned on metric `mae` which is not available. Available metrics are: loss,mean_absolute_error,val_loss,val_mean_absolute_error\n"
     ]
    },
    {
     "name": "stderr",
     "output_type": "stream",
     "text": [
      "WARNING:tensorflow:Early stopping conditioned on metric `mae` which is not available. Available metrics are: loss,mean_absolute_error,val_loss,val_mean_absolute_error\n"
     ]
    },
    {
     "name": "stdout",
     "output_type": "stream",
     "text": [
      "\n",
      "Epoch 00013: val_loss did not improve from 0.00617\n",
      "54/54 [==============================] - 37s 687ms/step - loss: 0.0064 - mean_absolute_error: 0.0064 - val_loss: 0.0062 - val_mean_absolute_error: 0.0062\n",
      "Epoch 14/30\n",
      "54/54 [==============================] - ETA: 0s - loss: 0.0063 - mean_absolute_error: 0.0063.WARNING:tensorflow:Early stopping conditioned on metric `mae` which is not available. Available metrics are: loss,mean_absolute_error,val_loss,val_mean_absolute_error\n"
     ]
    },
    {
     "name": "stderr",
     "output_type": "stream",
     "text": [
      "WARNING:tensorflow:Early stopping conditioned on metric `mae` which is not available. Available metrics are: loss,mean_absolute_error,val_loss,val_mean_absolute_error\n"
     ]
    },
    {
     "name": "stdout",
     "output_type": "stream",
     "text": [
      "\n",
      "Epoch 00014: val_loss improved from 0.00617 to 0.00599, saving model to hermi_dim_reduc_cae_v1.h5\n",
      "54/54 [==============================] - 49s 903ms/step - loss: 0.0063 - mean_absolute_error: 0.0063 - val_loss: 0.0060 - val_mean_absolute_error: 0.0060\n",
      "Epoch 15/30\n",
      "54/54 [==============================] - ETA: 0s - loss: 0.0058 - mean_absolute_error: 0.0058.WARNING:tensorflow:Early stopping conditioned on metric `mae` which is not available. Available metrics are: loss,mean_absolute_error,val_loss,val_mean_absolute_error\n"
     ]
    },
    {
     "name": "stderr",
     "output_type": "stream",
     "text": [
      "WARNING:tensorflow:Early stopping conditioned on metric `mae` which is not available. Available metrics are: loss,mean_absolute_error,val_loss,val_mean_absolute_error\n"
     ]
    },
    {
     "name": "stdout",
     "output_type": "stream",
     "text": [
      "\n",
      "Epoch 00015: val_loss improved from 0.00599 to 0.00501, saving model to hermi_dim_reduc_cae_v1.h5\n",
      "54/54 [==============================] - 38s 699ms/step - loss: 0.0058 - mean_absolute_error: 0.0058 - val_loss: 0.0050 - val_mean_absolute_error: 0.0050\n",
      "Epoch 16/30\n",
      "54/54 [==============================] - ETA: 0s - loss: 0.0057 - mean_absolute_error: 0.0057.WARNING:tensorflow:Early stopping conditioned on metric `mae` which is not available. Available metrics are: loss,mean_absolute_error,val_loss,val_mean_absolute_error\n"
     ]
    },
    {
     "name": "stderr",
     "output_type": "stream",
     "text": [
      "WARNING:tensorflow:Early stopping conditioned on metric `mae` which is not available. Available metrics are: loss,mean_absolute_error,val_loss,val_mean_absolute_error\n"
     ]
    },
    {
     "name": "stdout",
     "output_type": "stream",
     "text": [
      "\n",
      "Epoch 00016: val_loss did not improve from 0.00501\n",
      "54/54 [==============================] - 36s 676ms/step - loss: 0.0057 - mean_absolute_error: 0.0057 - val_loss: 0.0057 - val_mean_absolute_error: 0.0057\n",
      "Epoch 17/30\n",
      "54/54 [==============================] - ETA: 0s - loss: 0.0061 - mean_absolute_error: 0.0061.WARNING:tensorflow:Early stopping conditioned on metric `mae` which is not available. Available metrics are: loss,mean_absolute_error,val_loss,val_mean_absolute_error\n"
     ]
    },
    {
     "name": "stderr",
     "output_type": "stream",
     "text": [
      "WARNING:tensorflow:Early stopping conditioned on metric `mae` which is not available. Available metrics are: loss,mean_absolute_error,val_loss,val_mean_absolute_error\n"
     ]
    },
    {
     "name": "stdout",
     "output_type": "stream",
     "text": [
      "\n",
      "Epoch 00017: val_loss did not improve from 0.00501\n",
      "54/54 [==============================] - 36s 665ms/step - loss: 0.0061 - mean_absolute_error: 0.0061 - val_loss: 0.0059 - val_mean_absolute_error: 0.0059\n",
      "Epoch 18/30\n",
      "54/54 [==============================] - ETA: 0s - loss: 0.0055 - mean_absolute_error: 0.0055.WARNING:tensorflow:Early stopping conditioned on metric `mae` which is not available. Available metrics are: loss,mean_absolute_error,val_loss,val_mean_absolute_error\n"
     ]
    },
    {
     "name": "stderr",
     "output_type": "stream",
     "text": [
      "WARNING:tensorflow:Early stopping conditioned on metric `mae` which is not available. Available metrics are: loss,mean_absolute_error,val_loss,val_mean_absolute_error\n"
     ]
    },
    {
     "name": "stdout",
     "output_type": "stream",
     "text": [
      "\n",
      "Epoch 00018: val_loss did not improve from 0.00501\n",
      "54/54 [==============================] - 36s 671ms/step - loss: 0.0055 - mean_absolute_error: 0.0055 - val_loss: 0.0053 - val_mean_absolute_error: 0.0053\n",
      "Epoch 19/30\n",
      "54/54 [==============================] - ETA: 0s - loss: 0.0053 - mean_absolute_error: 0.0053.WARNING:tensorflow:Early stopping conditioned on metric `mae` which is not available. Available metrics are: loss,mean_absolute_error,val_loss,val_mean_absolute_error\n"
     ]
    },
    {
     "name": "stderr",
     "output_type": "stream",
     "text": [
      "WARNING:tensorflow:Early stopping conditioned on metric `mae` which is not available. Available metrics are: loss,mean_absolute_error,val_loss,val_mean_absolute_error\n"
     ]
    },
    {
     "name": "stdout",
     "output_type": "stream",
     "text": [
      "\n",
      "Epoch 00019: val_loss did not improve from 0.00501\n",
      "54/54 [==============================] - 36s 659ms/step - loss: 0.0053 - mean_absolute_error: 0.0053 - val_loss: 0.0051 - val_mean_absolute_error: 0.0051\n",
      "Epoch 20/30\n",
      "54/54 [==============================] - ETA: 0s - loss: 0.0052 - mean_absolute_error: 0.0052.WARNING:tensorflow:Early stopping conditioned on metric `mae` which is not available. Available metrics are: loss,mean_absolute_error,val_loss,val_mean_absolute_error\n"
     ]
    },
    {
     "name": "stderr",
     "output_type": "stream",
     "text": [
      "WARNING:tensorflow:Early stopping conditioned on metric `mae` which is not available. Available metrics are: loss,mean_absolute_error,val_loss,val_mean_absolute_error\n"
     ]
    },
    {
     "name": "stdout",
     "output_type": "stream",
     "text": [
      "\n",
      "Epoch 00020: val_loss did not improve from 0.00501\n",
      "54/54 [==============================] - 36s 673ms/step - loss: 0.0052 - mean_absolute_error: 0.0052 - val_loss: 0.0054 - val_mean_absolute_error: 0.0054\n",
      "Epoch 21/30\n",
      "54/54 [==============================] - ETA: 0s - loss: 0.0057 - mean_absolute_error: 0.0057.WARNING:tensorflow:Early stopping conditioned on metric `mae` which is not available. Available metrics are: loss,mean_absolute_error,val_loss,val_mean_absolute_error\n"
     ]
    },
    {
     "name": "stderr",
     "output_type": "stream",
     "text": [
      "WARNING:tensorflow:Early stopping conditioned on metric `mae` which is not available. Available metrics are: loss,mean_absolute_error,val_loss,val_mean_absolute_error\n"
     ]
    },
    {
     "name": "stdout",
     "output_type": "stream",
     "text": [
      "\n",
      "Epoch 00021: val_loss did not improve from 0.00501\n",
      "54/54 [==============================] - 37s 694ms/step - loss: 0.0057 - mean_absolute_error: 0.0057 - val_loss: 0.0057 - val_mean_absolute_error: 0.0057\n",
      "Epoch 22/30\n",
      "54/54 [==============================] - ETA: 0s - loss: 0.0052 - mean_absolute_error: 0.0052.WARNING:tensorflow:Early stopping conditioned on metric `mae` which is not available. Available metrics are: loss,mean_absolute_error,val_loss,val_mean_absolute_error\n"
     ]
    },
    {
     "name": "stderr",
     "output_type": "stream",
     "text": [
      "WARNING:tensorflow:Early stopping conditioned on metric `mae` which is not available. Available metrics are: loss,mean_absolute_error,val_loss,val_mean_absolute_error\n"
     ]
    },
    {
     "name": "stdout",
     "output_type": "stream",
     "text": [
      "\n",
      "Epoch 00022: val_loss did not improve from 0.00501\n",
      "54/54 [==============================] - 36s 673ms/step - loss: 0.0052 - mean_absolute_error: 0.0052 - val_loss: 0.0055 - val_mean_absolute_error: 0.0055\n",
      "Epoch 23/30\n",
      "54/54 [==============================] - ETA: 0s - loss: 0.0054 - mean_absolute_error: 0.0054.WARNING:tensorflow:Early stopping conditioned on metric `mae` which is not available. Available metrics are: loss,mean_absolute_error,val_loss,val_mean_absolute_error\n"
     ]
    },
    {
     "name": "stderr",
     "output_type": "stream",
     "text": [
      "WARNING:tensorflow:Early stopping conditioned on metric `mae` which is not available. Available metrics are: loss,mean_absolute_error,val_loss,val_mean_absolute_error\n"
     ]
    },
    {
     "name": "stdout",
     "output_type": "stream",
     "text": [
      "\n",
      "Epoch 00023: val_loss did not improve from 0.00501\n",
      "54/54 [==============================] - 39s 721ms/step - loss: 0.0054 - mean_absolute_error: 0.0054 - val_loss: 0.0051 - val_mean_absolute_error: 0.0051\n",
      "Epoch 24/30\n",
      "54/54 [==============================] - ETA: 0s - loss: 0.0047 - mean_absolute_error: 0.0047.WARNING:tensorflow:Early stopping conditioned on metric `mae` which is not available. Available metrics are: loss,mean_absolute_error,val_loss,val_mean_absolute_error\n"
     ]
    },
    {
     "name": "stderr",
     "output_type": "stream",
     "text": [
      "WARNING:tensorflow:Early stopping conditioned on metric `mae` which is not available. Available metrics are: loss,mean_absolute_error,val_loss,val_mean_absolute_error\n"
     ]
    },
    {
     "name": "stdout",
     "output_type": "stream",
     "text": [
      "\n",
      "Epoch 00024: val_loss improved from 0.00501 to 0.00498, saving model to hermi_dim_reduc_cae_v1.h5\n",
      "54/54 [==============================] - 59s 1s/step - loss: 0.0047 - mean_absolute_error: 0.0047 - val_loss: 0.0050 - val_mean_absolute_error: 0.0050\n",
      "Epoch 25/30\n",
      "54/54 [==============================] - ETA: 0s - loss: 0.0046 - mean_absolute_error: 0.0046.WARNING:tensorflow:Early stopping conditioned on metric `mae` which is not available. Available metrics are: loss,mean_absolute_error,val_loss,val_mean_absolute_error\n"
     ]
    },
    {
     "name": "stderr",
     "output_type": "stream",
     "text": [
      "WARNING:tensorflow:Early stopping conditioned on metric `mae` which is not available. Available metrics are: loss,mean_absolute_error,val_loss,val_mean_absolute_error\n"
     ]
    },
    {
     "name": "stdout",
     "output_type": "stream",
     "text": [
      "\n",
      "Epoch 00025: val_loss improved from 0.00498 to 0.00489, saving model to hermi_dim_reduc_cae_v1.h5\n",
      "54/54 [==============================] - 75s 1s/step - loss: 0.0046 - mean_absolute_error: 0.0046 - val_loss: 0.0049 - val_mean_absolute_error: 0.0049\n",
      "Epoch 26/30\n",
      "54/54 [==============================] - ETA: 0s - loss: 0.0046 - mean_absolute_error: 0.0046.WARNING:tensorflow:Early stopping conditioned on metric `mae` which is not available. Available metrics are: loss,mean_absolute_error,val_loss,val_mean_absolute_error\n"
     ]
    },
    {
     "name": "stderr",
     "output_type": "stream",
     "text": [
      "WARNING:tensorflow:Early stopping conditioned on metric `mae` which is not available. Available metrics are: loss,mean_absolute_error,val_loss,val_mean_absolute_error\n"
     ]
    },
    {
     "name": "stdout",
     "output_type": "stream",
     "text": [
      "\n",
      "Epoch 00026: val_loss improved from 0.00489 to 0.00481, saving model to hermi_dim_reduc_cae_v1.h5\n",
      "54/54 [==============================] - 40s 748ms/step - loss: 0.0046 - mean_absolute_error: 0.0046 - val_loss: 0.0048 - val_mean_absolute_error: 0.0048\n",
      "Epoch 27/30\n",
      "54/54 [==============================] - ETA: 0s - loss: 0.0055 - mean_absolute_error: 0.0055.WARNING:tensorflow:Early stopping conditioned on metric `mae` which is not available. Available metrics are: loss,mean_absolute_error,val_loss,val_mean_absolute_error\n"
     ]
    },
    {
     "name": "stderr",
     "output_type": "stream",
     "text": [
      "WARNING:tensorflow:Early stopping conditioned on metric `mae` which is not available. Available metrics are: loss,mean_absolute_error,val_loss,val_mean_absolute_error\n"
     ]
    },
    {
     "name": "stdout",
     "output_type": "stream",
     "text": [
      "\n",
      "Epoch 00027: val_loss improved from 0.00481 to 0.00467, saving model to hermi_dim_reduc_cae_v1.h5\n",
      "54/54 [==============================] - 37s 682ms/step - loss: 0.0055 - mean_absolute_error: 0.0055 - val_loss: 0.0047 - val_mean_absolute_error: 0.0047\n",
      "Epoch 28/30\n",
      "54/54 [==============================] - ETA: 0s - loss: 0.0050 - mean_absolute_error: 0.0050.WARNING:tensorflow:Early stopping conditioned on metric `mae` which is not available. Available metrics are: loss,mean_absolute_error,val_loss,val_mean_absolute_error\n"
     ]
    },
    {
     "name": "stderr",
     "output_type": "stream",
     "text": [
      "WARNING:tensorflow:Early stopping conditioned on metric `mae` which is not available. Available metrics are: loss,mean_absolute_error,val_loss,val_mean_absolute_error\n"
     ]
    },
    {
     "name": "stdout",
     "output_type": "stream",
     "text": [
      "\n",
      "Epoch 00028: val_loss did not improve from 0.00467\n",
      "54/54 [==============================] - 36s 676ms/step - loss: 0.0050 - mean_absolute_error: 0.0050 - val_loss: 0.0053 - val_mean_absolute_error: 0.0053\n",
      "Epoch 29/30\n",
      "54/54 [==============================] - ETA: 0s - loss: 0.0045 - mean_absolute_error: 0.0045.WARNING:tensorflow:Early stopping conditioned on metric `mae` which is not available. Available metrics are: loss,mean_absolute_error,val_loss,val_mean_absolute_error\n"
     ]
    },
    {
     "name": "stderr",
     "output_type": "stream",
     "text": [
      "WARNING:tensorflow:Early stopping conditioned on metric `mae` which is not available. Available metrics are: loss,mean_absolute_error,val_loss,val_mean_absolute_error\n"
     ]
    },
    {
     "name": "stdout",
     "output_type": "stream",
     "text": [
      "\n",
      "Epoch 00029: val_loss improved from 0.00467 to 0.00425, saving model to hermi_dim_reduc_cae_v1.h5\n",
      "54/54 [==============================] - 37s 677ms/step - loss: 0.0045 - mean_absolute_error: 0.0045 - val_loss: 0.0042 - val_mean_absolute_error: 0.0042\n",
      "Epoch 30/30\n",
      "54/54 [==============================] - ETA: 0s - loss: 0.0045 - mean_absolute_error: 0.0045.WARNING:tensorflow:Early stopping conditioned on metric `mae` which is not available. Available metrics are: loss,mean_absolute_error,val_loss,val_mean_absolute_error\n"
     ]
    },
    {
     "name": "stderr",
     "output_type": "stream",
     "text": [
      "WARNING:tensorflow:Early stopping conditioned on metric `mae` which is not available. Available metrics are: loss,mean_absolute_error,val_loss,val_mean_absolute_error\n"
     ]
    },
    {
     "name": "stdout",
     "output_type": "stream",
     "text": [
      "\n",
      "Epoch 00030: val_loss improved from 0.00425 to 0.00399, saving model to hermi_dim_reduc_cae_v1.h5\n",
      "54/54 [==============================] - 36s 672ms/step - loss: 0.0045 - mean_absolute_error: 0.0045 - val_loss: 0.0040 - val_mean_absolute_error: 0.0040\n"
     ]
    }
   ],
   "source": [
    "history_v2 = cae_chkpt.fit(train_batch, \n",
    "                          steps_per_epoch=54, \n",
    "                          epochs=30, \n",
    "                          verbose=1,\n",
    "                          validation_data=test_batch, \n",
    "                          validation_steps=1,\n",
    "                          callbacks = get_callbacks(\"updated\")\n",
    "                          )"
   ]
  },
  {
   "cell_type": "code",
   "execution_count": 51,
   "metadata": {},
   "outputs": [],
   "source": [
    "test_images_1 = np.load(test_images[60])"
   ]
  },
  {
   "cell_type": "code",
   "execution_count": 52,
   "metadata": {},
   "outputs": [],
   "source": [
    "test_images_1_re = np.expand_dims(test_images_1, axis=0)"
   ]
  },
  {
   "cell_type": "code",
   "execution_count": 53,
   "metadata": {},
   "outputs": [],
   "source": [
    "ae1_out = cae_chkpt.predict(test_images_1_re)"
   ]
  },
  {
   "cell_type": "code",
   "execution_count": 54,
   "metadata": {},
   "outputs": [
    {
     "data": {
      "text/plain": [
       "(64, 64, 242)"
      ]
     },
     "execution_count": 54,
     "metadata": {},
     "output_type": "execute_result"
    }
   ],
   "source": [
    "ae1_out = np.squeeze(ae1_out)\n",
    "ae1_out.shape"
   ]
  },
  {
   "cell_type": "code",
   "execution_count": 55,
   "metadata": {},
   "outputs": [
    {
     "data": {
      "text/plain": [
       "ImageView object:\n",
       "  Display bands       :  (29, 19, 12)\n",
       "  Interpolation       :  <default>\n",
       "  RGB data limits     :\n",
       "    R: [0.07095742225646973, 0.29744064807891846]\n",
       "    G: [0.1610812097787857, 0.3138086199760437]\n",
       "    B: [0.1965816468000412, 0.33401593565940857]"
      ]
     },
     "execution_count": 55,
     "metadata": {},
     "output_type": "execute_result"
    },
    {
     "data": {
      "image/png": "[encoded data removed]",
      "text/plain": [
       "<Figure size 432x288 with 1 Axes>"
      ]
     },
     "metadata": {
      "needs_background": "light"
     },
     "output_type": "display_data"
    }
   ],
   "source": [
    "imshow(ae1_out, bands=(29,19,12))"
   ]
  },
  {
   "cell_type": "code",
   "execution_count": 56,
   "metadata": {},
   "outputs": [
    {
     "data": {
      "text/plain": [
       "ImageView object:\n",
       "  Display bands       :  (29, 19, 12)\n",
       "  Interpolation       :  <default>\n",
       "  RGB data limits     :\n",
       "    R: [0.08552920509442248, 0.3042380324989021]\n",
       "    G: [0.1795125164690382, 0.3252086078173035]\n",
       "    B: [0.20663153271848925, 0.33926218708827405]"
      ]
     },
     "execution_count": 56,
     "metadata": {},
     "output_type": "execute_result"
    },
    {
     "data": {
      "image/png": "[encoded data removed]",
      "text/plain": [
       "<Figure size 432x288 with 1 Axes>"
      ]
     },
     "metadata": {
      "needs_background": "light"
     },
     "output_type": "display_data"
    }
   ],
   "source": [
    "imshow(test_images_1, bands=(29,19,12))"
   ]
  },
  {
   "cell_type": "code",
   "execution_count": 36,
   "metadata": {},
   "outputs": [
    {
     "name": "stdout",
     "output_type": "stream",
     "text": [
      "E:\\intermediate_notebooks\\hermi2004_final----------\n",
      "Number of Samples :    28\n"
     ]
    }
   ],
   "source": [
    "all_final = load_data(r\"E:\\intermediate_notebooks\\hermi2004_final\");# List containing names (string) of the datasets in pavC"
   ]
  },
  {
   "cell_type": "code",
   "execution_count": 37,
   "metadata": {},
   "outputs": [
    {
     "name": "stdout",
     "output_type": "stream",
     "text": [
      "28\n"
     ]
    }
   ],
   "source": [
    "counter = 0;\n",
    "for i in range(len(all_final)):\n",
    "    #print(\"Loading file number: \", all_final[counter])\n",
    "    temp_or = np.load(all_final[i]);\n",
    "    temp = np.expand_dims(temp_or, axis=0);\n",
    "    temp = ae_combined.predict(temp)\n",
    "    temp = np.squeeze(temp)\n",
    "    np.save(pathlib.Path(r\"E:\\dim_reduc_desktop1_cae\\dim_reduc_hermi\", '{:03d}'.format(counter)).with_suffix(\".npy\"), temp)\n",
    "    counter +=1\n",
    "print(counter)"
   ]
  },
  {
   "cell_type": "code",
   "execution_count": 38,
   "metadata": {},
   "outputs": [
    {
     "name": "stdout",
     "output_type": "stream",
     "text": [
      "E:\\dim_reduc_desktop1_cae\\dim_reduc_hermi----------\n",
      "Number of Samples :    28\n"
     ]
    }
   ],
   "source": [
    "all_recon = load_data(r\"E:\\dim_reduc_desktop1_cae\\dim_reduc_hermi\");# List containing names (string) of the datasets in pavC"
   ]
  },
  {
   "cell_type": "code",
   "execution_count": 40,
   "metadata": {},
   "outputs": [
    {
     "data": {
      "text/plain": [
       "(64, 64, 242)"
      ]
     },
     "execution_count": 40,
     "metadata": {},
     "output_type": "execute_result"
    }
   ],
   "source": [
    "np.load(all_recon[20]).shape"
   ]
  },
  {
   "cell_type": "code",
   "execution_count": 49,
   "metadata": {},
   "outputs": [
    {
     "data": {
      "text/plain": [
       "(448, 258, 242)"
      ]
     },
     "execution_count": 49,
     "metadata": {},
     "output_type": "execute_result"
    }
   ],
   "source": [
    "recon_im = np.zeros((448, 258, 242))\n",
    "recon_im.shape"
   ]
  },
  {
   "cell_type": "code",
   "execution_count": 50,
   "metadata": {},
   "outputs": [
    {
     "name": "stdout",
     "output_type": "stream",
     "text": [
      "(64, 64, 242)\n",
      "(64, 64, 242)\n",
      "(64, 64, 242)\n",
      "(64, 64, 242)\n",
      "(64, 64, 242)\n"
     ]
    },
    {
     "ename": "ValueError",
     "evalue": "could not broadcast input array from shape (64,64,242) into shape (64,2,242)",
     "output_type": "error",
     "traceback": [
      "\u001b[1;31m---------------------------------------------------------------------------\u001b[0m",
      "\u001b[1;31mValueError\u001b[0m                                Traceback (most recent call last)",
      "\u001b[1;32m<ipython-input-50-bcee3a81a24d>\u001b[0m in \u001b[0;36m<module>\u001b[1;34m\u001b[0m\n\u001b[0;32m      4\u001b[0m         \u001b[0mtemp\u001b[0m \u001b[1;33m=\u001b[0m \u001b[0mnp\u001b[0m\u001b[1;33m.\u001b[0m\u001b[0mload\u001b[0m\u001b[1;33m(\u001b[0m\u001b[0mall_recon\u001b[0m\u001b[1;33m[\u001b[0m\u001b[0mcounter\u001b[0m\u001b[1;33m]\u001b[0m\u001b[1;33m)\u001b[0m\u001b[1;33m\u001b[0m\u001b[1;33m\u001b[0m\u001b[0m\n\u001b[0;32m      5\u001b[0m         \u001b[0mprint\u001b[0m\u001b[1;33m(\u001b[0m\u001b[0mtemp\u001b[0m\u001b[1;33m.\u001b[0m\u001b[0mshape\u001b[0m\u001b[1;33m)\u001b[0m\u001b[1;33m\u001b[0m\u001b[1;33m\u001b[0m\u001b[0m\n\u001b[1;32m----> 6\u001b[1;33m         \u001b[0mrecon_im\u001b[0m\u001b[1;33m[\u001b[0m\u001b[0mr\u001b[0m\u001b[1;33m:\u001b[0m\u001b[0mr\u001b[0m\u001b[1;33m+\u001b[0m\u001b[1;36m64\u001b[0m\u001b[1;33m,\u001b[0m \u001b[0mc\u001b[0m\u001b[1;33m:\u001b[0m\u001b[0mc\u001b[0m\u001b[1;33m+\u001b[0m\u001b[1;36m64\u001b[0m\u001b[1;33m,\u001b[0m \u001b[1;33m:\u001b[0m\u001b[1;33m]\u001b[0m \u001b[1;33m=\u001b[0m \u001b[0mtemp\u001b[0m\u001b[1;33m\u001b[0m\u001b[1;33m\u001b[0m\u001b[0m\n\u001b[0m\u001b[0;32m      7\u001b[0m         \u001b[0mcounter\u001b[0m \u001b[1;33m+=\u001b[0m\u001b[1;36m1\u001b[0m\u001b[1;33m;\u001b[0m\u001b[1;33m\u001b[0m\u001b[1;33m\u001b[0m\u001b[0m\n\u001b[0;32m      8\u001b[0m \u001b[0mprint\u001b[0m\u001b[1;33m(\u001b[0m\u001b[0mcounter\u001b[0m\u001b[1;33m)\u001b[0m\u001b[1;33m\u001b[0m\u001b[1;33m\u001b[0m\u001b[0m\n",
      "\u001b[1;31mValueError\u001b[0m: could not broadcast input array from shape (64,64,242) into shape (64,2,242)"
     ]
    }
   ],
   "source": [
    "counter = 0;\n",
    "for r in range(0, recon_im.shape[0], 64):\n",
    "    for c in range(0, recon_im.shape[1], 64):\n",
    "        temp = np.load(all_recon[counter])\n",
    "        print(temp.shape)\n",
    "        recon_im[r:r+64, c:c+64, :] = temp \n",
    "        counter +=1;\n",
    "print(counter)"
   ]
  },
  {
   "cell_type": "code",
   "execution_count": 44,
   "metadata": {},
   "outputs": [],
   "source": [
    "recon_im = recon_im[0:1096, 0:715, :]"
   ]
  },
  {
   "cell_type": "code",
   "execution_count": 45,
   "metadata": {},
   "outputs": [
    {
     "data": {
      "text/plain": [
       "ImageView object:\n",
       "  Display bands       :  (29, 19, 12)\n",
       "  Interpolation       :  <default>\n",
       "  RGB data limits     :\n",
       "    R: [-0.04581744968891144, 0.8380171656608582]\n",
       "    G: [-0.05503397434949875, 0.8115893602371216]\n",
       "    B: [-0.05575374513864517, 0.7780330181121826]"
      ]
     },
     "execution_count": 45,
     "metadata": {},
     "output_type": "execute_result"
    },
    {
     "data": {
      "image/png": "[encoded data removed]",
      "text/plain": [
       "<Figure size 432x288 with 1 Axes>"
      ]
     },
     "metadata": {
      "needs_background": "light"
     },
     "output_type": "display_data"
    }
   ],
   "source": [
    "imshow(recon_im, bands=(29,19,12))"
   ]
  },
  {
   "cell_type": "code",
   "execution_count": 46,
   "metadata": {},
   "outputs": [],
   "source": [
    "final_im = np.zeros((1152, 768, 102))"
   ]
  },
  {
   "cell_type": "code",
   "execution_count": 47,
   "metadata": {
    "scrolled": true
   },
   "outputs": [
    {
     "name": "stdout",
     "output_type": "stream",
     "text": [
      "216\n"
     ]
    }
   ],
   "source": [
    "counter = 0;\n",
    "for r in range(0, final_im.shape[0], 64):\n",
    "    for c in range(0, final_im.shape[1], 64):\n",
    "        final_im[r:r+64, c:c+64, :] = np.load(all_final[counter])\n",
    "        counter +=1;\n",
    "print(counter)"
   ]
  },
  {
   "cell_type": "code",
   "execution_count": 48,
   "metadata": {},
   "outputs": [],
   "source": [
    "final_im = final_im[0:1096, 0:715, :]"
   ]
  },
  {
   "cell_type": "code",
   "execution_count": 49,
   "metadata": {},
   "outputs": [
    {
     "data": {
      "text/plain": [
       "ImageView object:\n",
       "  Display bands       :  (29, 19, 12)\n",
       "  Interpolation       :  <default>\n",
       "  RGB data limits     :\n",
       "    R: [0.0, 1.0]\n",
       "    G: [0.0, 1.0]\n",
       "    B: [0.0, 1.0]"
      ]
     },
     "execution_count": 49,
     "metadata": {},
     "output_type": "execute_result"
    },
    {
     "data": {
      "image/png": "[encoded data removed]",
      "text/plain": [
       "<Figure size 432x288 with 1 Axes>"
      ]
     },
     "metadata": {
      "needs_background": "light"
     },
     "output_type": "display_data"
    }
   ],
   "source": [
    "imshow(final_im, bands=(29,19,12))"
   ]
  },
  {
   "cell_type": "code",
   "execution_count": 50,
   "metadata": {},
   "outputs": [
    {
     "name": "stdout",
     "output_type": "stream",
     "text": [
      "tf.Tensor(0.015486884513587911, shape=(), dtype=float64)\n"
     ]
    }
   ],
   "source": [
    "l1_loss = tf.math.reduce_mean(tf.math.abs(final_im - recon_im))\n",
    "print(l1_loss)"
   ]
  },
  {
   "cell_type": "code",
   "execution_count": 51,
   "metadata": {},
   "outputs": [
    {
     "name": "stdout",
     "output_type": "stream",
     "text": [
      "tf.Tensor(0.024176862252042394, shape=(), dtype=float64)\n"
     ]
    }
   ],
   "source": [
    "l2_loss = tf.math.sqrt(tf.math.reduce_mean(tf.math.square(final_im - recon_im)))\n",
    "print(l2_loss)"
   ]
  },
  {
   "cell_type": "code",
   "execution_count": 52,
   "metadata": {},
   "outputs": [],
   "source": [
    "np.save(pathlib.Path(r\"E:\\dim_reduc_desktop1_cae\", \"pavC_recon_large\").with_suffix(\".npy\"), recon_im)"
   ]
  },
  {
   "cell_type": "code",
   "execution_count": 53,
   "metadata": {},
   "outputs": [],
   "source": [
    "np.save(pathlib.Path(r\"E:\\dim_reduc_desktop1_cae\", \"pavC_original_large\").with_suffix(\".npy\"), final_im)"
   ]
  },
  {
   "cell_type": "code",
   "execution_count": 55,
   "metadata": {},
   "outputs": [
    {
     "data": {
      "text/plain": [
       "TensorShape([102, 783640])"
      ]
     },
     "execution_count": 55,
     "metadata": {},
     "output_type": "execute_result"
    }
   ],
   "source": [
    "final_im_re = np.reshape(final_im, (-1, 102))\n",
    "recon_im_re = np.reshape(recon_im, (-1, 102))\n",
    "tf.transpose(final_im_re).shape"
   ]
  },
  {
   "cell_type": "code",
   "execution_count": 56,
   "metadata": {},
   "outputs": [
    {
     "data": {
      "text/plain": [
       "1.5611292390828206"
      ]
     },
     "execution_count": 56,
     "metadata": {},
     "output_type": "execute_result"
    }
   ],
   "source": [
    "normalize_r = tf.math.l2_normalize(tf.transpose(recon_im_re), axis=0)\n",
    "normalize_t = tf.math.l2_normalize(tf.transpose(final_im_re),axis=0)\n",
    "spec_angle = tf.math.reduce_mean( tf.math.acos(tf.reduce_mean(tf.multiply(normalize_r, normalize_t),axis=0 ) ) )\n",
    "spec_angle.numpy()"
   ]
  },
  {
   "cell_type": "code",
   "execution_count": 50,
   "metadata": {},
   "outputs": [
    {
     "data": {
      "text/plain": [
       "0.9904003501970063"
      ]
     },
     "execution_count": 50,
     "metadata": {},
     "output_type": "execute_result"
    }
   ],
   "source": [
    "normalize_r = tf.math.l2_normalize(tf.transpose(recon_im_re),axis=0)\n",
    "normalize_t = tf.math.l2_normalize(tf.transpose(final_im_re),axis=0)\n",
    "csa = tf.math.reduce_mean( 1 - tf.math.reduce_mean(tf.math.multiply(normalize_r, normalize_t),axis=0 ) )\n",
    "csa.numpy()"
   ]
  },
  {
   "cell_type": "code",
   "execution_count": 15,
   "metadata": {},
   "outputs": [],
   "source": [
    "test_images_1 = np.load(test_images[85])\n",
    "test_images_2 = np.load(test_images[44])"
   ]
  },
  {
   "cell_type": "code",
   "execution_count": 19,
   "metadata": {},
   "outputs": [
    {
     "data": {
      "text/plain": [
       "(2, 64, 64, 102)"
      ]
     },
     "execution_count": 19,
     "metadata": {},
     "output_type": "execute_result"
    }
   ],
   "source": [
    "temp_paired = np.zeros((2, 64, 64, 102))\n",
    "temp_paired.shape"
   ]
  },
  {
   "cell_type": "code",
   "execution_count": 21,
   "metadata": {},
   "outputs": [],
   "source": [
    "temp_paired[0] = test_images_1\n",
    "temp_paired[1] = test_images_2"
   ]
  },
  {
   "cell_type": "code",
   "execution_count": 24,
   "metadata": {},
   "outputs": [],
   "source": [
    "out = cae_chkpt.predict(temp_paired)"
   ]
  },
  {
   "cell_type": "code",
   "execution_count": 25,
   "metadata": {},
   "outputs": [
    {
     "data": {
      "text/plain": [
       "(2, 64, 64, 102)"
      ]
     },
     "execution_count": 25,
     "metadata": {},
     "output_type": "execute_result"
    }
   ],
   "source": [
    "out.shape"
   ]
  },
  {
   "cell_type": "code",
   "execution_count": 26,
   "metadata": {},
   "outputs": [
    {
     "data": {
      "text/plain": [
       "ImageView object:\n",
       "  Display bands       :  (29, 19, 12)\n",
       "  Interpolation       :  <default>\n",
       "  RGB data limits     :\n",
       "    R: [-0.04388653114438057, 0.6561164855957031]\n",
       "    G: [-0.03856679052114487, 0.6027106046676636]\n",
       "    B: [-0.031271468847990036, 0.5590817332267761]"
      ]
     },
     "execution_count": 26,
     "metadata": {},
     "output_type": "execute_result"
    },
    {
     "data": {
      "image/png": "[encoded data removed]",
      "text/plain": [
       "<Figure size 432x288 with 1 Axes>"
      ]
     },
     "metadata": {
      "needs_background": "light"
     },
     "output_type": "display_data"
    }
   ],
   "source": [
    "imshow(out[0], bands=(29,19,12))"
   ]
  },
  {
   "cell_type": "code",
   "execution_count": 27,
   "metadata": {},
   "outputs": [
    {
     "data": {
      "text/plain": [
       "ImageView object:\n",
       "  Display bands       :  (29, 19, 12)\n",
       "  Interpolation       :  <default>\n",
       "  RGB data limits     :\n",
       "    R: [0.0, 1.0]\n",
       "    G: [0.0, 1.0]\n",
       "    B: [0.0, 1.0]"
      ]
     },
     "execution_count": 27,
     "metadata": {},
     "output_type": "execute_result"
    },
    {
     "data": {
      "image/png": "[encoded data removed]",
      "text/plain": [
       "<Figure size 432x288 with 1 Axes>"
      ]
     },
     "metadata": {
      "needs_background": "light"
     },
     "output_type": "display_data"
    }
   ],
   "source": [
    "imshow(test_images_1, bands=(29,19,12))"
   ]
  },
  {
   "cell_type": "code",
   "execution_count": null,
   "metadata": {},
   "outputs": [],
   "source": []
  }
 ],
 "metadata": {
  "kernelspec": {
   "display_name": "Python 3",
   "language": "python",
   "name": "python3"
  },
  "language_info": {
   "codemirror_mode": {
    "name": "ipython",
    "version": 3
   },
   "file_extension": ".py",
   "mimetype": "text/x-python",
   "name": "python",
   "nbconvert_exporter": "python",
   "pygments_lexer": "ipython3",
   "version": "3.6.10"
  }
 },
 "nbformat": 4,
 "nbformat_minor": 4
}
