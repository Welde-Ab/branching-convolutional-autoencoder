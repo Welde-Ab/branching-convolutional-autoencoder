{
 "cells": [
  {
   "cell_type": "markdown",
   "metadata": {
    "colab_type": "text",
    "id": "view-in-github"
   },
   "source": [
    "<a href=\"https://colab.research.google.com/github/mkbensalah/Change-Detection-in-Hyperspectral-Images/blob/master/Training.ipynb\" target=\"_parent\"><img src=\"https://colab.research.google.com/assets/colab-badge.svg\" alt=\"Open In Colab\"/></a>"
   ]
  },
  {
   "cell_type": "markdown",
   "metadata": {
    "colab": {
     "base_uri": "https://localhost:8080/",
     "height": 51
    },
    "colab_type": "code",
    "id": "mPjYThNS_7Gx",
    "outputId": "09358934-3c3f-4aec-f8ff-e31efe8782b3"
   },
   "source": [
    "### Training with Hermiston Datasets ###"
   ]
  },
  {
   "cell_type": "code",
   "execution_count": 1,
   "metadata": {
    "colab": {},
    "colab_type": "code",
    "id": "ajxzQhWOD-3q"
   },
   "outputs": [],
   "source": [
    "import os\n",
    "import random\n",
    "import itertools\n",
    "from random import shuffle\n",
    "import h5py\n",
    "import json\n",
    "import tensorflow as tf\n",
    "\n",
    "import numpy as np\n",
    "import scipy\n",
    "import scipy.io as sio # Scipy input and output\n",
    "import scipy.ndimage \n",
    "from skimage.transform import rotate \n",
    "import spectral # Module for processing hyperspectral image data.\n",
    "import matplotlib \n",
    "%matplotlib inline\n",
    "\n",
    "# scikit-learn imports \n",
    "from sklearn.decomposition import PCA\n",
    "from sklearn.model_selection import train_test_split\n",
    "from sklearn import preprocessing\n",
    "from sklearn.metrics import classification_report, confusion_matrix\n",
    "\n",
    "# keras imports \n",
    "#import keras\n",
    "import tensorflow as tf\n",
    "from tensorflow.keras import layers, Input, Model\n",
    "from tensorflow.keras.models import Sequential\n",
    "from tensorflow.keras.layers import Dense, Dropout, Flatten, LeakyReLU\n",
    "from tensorflow.keras.layers import Conv2D, MaxPooling2D, ConvLSTM2D, TimeDistributed\n",
    "from tensorflow.keras.optimizers import SGD\n",
    "from tensorflow.keras.models import load_model\n",
    "from tensorflow.keras import backend as K\n",
    "from tensorflow.keras.utils import to_categorical\n",
    "import sys"
   ]
  },
  {
   "cell_type": "code",
   "execution_count": 2,
   "metadata": {},
   "outputs": [
    {
     "name": "stderr",
     "output_type": "stream",
     "text": [
      "C:\\Users\\CVR 2019 2020\\AppData\\Roaming\\Python\\Python36\\site-packages\\tensorflow_addons\\utils\\ensure_tf_install.py:68: UserWarning: Tensorflow Addons supports using Python ops for all Tensorflow versions above or equal to 2.2.0 and strictly below 2.3.0 (nightly versions are not supported). \n",
      " The versions of TensorFlow you are currently using is 2.3.0 and is not supported. \n",
      "Some things might work, some things might not.\n",
      "If you were to encounter a bug, do not file an issue.\n",
      "If you want to make sure you're using a tested and supported configuration, either change the TensorFlow version or the TensorFlow Addons's version. \n",
      "You can find the compatibility matrix in TensorFlow Addon's readme:\n",
      "https://github.com/tensorflow/addons\n",
      "  UserWarning,\n"
     ]
    },
    {
     "name": "stdout",
     "output_type": "stream",
     "text": [
      "2.3.0\n"
     ]
    }
   ],
   "source": [
    "from tensorflow_addons.layers import InstanceNormalization\n",
    "from tensorflow.keras.layers import Dense, Conv1D, Activation, Flatten, Input, Reshape, LeakyReLU\n",
    "from tensorflow.keras import Model, Sequential\n",
    "from tensorflow.keras.models import load_model\n",
    "from tensorflow.keras.layers import Conv2DTranspose\n",
    "from tensorflow.keras.layers import BatchNormalization\n",
    "from tensorflow.keras.layers import Dropout\n",
    "from tensorflow.keras.layers import MaxPool2D\n",
    "from tensorflow.keras.layers import UpSampling2D\n",
    "from tensorflow.keras.layers import Flatten\n",
    "from tensorflow.keras.layers import Concatenate\n",
    "from tensorflow.keras.layers import Reshape\n",
    "from tensorflow.keras.layers import LeakyReLU\n",
    "from tensorflow.keras.callbacks import ModelCheckpoint\n",
    "\n",
    "import tensorflow_docs as tfdocs\n",
    "import tensorflow_docs.modeling\n",
    "import tensorflow_docs.plots\n",
    "\n",
    "from  IPython import display\n",
    "import pathlib\n",
    "import shutil\n",
    "import tempfile\n",
    "import math\n",
    "import numpy as np\n",
    "from scipy.io import loadmat\n",
    "import matplotlib.pyplot as plt\n",
    "import os\n",
    "import numpy as np\n",
    "from os.path import join, exists, basename, split\n",
    "from spectral import *\n",
    "\n",
    "from os import listdir\n",
    "from os.path import isfile, join\n",
    "from os import walk\n",
    "import glob\n",
    "from sklearn.model_selection import train_test_split\n",
    "from spectral import *\n",
    "\n",
    "print(tf.__version__)"
   ]
  },
  {
   "cell_type": "code",
   "execution_count": 3,
   "metadata": {},
   "outputs": [
    {
     "name": "stdout",
     "output_type": "stream",
     "text": [
      "1 Physical GPUs, 1 Logical GPUs\n"
     ]
    }
   ],
   "source": [
    "### Limit GPU Memory growth ###\n",
    "gpus = tf.config.experimental.list_physical_devices('GPU')\n",
    "if gpus:\n",
    "  try:\n",
    "    # Currently, memory growth needs to be the same across GPUs\n",
    "    for gpu in gpus:\n",
    "      tf.config.experimental.set_memory_growth(gpu, True)\n",
    "    logical_gpus = tf.config.experimental.list_logical_devices('GPU')\n",
    "    print(len(gpus), \"Physical GPUs,\", len(logical_gpus), \"Logical GPUs\")\n",
    "  except RuntimeError as e:\n",
    "    # Memory growth must be set before GPUs have been initialized\n",
    "    print(e)"
   ]
  },
  {
   "cell_type": "markdown",
   "metadata": {},
   "source": [
    "## Define data loading function"
   ]
  },
  {
   "cell_type": "code",
   "execution_count": 4,
   "metadata": {},
   "outputs": [],
   "source": [
    "def load_data(name):\n",
    "    images = []\n",
    "    \n",
    "    print(name+\"----------\")\n",
    "    datas = []\n",
    "    u = 0\n",
    "    \n",
    "    for filename in glob.glob(name+\"/*.npy\"):\n",
    "\n",
    "        datas.append(filename)\n",
    "        u = u + 1\n",
    "\n",
    "    print(\"Number of Samples :    \"+str(u))\n",
    "        \n",
    "    return datas"
   ]
  },
  {
   "cell_type": "code",
   "execution_count": 5,
   "metadata": {},
   "outputs": [
    {
     "name": "stdout",
     "output_type": "stream",
     "text": [
      "E:\\intermediate_notebooks\\hermi2004----------\n",
      "Number of Samples :    1943\n"
     ]
    }
   ],
   "source": [
    "hermi_2004 = load_data(r\"E:\\intermediate_notebooks\\hermi2004\");# List containing names (string) of the datasets in hermi2004"
   ]
  },
  {
   "cell_type": "code",
   "execution_count": 6,
   "metadata": {},
   "outputs": [
    {
     "name": "stdout",
     "output_type": "stream",
     "text": [
      "E:\\intermediate_notebooks\\hermi2007----------\n",
      "Number of Samples :    1943\n"
     ]
    }
   ],
   "source": [
    "hermi_2007 = load_data(r\"E:\\intermediate_notebooks\\hermi2007\");# List containing names (string) of the datasets in hermi2007"
   ]
  },
  {
   "cell_type": "code",
   "execution_count": 7,
   "metadata": {},
   "outputs": [
    {
     "name": "stdout",
     "output_type": "stream",
     "text": [
      "1943\n"
     ]
    }
   ],
   "source": [
    "hermi_comb = [];\n",
    "for i in range(len(hermi_2004)):\n",
    "    hermi_comb.append([hermi_2004[i], hermi_2007[i]])\n",
    "print(len(hermi_comb))"
   ]
  },
  {
   "cell_type": "code",
   "execution_count": 8,
   "metadata": {},
   "outputs": [
    {
     "data": {
      "text/plain": [
       "['E:\\\\intermediate_notebooks\\\\hermi2004\\\\0060.npy',\n",
       " 'E:\\\\intermediate_notebooks\\\\hermi2007\\\\0060.npy']"
      ]
     },
     "execution_count": 8,
     "metadata": {},
     "output_type": "execute_result"
    }
   ],
   "source": [
    "hermi_comb[60]"
   ]
  },
  {
   "cell_type": "code",
   "execution_count": 9,
   "metadata": {},
   "outputs": [
    {
     "name": "stdout",
     "output_type": "stream",
     "text": [
      "E:\\intermediate_notebooks\\hermi_ch_gt_cat----------\n",
      "Number of Samples :    1943\n"
     ]
    }
   ],
   "source": [
    "hermi_ch_gt = load_data(r\"E:\\intermediate_notebooks\\hermi_ch_gt_cat\");# List containing names (string) of the datasets in hermi2007"
   ]
  },
  {
   "cell_type": "code",
   "execution_count": 15,
   "metadata": {},
   "outputs": [],
   "source": [
    "np.random.seed(25)\n",
    "hermi_train_im, hermi_test_im, hermi_train_lb, hermi_test_lb = train_test_split(hermi_comb, hermi_ch_gt, test_size=0.1, shuffle=True)"
   ]
  },
  {
   "cell_type": "code",
   "execution_count": 16,
   "metadata": {},
   "outputs": [
    {
     "name": "stdout",
     "output_type": "stream",
     "text": [
      "1748\n",
      "195\n"
     ]
    }
   ],
   "source": [
    "print(len(hermi_train_im))\n",
    "print(len(hermi_test_im))"
   ]
  },
  {
   "cell_type": "markdown",
   "metadata": {},
   "source": [
    "## Load the pretrained cae model ##"
   ]
  },
  {
   "cell_type": "code",
   "execution_count": 10,
   "metadata": {},
   "outputs": [
    {
     "name": "stderr",
     "output_type": "stream",
     "text": [
      "WARNING:root:The given value for groups will be overwritten.\n",
      "WARNING:root:The given value for groups will be overwritten.\n",
      "WARNING:root:The given value for groups will be overwritten.\n",
      "WARNING:root:The given value for groups will be overwritten.\n",
      "WARNING:root:The given value for groups will be overwritten.\n",
      "WARNING:root:The given value for groups will be overwritten.\n",
      "WARNING:root:The given value for groups will be overwritten.\n",
      "WARNING:root:The given value for groups will be overwritten.\n",
      "WARNING:root:The given value for groups will be overwritten.\n",
      "WARNING:root:The given value for groups will be overwritten.\n",
      "WARNING:root:The given value for groups will be overwritten.\n"
     ]
    },
    {
     "name": "stdout",
     "output_type": "stream",
     "text": [
      "Model: \"functional_3\"\n",
      "_________________________________________________________________\n",
      "Layer (type)                 Output Shape              Param #   \n",
      "=================================================================\n",
      "input_1 (InputLayer)         [(None, 64, 64, 242)]     0         \n",
      "_________________________________________________________________\n",
      "conv2d (Conv2D)              (None, 64, 64, 242)       2869878   \n",
      "_________________________________________________________________\n",
      "instance_normalization (Inst (None, 64, 64, 242)       484       \n",
      "_________________________________________________________________\n",
      "conv2d_1 (Conv2D)            (None, 64, 64, 200)       1210200   \n",
      "_________________________________________________________________\n",
      "instance_normalization_1 (In (None, 64, 64, 200)       400       \n",
      "_________________________________________________________________\n",
      "conv2d_2 (Conv2D)            (None, 64, 64, 158)       790158    \n",
      "_________________________________________________________________\n",
      "instance_normalization_2 (In (None, 64, 64, 158)       316       \n",
      "_________________________________________________________________\n",
      "conv2d_3 (Conv2D)            (None, 64, 64, 116)       165068    \n",
      "_________________________________________________________________\n",
      "instance_normalization_3 (In (None, 64, 64, 116)       232       \n",
      "_________________________________________________________________\n",
      "conv2d_4 (Conv2D)            (None, 64, 64, 74)        77330     \n",
      "_________________________________________________________________\n",
      "instance_normalization_4 (In (None, 64, 64, 74)        148       \n",
      "_________________________________________________________________\n",
      "conv2d_5 (Conv2D)            (None, 64, 64, 32)        21344     \n",
      "_________________________________________________________________\n",
      "dropout (Dropout)            (None, 64, 64, 32)        0         \n",
      "_________________________________________________________________\n",
      "instance_normalization_5 (In (None, 64, 64, 32)        64        \n",
      "_________________________________________________________________\n",
      "conv2d_transpose (Conv2DTran (None, 64, 64, 32)        9248      \n",
      "_________________________________________________________________\n",
      "instance_normalization_6 (In (None, 64, 64, 32)        64        \n",
      "_________________________________________________________________\n",
      "conv2d_transpose_1 (Conv2DTr (None, 64, 64, 74)        21386     \n",
      "_________________________________________________________________\n",
      "instance_normalization_7 (In (None, 64, 64, 74)        148       \n",
      "_________________________________________________________________\n",
      "conv2d_transpose_2 (Conv2DTr (None, 64, 64, 116)       77372     \n",
      "_________________________________________________________________\n",
      "instance_normalization_8 (In (None, 64, 64, 116)       232       \n",
      "_________________________________________________________________\n",
      "conv2d_transpose_3 (Conv2DTr (None, 64, 64, 158)       458358    \n",
      "_________________________________________________________________\n",
      "instance_normalization_9 (In (None, 64, 64, 158)       316       \n",
      "_________________________________________________________________\n",
      "conv2d_transpose_4 (Conv2DTr (None, 64, 64, 200)       790200    \n",
      "_________________________________________________________________\n",
      "instance_normalization_10 (I (None, 64, 64, 200)       400       \n",
      "_________________________________________________________________\n",
      "conv2d_transpose_5 (Conv2DTr (None, 64, 64, 242)       2371842   \n",
      "=================================================================\n",
      "Total params: 8,865,188\n",
      "Trainable params: 8,865,188\n",
      "Non-trainable params: 0\n",
      "_________________________________________________________________\n"
     ]
    }
   ],
   "source": [
    "cae_dim = load_model(\"hermi_dim_reduc_cae_v1.h5\", custom_objects={\"LeakyReLU\":LeakyReLU()})\n",
    "cae_dim.summary()"
   ]
  },
  {
   "cell_type": "code",
   "execution_count": 11,
   "metadata": {},
   "outputs": [
    {
     "name": "stdout",
     "output_type": "stream",
     "text": [
      "Tensor(\"instance_normalization_5/Reshape_3:0\", shape=(None, 64, 64, 32), dtype=float32)\n"
     ]
    }
   ],
   "source": [
    "output_layer = cae_dim.layers[-12].output\n",
    "print(output_layer)"
   ]
  },
  {
   "cell_type": "code",
   "execution_count": 12,
   "metadata": {},
   "outputs": [
    {
     "name": "stdout",
     "output_type": "stream",
     "text": [
      "Model: \"functional_1\"\n",
      "_________________________________________________________________\n",
      "Layer (type)                 Output Shape              Param #   \n",
      "=================================================================\n",
      "input_1 (InputLayer)         [(None, 64, 64, 242)]     0         \n",
      "_________________________________________________________________\n",
      "conv2d (Conv2D)              (None, 64, 64, 242)       2869878   \n",
      "_________________________________________________________________\n",
      "instance_normalization (Inst (None, 64, 64, 242)       484       \n",
      "_________________________________________________________________\n",
      "conv2d_1 (Conv2D)            (None, 64, 64, 200)       1210200   \n",
      "_________________________________________________________________\n",
      "instance_normalization_1 (In (None, 64, 64, 200)       400       \n",
      "_________________________________________________________________\n",
      "conv2d_2 (Conv2D)            (None, 64, 64, 158)       790158    \n",
      "_________________________________________________________________\n",
      "instance_normalization_2 (In (None, 64, 64, 158)       316       \n",
      "_________________________________________________________________\n",
      "conv2d_3 (Conv2D)            (None, 64, 64, 116)       165068    \n",
      "_________________________________________________________________\n",
      "instance_normalization_3 (In (None, 64, 64, 116)       232       \n",
      "_________________________________________________________________\n",
      "conv2d_4 (Conv2D)            (None, 64, 64, 74)        77330     \n",
      "_________________________________________________________________\n",
      "instance_normalization_4 (In (None, 64, 64, 74)        148       \n",
      "_________________________________________________________________\n",
      "conv2d_5 (Conv2D)            (None, 64, 64, 32)        21344     \n",
      "_________________________________________________________________\n",
      "dropout (Dropout)            (None, 64, 64, 32)        0         \n",
      "_________________________________________________________________\n",
      "instance_normalization_5 (In (None, 64, 64, 32)        64        \n",
      "=================================================================\n",
      "Total params: 5,135,622\n",
      "Trainable params: 0\n",
      "Non-trainable params: 5,135,622\n",
      "_________________________________________________________________\n"
     ]
    }
   ],
   "source": [
    "cae_encoder = Model(inputs=cae_dim.input, outputs=output_layer)\n",
    "cae_encoder.trainable = False;\n",
    "cae_encoder.summary()"
   ]
  },
  {
   "cell_type": "markdown",
   "metadata": {},
   "source": [
    "# Define batch and validation data generators ###"
   ]
  },
  {
   "cell_type": "code",
   "execution_count": 33,
   "metadata": {},
   "outputs": [],
   "source": [
    "def myBatchGenerator(batch_size, images, labels):  \n",
    "    batch_counter = 0\n",
    "    save_batch = 0\n",
    "    while True:    \n",
    "        batch_image = []\n",
    "        batch_label = []\n",
    "        while batch_counter < batch_size + save_batch:\n",
    "            #rand_ind = np.random.randint(len(images));#Random index number to access list\n",
    "\n",
    "            filename1 = images[batch_counter][0]\n",
    "            filename2 = images[batch_counter][1]\n",
    "            theImage1 = np.load(filename1)\n",
    "            theImage2 = np.load(filename2)\n",
    "            tempImage = np.zeros((2, 64, 64, theImage1.shape[2]))\n",
    "            tempImage[0, :, :, :] = theImage1;\n",
    "            tempImage[1, :, :, :] = theImage2;\n",
    "            tempImage = cae_encoder.predict(tempImage)\n",
    "            \n",
    "            labelname = labels[batch_counter]\n",
    "            theLabel = np.load(labelname)\n",
    "            #The input image and the batch label should be the same in this case\n",
    "            \n",
    "            batch_image.append(tempImage)\n",
    "            batch_label.append(theLabel)\n",
    "            \n",
    "            #print(theImage.shape)\n",
    "            batch_counter = batch_counter + 1\n",
    "            #print(\"batch_counter : \"+str(batch_counter))\n",
    "        #print(\"batch_size + save_batch : \"+str(batch_size + save_batch))\n",
    "        if(batch_counter == len(images)-1 or (batch_size + save_batch) > len(images)-1):\n",
    "            batch_counter = 0\n",
    "            save_batch = 0\n",
    "            \n",
    "        save_batch = batch_counter\n",
    "        BI = np.array(batch_image)#.as...\n",
    "        BL = np.array(batch_label)#.astype(np.float32);#Batch labe\n",
    "        yield BI, BL"
   ]
  },
  {
   "cell_type": "code",
   "execution_count": 34,
   "metadata": {},
   "outputs": [],
   "source": [
    "def myValidGenerator(batch_size, images, labels): #Load images in a non-random way\n",
    "    \n",
    "    batch_counter = 0\n",
    "    while True:\n",
    "        batch_image = []\n",
    "        batch_label = []\n",
    "        while batch_counter < batch_size:\n",
    "            rand_ind = np.random.randint(len(images));#Random index number to access list\n",
    "            \n",
    "            filename1 = images[rand_ind][0]\n",
    "            filename2 = images[rand_ind][1]\n",
    "            theImage1 = np.load(filename1)\n",
    "            theImage2 = np.load(filename2)\n",
    "            tempImage = np.zeros((2, 64, 64, theImage1.shape[2]))\n",
    "            tempImage[0, :, :, :] = theImage1;\n",
    "            tempImage[1, :, :, :] = theImage2;\n",
    "            tempImage = cae_encoder.predict(tempImage)\n",
    "            \n",
    "            labelname = labels[rand_ind]\n",
    "            theLabel = np.load(labelname)\n",
    "            #The input image and the batch label should be the same in this case\n",
    "            \n",
    "            batch_image.append(tempImage)\n",
    "            batch_label.append(theLabel)\n",
    "\n",
    "            batch_counter = batch_counter + 1\n",
    "            \n",
    "        batch_counter = 0\n",
    "        \n",
    "        BI = np.array(batch_image)#.astype(np.float32);#Batch image\n",
    "#         print(\"Validation\")\n",
    "#         for i in range(len(batch_label)):\n",
    "#             print(batch_label[i].shape)\n",
    "            \n",
    "        BL = np.array(batch_label)#.astype(np.float32);#Batch labe\n",
    "        yield BI, BL;# Yield gives a sequence of values?"
   ]
  },
  {
   "cell_type": "markdown",
   "metadata": {},
   "source": [
    "#### Generate training and validation data from file ####"
   ]
  },
  {
   "cell_type": "code",
   "execution_count": 35,
   "metadata": {},
   "outputs": [],
   "source": [
    "BATCH_SIZE = 19; # Common divisor for 207 and 621\n",
    "train_batch = myBatchGenerator(BATCH_SIZE, hermi_train_im, hermi_train_lb)\n",
    "test_batch = myValidGenerator(BATCH_SIZE, hermi_test_im, hermi_test_lb)"
   ]
  },
  {
   "cell_type": "code",
   "execution_count": 36,
   "metadata": {},
   "outputs": [],
   "source": [
    "theInput = Input((2, 64, 64, 32))"
   ]
  },
  {
   "cell_type": "code",
   "execution_count": 37,
   "metadata": {},
   "outputs": [
    {
     "name": "stdout",
     "output_type": "stream",
     "text": [
      "Model: \"functional_7\"\n",
      "_________________________________________________________________\n",
      "Layer (type)                 Output Shape              Param #   \n",
      "=================================================================\n",
      "input_3 (InputLayer)         [(None, 2, 64, 64, 32)]   0         \n",
      "_________________________________________________________________\n",
      "time_distributed_4 (TimeDist (None, 2, 64, 64, 64)     51264     \n",
      "_________________________________________________________________\n",
      "time_distributed_5 (TimeDist (None, 2, 64, 64, 32)     18464     \n",
      "_________________________________________________________________\n",
      "conv_lst_m2d_4 (ConvLSTM2D)  (None, 2, 64, 64, 32)     73856     \n",
      "_________________________________________________________________\n",
      "conv_lst_m2d_5 (ConvLSTM2D)  (None, 64, 64, 16)        27712     \n",
      "_________________________________________________________________\n",
      "dense_2 (Dense)              (None, 64, 64, 6)         102       \n",
      "=================================================================\n",
      "Total params: 171,398\n",
      "Trainable params: 171,398\n",
      "Non-trainable params: 0\n",
      "_________________________________________________________________\n"
     ]
    }
   ],
   "source": [
    "convLSTM = TimeDistributed(Conv2D(64, (5, 5), padding='same', activation=LeakyReLU()))(theInput)\n",
    "convLSTM = TimeDistributed(Conv2D(32, (3, 3), padding='same', activation=LeakyReLU()))(convLSTM)\n",
    "convLSTM = ConvLSTM2D(32, kernel_size = (3, 3),padding = 'same', return_sequences = True)(convLSTM)\n",
    "convLSTM = ConvLSTM2D(16, kernel_size = (3, 3), padding = 'same', return_sequences = False)(convLSTM)\n",
    "convLSTM = Dense(6, activation = 'softmax')(convLSTM)\n",
    "\n",
    "lstm_model = Model(inputs = theInput, outputs = convLSTM);\n",
    "lstm_model.summary();"
   ]
  },
  {
   "cell_type": "markdown",
   "metadata": {},
   "source": [
    "## Define training log paths ##"
   ]
  },
  {
   "cell_type": "code",
   "execution_count": 38,
   "metadata": {},
   "outputs": [
    {
     "data": {
      "text/plain": [
       "WindowsPath('E:/cha_detec_desktop1_cae/hermi_change/tensorboard_logs')"
      ]
     },
     "execution_count": 38,
     "metadata": {},
     "output_type": "execute_result"
    }
   ],
   "source": [
    "logdir = pathlib.Path(r\"E:\\cha_detec_desktop1_cae\\hermi_change\")/\"tensorboard_logs\"\n",
    "shutil.rmtree(logdir, ignore_errors=True)\n",
    "logdir"
   ]
  },
  {
   "cell_type": "code",
   "execution_count": 39,
   "metadata": {},
   "outputs": [],
   "source": [
    "def get_callbacks(name):\n",
    "  return [\n",
    "    tfdocs.modeling.EpochDots(),\n",
    "    tf.keras.callbacks.EarlyStopping(monitor='val_loss', patience=5),\n",
    "    tf.keras.callbacks.TensorBoard(logdir/name),\n",
    "    tf.keras.callbacks.ModelCheckpoint(\n",
    "        \"hermi_ch_detec_v1.h5\", monitor='val_loss', verbose=1, save_best_only=True,\n",
    "         mode='min', save_freq='epoch')\n",
    "  ]"
   ]
  },
  {
   "cell_type": "code",
   "execution_count": 40,
   "metadata": {},
   "outputs": [],
   "source": [
    "lstm_model.compile(optimizer = 'adam', loss = 'categorical_crossentropy', metrics = \"accuracy\")"
   ]
  },
  {
   "cell_type": "code",
   "execution_count": 41,
   "metadata": {
    "scrolled": true
   },
   "outputs": [
    {
     "name": "stdout",
     "output_type": "stream",
     "text": [
      "Epoch 1/10\n",
      " 1/92 [..............................] - ETA: 0s - loss: 1.7916 - accuracy: 0.1258WARNING:tensorflow:From c:\\users\\cvr 2019 2020\\anaconda3\\envs\\tf2\\lib\\site-packages\\tensorflow\\python\\ops\\summary_ops_v2.py:1277: stop (from tensorflow.python.eager.profiler) is deprecated and will be removed after 2020-07-01.\n",
      "Instructions for updating:\n",
      "use `tf.profiler.experimental.stop` instead.\n"
     ]
    },
    {
     "name": "stderr",
     "output_type": "stream",
     "text": [
      "WARNING:tensorflow:From c:\\users\\cvr 2019 2020\\anaconda3\\envs\\tf2\\lib\\site-packages\\tensorflow\\python\\ops\\summary_ops_v2.py:1277: stop (from tensorflow.python.eager.profiler) is deprecated and will be removed after 2020-07-01.\n",
      "Instructions for updating:\n",
      "use `tf.profiler.experimental.stop` instead.\n"
     ]
    },
    {
     "name": "stdout",
     "output_type": "stream",
     "text": [
      "92/92 [==============================] - ETA: 0s - loss: 0.6852 - accuracy: 0.8490\n",
      "Epoch: 0, accuracy:0.8490,  loss:0.6852,  val_accuracy:0.8057,  val_loss:0.7679,  \n",
      ".\n",
      "Epoch 00001: val_loss improved from inf to 0.76790, saving model to hermi_ch_detec_v1.h5\n",
      "92/92 [==============================] - 191s 2s/step - loss: 0.6852 - accuracy: 0.8490 - val_loss: 0.7679 - val_accuracy: 0.8057\n",
      "Epoch 2/10\n",
      "92/92 [==============================] - ETA: 0s - loss: 0.5846 - accuracy: 0.8568.\n",
      "Epoch 00002: val_loss improved from 0.76790 to 0.52802, saving model to hermi_ch_detec_v1.h5\n",
      "92/92 [==============================] - 188s 2s/step - loss: 0.5846 - accuracy: 0.8568 - val_loss: 0.5280 - val_accuracy: 0.8723\n",
      "Epoch 3/10\n",
      "92/92 [==============================] - ETA: 0s - loss: 0.5818 - accuracy: 0.8568.\n",
      "Epoch 00003: val_loss did not improve from 0.52802\n",
      "92/92 [==============================] - 189s 2s/step - loss: 0.5818 - accuracy: 0.8568 - val_loss: 0.5617 - val_accuracy: 0.8498\n",
      "Epoch 4/10\n",
      "92/92 [==============================] - ETA: 0s - loss: 0.5767 - accuracy: 0.8568.\n",
      "Epoch 00004: val_loss improved from 0.52802 to 0.50781, saving model to hermi_ch_detec_v1.h5\n",
      "92/92 [==============================] - 187s 2s/step - loss: 0.5767 - accuracy: 0.8568 - val_loss: 0.5078 - val_accuracy: 0.8860\n",
      "Epoch 5/10\n",
      "92/92 [==============================] - ETA: 0s - loss: 0.4576 - accuracy: 0.8568.\n",
      "Epoch 00005: val_loss improved from 0.50781 to 0.26463, saving model to hermi_ch_detec_v1.h5\n",
      "92/92 [==============================] - 188s 2s/step - loss: 0.4576 - accuracy: 0.8568 - val_loss: 0.2646 - val_accuracy: 0.8965\n",
      "Epoch 6/10\n",
      "92/92 [==============================] - ETA: 0s - loss: 0.2585 - accuracy: 0.9051.\n",
      "Epoch 00006: val_loss improved from 0.26463 to 0.21516, saving model to hermi_ch_detec_v1.h5\n",
      "92/92 [==============================] - 188s 2s/step - loss: 0.2585 - accuracy: 0.9051 - val_loss: 0.2152 - val_accuracy: 0.9565\n",
      "Epoch 7/10\n",
      "92/92 [==============================] - ETA: 0s - loss: 0.2005 - accuracy: 0.9484.\n",
      "Epoch 00007: val_loss improved from 0.21516 to 0.12780, saving model to hermi_ch_detec_v1.h5\n",
      "92/92 [==============================] - 187s 2s/step - loss: 0.2005 - accuracy: 0.9484 - val_loss: 0.1278 - val_accuracy: 0.9703\n",
      "Epoch 8/10\n",
      "92/92 [==============================] - ETA: 0s - loss: 0.1589 - accuracy: 0.9589.\n",
      "Epoch 00008: val_loss improved from 0.12780 to 0.10979, saving model to hermi_ch_detec_v1.h5\n",
      "92/92 [==============================] - 189s 2s/step - loss: 0.1589 - accuracy: 0.9589 - val_loss: 0.1098 - val_accuracy: 0.9799\n",
      "Epoch 9/10\n",
      "92/92 [==============================] - ETA: 0s - loss: 0.1224 - accuracy: 0.9764.\n",
      "Epoch 00009: val_loss improved from 0.10979 to 0.05762, saving model to hermi_ch_detec_v1.h5\n",
      "92/92 [==============================] - 189s 2s/step - loss: 0.1224 - accuracy: 0.9764 - val_loss: 0.0576 - val_accuracy: 0.9904\n",
      "Epoch 10/10\n",
      "92/92 [==============================] - ETA: 0s - loss: 0.1026 - accuracy: 0.9793.\n",
      "Epoch 00010: val_loss did not improve from 0.05762\n",
      "92/92 [==============================] - 188s 2s/step - loss: 0.1026 - accuracy: 0.9793 - val_loss: 0.0814 - val_accuracy: 0.9837\n"
     ]
    }
   ],
   "source": [
    "history_v1 = lstm_model.fit(train_batch, \n",
    "                          steps_per_epoch=92, \n",
    "                          epochs=10, \n",
    "                          verbose=1,\n",
    "                          validation_data=test_batch, \n",
    "                          validation_steps=1,\n",
    "                          callbacks = get_callbacks(\"updated\")\n",
    "                          )"
   ]
  },
  {
   "cell_type": "markdown",
   "metadata": {},
   "source": [
    "## Load pretrained cae dimensionality reduction model"
   ]
  },
  {
   "cell_type": "code",
   "execution_count": 17,
   "metadata": {},
   "outputs": [],
   "source": [
    "ch_best = load_model(\"hermi_ch_detec_v1.h5\", custom_objects={\"LeakyReLU\": LeakyReLU})"
   ]
  },
  {
   "cell_type": "code",
   "execution_count": 18,
   "metadata": {},
   "outputs": [
    {
     "data": {
      "text/plain": [
       "['E:\\\\intermediate_notebooks\\\\hermi2004\\\\0876.npy',\n",
       " 'E:\\\\intermediate_notebooks\\\\hermi2007\\\\0876.npy']"
      ]
     },
     "execution_count": 18,
     "metadata": {},
     "output_type": "execute_result"
    }
   ],
   "source": [
    "hermi_test_im[70]"
   ]
  },
  {
   "cell_type": "code",
   "execution_count": 19,
   "metadata": {},
   "outputs": [],
   "source": [
    "hermi_2004 = np.load(hermi_test_im[70][0]);\n",
    "hermi_2007 = np.load(hermi_test_im[70][1]);"
   ]
  },
  {
   "cell_type": "code",
   "execution_count": 20,
   "metadata": {},
   "outputs": [],
   "source": [
    "feed = np.zeros((2, 64, 64, 242))\n",
    "feed[0, :, :, :] = hermi_2004;\n",
    "feed[1, :, :, :] = hermi_2007;"
   ]
  },
  {
   "cell_type": "code",
   "execution_count": 21,
   "metadata": {},
   "outputs": [],
   "source": [
    "out = cae_encoder.predict(feed)"
   ]
  },
  {
   "cell_type": "code",
   "execution_count": 22,
   "metadata": {},
   "outputs": [
    {
     "data": {
      "text/plain": [
       "(1, 2, 64, 64, 32)"
      ]
     },
     "execution_count": 22,
     "metadata": {},
     "output_type": "execute_result"
    }
   ],
   "source": [
    "out_re = np.expand_dims(out, axis=0)\n",
    "out_re.shape"
   ]
  },
  {
   "cell_type": "code",
   "execution_count": 23,
   "metadata": {},
   "outputs": [
    {
     "data": {
      "text/plain": [
       "(1, 64, 64, 6)"
      ]
     },
     "execution_count": 23,
     "metadata": {},
     "output_type": "execute_result"
    }
   ],
   "source": [
    "ch_pred = ch_best.predict(out_re)\n",
    "ch_pred.shape"
   ]
  },
  {
   "cell_type": "code",
   "execution_count": 24,
   "metadata": {},
   "outputs": [
    {
     "data": {
      "text/plain": [
       "(64, 64, 6)"
      ]
     },
     "execution_count": 24,
     "metadata": {},
     "output_type": "execute_result"
    }
   ],
   "source": [
    "ch_pred = np.squeeze(ch_pred)\n",
    "ch_pred.shape"
   ]
  },
  {
   "cell_type": "code",
   "execution_count": 25,
   "metadata": {},
   "outputs": [
    {
     "data": {
      "text/plain": [
       "(64, 64)"
      ]
     },
     "execution_count": 25,
     "metadata": {},
     "output_type": "execute_result"
    }
   ],
   "source": [
    "ch_pred_ord = np.argmax(ch_pred, axis=2)\n",
    "ch_pred_ord.shape"
   ]
  },
  {
   "cell_type": "code",
   "execution_count": 26,
   "metadata": {},
   "outputs": [
    {
     "name": "stderr",
     "output_type": "stream",
     "text": [
      "c:\\users\\cvr 2019 2020\\anaconda3\\envs\\tf2\\lib\\site-packages\\spectral\\graphics\\spypylab.py:27: MatplotlibDeprecationWarning: \n",
      "The keymap.all_axes rcparam was deprecated in Matplotlib 3.3 and will be removed two minor releases later.\n",
      "  mpl.rcParams['keymap.all_axes'] = ''\n",
      "c:\\users\\cvr 2019 2020\\anaconda3\\envs\\tf2\\lib\\site-packages\\spectral\\graphics\\spypylab.py:905: MatplotlibDeprecationWarning: Passing parameters norm and vmin/vmax simultaneously is deprecated since 3.3 and will become an error two minor releases later. Please pass vmin/vmax directly to the norm when creating it.\n",
      "  self.class_axes = plt.imshow(self.class_rgb, **kwargs)\n"
     ]
    },
    {
     "data": {
      "text/plain": [
       "ImageView object:\n",
       "  Interpolation       :  <default>"
      ]
     },
     "execution_count": 26,
     "metadata": {},
     "output_type": "execute_result"
    },
    {
     "data": {
      "image/png": "[encoded data removed]",
      "text/plain": [
       "<Figure size 432x288 with 1 Axes>"
      ]
     },
     "metadata": {
      "needs_background": "light"
     },
     "output_type": "display_data"
    }
   ],
   "source": [
    "imshow(classes=ch_pred_ord)"
   ]
  },
  {
   "cell_type": "code",
   "execution_count": 27,
   "metadata": {},
   "outputs": [
    {
     "data": {
      "text/plain": [
       "(64, 64, 6)"
      ]
     },
     "execution_count": 27,
     "metadata": {},
     "output_type": "execute_result"
    }
   ],
   "source": [
    "ch_label = np.load(r\"E:\\intermediate_notebooks\\hermi_ch_gt_cat\\0876.npy\")\n",
    "ch_label.shape"
   ]
  },
  {
   "cell_type": "code",
   "execution_count": 28,
   "metadata": {},
   "outputs": [
    {
     "data": {
      "text/plain": [
       "(64, 64)"
      ]
     },
     "execution_count": 28,
     "metadata": {},
     "output_type": "execute_result"
    }
   ],
   "source": [
    "ch_label_ord = np.argmax(ch_label, axis=2)\n",
    "ch_label_ord.shape"
   ]
  },
  {
   "cell_type": "code",
   "execution_count": 29,
   "metadata": {},
   "outputs": [
    {
     "data": {
      "text/plain": [
       "ImageView object:\n",
       "  Interpolation       :  <default>"
      ]
     },
     "execution_count": 29,
     "metadata": {},
     "output_type": "execute_result"
    },
    {
     "data": {
      "image/png": "[encoded data removed]",
      "text/plain": [
       "<Figure size 432x288 with 1 Axes>"
      ]
     },
     "metadata": {
      "needs_background": "light"
     },
     "output_type": "display_data"
    }
   ],
   "source": [
    "imshow(classes = ch_label_ord)"
   ]
  },
  {
   "cell_type": "code",
   "execution_count": 30,
   "metadata": {},
   "outputs": [
    {
     "name": "stdout",
     "output_type": "stream",
     "text": [
      "E:\\intermediate_notebooks\\hermi2004_final----------\n",
      "Number of Samples :    28\n",
      "E:\\intermediate_notebooks\\hermi2007_final----------\n",
      "Number of Samples :    28\n"
     ]
    }
   ],
   "source": [
    "hermi_2004_final = load_data(r\"E:\\intermediate_notebooks\\hermi2004_final\");# List containing names (string) of the datasets in hermi_2004\n",
    "hermi_2007_final = load_data(r\"E:\\intermediate_notebooks\\hermi2007_final\");# List containing names (string) of the datasets in hermi_2004"
   ]
  },
  {
   "cell_type": "code",
   "execution_count": 31,
   "metadata": {},
   "outputs": [
    {
     "name": "stdout",
     "output_type": "stream",
     "text": [
      "Loaded 28 files\n"
     ]
    }
   ],
   "source": [
    "counter = 0;\n",
    "hermi_org = np.zeros((2, 64, 64, 242))\n",
    "for i in range(len(hermi_2004_final)):\n",
    "    #print(\"Loading file number: \", all_final[counter])\n",
    "    temp1 = np.load(hermi_2004_final[i])\n",
    "    temp2 = np.load(hermi_2007_final[i])\n",
    "    hermi_org[0, :, :, :] = temp1;\n",
    "    hermi_org[1, :, :, :] = temp2;\n",
    "    hermi_pred = cae_encoder.predict(hermi_org)\n",
    "    hermi_pred = np.expand_dims(hermi_pred, axis=0);\n",
    "    hermi_pred = ch_best.predict(hermi_pred)\n",
    "    hermi_pred = np.squeeze(hermi_pred)\n",
    "    hermi_pred = np.argmax(hermi_pred, axis=2)\n",
    "    np.save(pathlib.Path(r\"E:\\cha_detec_desktop1_cae\\hermi_change\", '{:03d}'.format(counter)).with_suffix(\".npy\"), hermi_pred)\n",
    "    counter += 1\n",
    "print(\"Loaded \"+str(counter)+\" files\")"
   ]
  },
  {
   "cell_type": "code",
   "execution_count": 32,
   "metadata": {},
   "outputs": [
    {
     "name": "stdout",
     "output_type": "stream",
     "text": [
      "E:\\cha_detec_desktop1_cae\\hermi_change----------\n",
      "Number of Samples :    28\n"
     ]
    }
   ],
   "source": [
    "all_change = load_data(r\"E:\\cha_detec_desktop1_cae\\hermi_change\");# List containing names (string) of the datasets in pavC"
   ]
  },
  {
   "cell_type": "code",
   "execution_count": 33,
   "metadata": {},
   "outputs": [
    {
     "data": {
      "text/plain": [
       "(64, 64)"
      ]
     },
     "execution_count": 33,
     "metadata": {},
     "output_type": "execute_result"
    }
   ],
   "source": [
    "np.load(all_change[20]).shape"
   ]
  },
  {
   "cell_type": "code",
   "execution_count": 34,
   "metadata": {},
   "outputs": [
    {
     "data": {
      "text/plain": [
       "(448, 256)"
      ]
     },
     "execution_count": 34,
     "metadata": {},
     "output_type": "execute_result"
    }
   ],
   "source": [
    "change_im = np.zeros((448, 256))\n",
    "change_im.shape"
   ]
  },
  {
   "cell_type": "code",
   "execution_count": 35,
   "metadata": {},
   "outputs": [
    {
     "name": "stdout",
     "output_type": "stream",
     "text": [
      "28\n"
     ]
    }
   ],
   "source": [
    "counter = 0;\n",
    "for r in range(0, change_im.shape[0], 64):\n",
    "    for c in range(0, change_im.shape[1], 64):\n",
    "        temp = np.load(all_change[counter])\n",
    "        #print(temp.shape)\n",
    "        change_im[r:r+64, c:c+64] = temp \n",
    "        counter +=1;\n",
    "print(counter)"
   ]
  },
  {
   "cell_type": "code",
   "execution_count": 36,
   "metadata": {},
   "outputs": [],
   "source": [
    "change_im = change_im[0:390, 0:200]"
   ]
  },
  {
   "cell_type": "code",
   "execution_count": 37,
   "metadata": {},
   "outputs": [
    {
     "data": {
      "text/plain": [
       "ImageView object:\n",
       "  Interpolation       :  <default>"
      ]
     },
     "execution_count": 37,
     "metadata": {},
     "output_type": "execute_result"
    },
    {
     "data": {
      "image/png": "[encoded data removed]",
      "text/plain": [
       "<Figure size 432x288 with 1 Axes>"
      ]
     },
     "metadata": {
      "needs_background": "light"
     },
     "output_type": "display_data"
    }
   ],
   "source": [
    "imshow(classes=change_im)"
   ]
  },
  {
   "cell_type": "code",
   "execution_count": 38,
   "metadata": {},
   "outputs": [
    {
     "name": "stdout",
     "output_type": "stream",
     "text": [
      "E:\\intermediate_notebooks\\hermi_ch_gt_final----------\n",
      "Number of Samples :    28\n"
     ]
    }
   ],
   "source": [
    "gt_all_final = load_data(r\"E:\\intermediate_notebooks\\hermi_ch_gt_final\");# List containing names (string) of the datasets in pavC"
   ]
  },
  {
   "cell_type": "code",
   "execution_count": 39,
   "metadata": {},
   "outputs": [],
   "source": [
    "final_im = np.zeros((448, 256))"
   ]
  },
  {
   "cell_type": "code",
   "execution_count": 40,
   "metadata": {},
   "outputs": [
    {
     "name": "stdout",
     "output_type": "stream",
     "text": [
      "28\n"
     ]
    }
   ],
   "source": [
    "counter = 0;\n",
    "for r in range(0, final_im.shape[0], 64):\n",
    "    for c in range(0, final_im.shape[1], 64):\n",
    "        temp = np.load(gt_all_final[counter])\n",
    "        #print(temp.shape)\n",
    "        final_im[r:r+64, c:c+64] = temp \n",
    "        counter +=1;\n",
    "print(counter)"
   ]
  },
  {
   "cell_type": "code",
   "execution_count": 41,
   "metadata": {},
   "outputs": [],
   "source": [
    "final_im = final_im[0:390, 0:200]"
   ]
  },
  {
   "cell_type": "code",
   "execution_count": 42,
   "metadata": {},
   "outputs": [
    {
     "data": {
      "text/plain": [
       "ImageView object:\n",
       "  Interpolation       :  <default>"
      ]
     },
     "execution_count": 42,
     "metadata": {},
     "output_type": "execute_result"
    },
    {
     "data": {
      "image/png": "[encoded data removed]",
      "text/plain": [
       "<Figure size 432x288 with 1 Axes>"
      ]
     },
     "metadata": {
      "needs_background": "light"
     },
     "output_type": "display_data"
    },
    {
     "data": {
      "image/png": "[encoded data removed]",
      "text/plain": [
       "<Figure size 432x288 with 1 Axes>"
      ]
     },
     "metadata": {
      "needs_background": "light"
     },
     "output_type": "display_data"
    }
   ],
   "source": [
    "imshow(classes=final_im)\n",
    "imshow(classes=change_im)"
   ]
  },
  {
   "cell_type": "code",
   "execution_count": 75,
   "metadata": {},
   "outputs": [],
   "source": [
    "np.save(pathlib.Path(r\"E:\\cha_detec_desktop1_cae\", \"hermi_change_recon_large\").with_suffix(\".npy\"), change_im);\n",
    "np.save(pathlib.Path(r\"E:\\cha_detec_desktop1_cae\", \"hermi_change_original_large\").with_suffix(\".npy\"), final_im);"
   ]
  },
  {
   "cell_type": "code",
   "execution_count": 46,
   "metadata": {},
   "outputs": [
    {
     "data": {
      "text/plain": [
       "array([68014,  5558,  1331,    79,  1557,  1461], dtype=int64)"
      ]
     },
     "execution_count": 46,
     "metadata": {},
     "output_type": "execute_result"
    }
   ],
   "source": [
    "unique = np.unique(final_im, return_counts=True)\n",
    "count = unique[1]\n",
    "count"
   ]
  },
  {
   "cell_type": "code",
   "execution_count": 47,
   "metadata": {},
   "outputs": [],
   "source": [
    "confMat = np.zeros((6,6), dtype=np.int64)\n",
    "classes = np.arange(0, 6)\n",
    "confMat2 = np.zeros((6,6), dtype=np.float64)"
   ]
  },
  {
   "cell_type": "code",
   "execution_count": 48,
   "metadata": {},
   "outputs": [],
   "source": [
    "# TO BE CHANGED FOR TWO DIMENSTIONAL ARRAY \n",
    "h = 0\n",
    "for r in range(390):\n",
    "    for c in range(200):\n",
    "        confMat[int(final_im[r][c])][int(change_im[r][c])] += 1 \n",
    "        h = h + 1"
   ]
  },
  {
   "cell_type": "code",
   "execution_count": 49,
   "metadata": {},
   "outputs": [],
   "source": [
    "# TO BE CHANGED FOR TWO DIMENSTIONAL ARRAY \n",
    "h = 0\n",
    "for r in range(6):\n",
    "    for c in range(6):\n",
    "        confMat2[r][c] = (confMat[r][c]*100)/count[r]\n",
    "        h = h + 1"
   ]
  },
  {
   "cell_type": "code",
   "execution_count": 53,
   "metadata": {},
   "outputs": [],
   "source": [
    "def plot_confusion_matrix(cm, classes, title, normalize=False, cmap=plt.cm.Greens):\n",
    "    \n",
    "    fig, ax = plt.subplots(figsize=(5, 5))\n",
    "    im = ax.imshow(cm, interpolation='nearest', cmap=cmap)\n",
    "    ax.figure.colorbar(im, ax=ax)\n",
    "    # We want to show all ticks...\n",
    "    ax.set(xticks=np.arange(cm.shape[1]),\n",
    "           yticks=np.arange(cm.shape[0]),\n",
    "           # ... and label them with the respective list entries\n",
    "           xticklabels=classes, yticklabels=classes,\n",
    "           title=title,\n",
    "           ylabel='True label',\n",
    "           xlabel='Predicted label')\n",
    "\n",
    "    # Rotate the tick labels and set their alignment.\n",
    "    plt.setp(ax.get_xticklabels(), rotation=45, ha=\"right\",\n",
    "             rotation_mode=\"anchor\")\n",
    "\n",
    "    # Loop over data dimensions and create text annotations.\n",
    "    fmt = '.2f' if normalize else 'd'\n",
    "    thresh = cm.max() / 2.\n",
    "    for i in range(cm.shape[0]):\n",
    "        for j in range(cm.shape[1]):\n",
    "            ax.text(j, i, format(cm[i, j], fmt),\n",
    "                    ha=\"center\", va=\"center\",\n",
    "                    color=\"white\" if cm[i, j] > thresh else \"black\")\n",
    "    fig.tight_layout()\n",
    "    return ax"
   ]
  },
  {
   "cell_type": "code",
   "execution_count": 54,
   "metadata": {
    "scrolled": true
   },
   "outputs": [
    {
     "data": {
      "text/plain": [
       "<AxesSubplot:title={'center':'Confusion Matrix'}, xlabel='Predicted label', ylabel='True label'>"
      ]
     },
     "execution_count": 54,
     "metadata": {},
     "output_type": "execute_result"
    },
    {
     "data": {
      "image/png": "[encoded data removed]",
      "text/plain": [
       "<Figure size 360x360 with 2 Axes>"
      ]
     },
     "metadata": {
      "needs_background": "light"
     },
     "output_type": "display_data"
    }
   ],
   "source": [
    "plot_confusion_matrix(confMat, classes, title=\"Confusion Matrix\")"
   ]
  },
  {
   "cell_type": "code",
   "execution_count": 55,
   "metadata": {},
   "outputs": [
    {
     "data": {
      "text/plain": [
       "<AxesSubplot:title={'center':'Confusion Matrix'}, xlabel='Predicted label', ylabel='True label'>"
      ]
     },
     "execution_count": 55,
     "metadata": {},
     "output_type": "execute_result"
    },
    {
     "data": {
      "image/png": "[encoded data removed]",
      "text/plain": [
       "<Figure size 360x360 with 2 Axes>"
      ]
     },
     "metadata": {
      "needs_background": "light"
     },
     "output_type": "display_data"
    }
   ],
   "source": [
    "plot_confusion_matrix(confMat2, classes, normalize=True, title=\"Confusion Matrix\")"
   ]
  },
  {
   "cell_type": "code",
   "execution_count": 56,
   "metadata": {},
   "outputs": [
    {
     "name": "stdout",
     "output_type": "stream",
     "text": [
      "Accu = 0.9680384615384615\n",
      "Recall = 0.6113145345597717\n",
      "Precision = 0.7057502265920713\n",
      "F1 = 0.7951625571495745\n"
     ]
    }
   ],
   "source": [
    "row_sum = np.sum(confMat, axis=0)\n",
    "row_sum = np.where(row_sum==0, 1, row_sum)\n",
    "\n",
    "col_sum = np.sum(confMat, axis=1)\n",
    "col_sum = np.where(col_sum==0, 1, col_sum)\n",
    "\n",
    "# Recall = TP / (TP + FN) \n",
    "black_recall = np.diag(confMat) / col_sum\n",
    "\n",
    "# Precision = TP / (TP + FP)\n",
    "black_precision = np.diag(confMat) / row_sum\n",
    "h = 0\n",
    "for i in range(6):\n",
    "    h = h + confMat[i][i]\n",
    "    \n",
    "acc = h/(final_im.shape[0]*final_im.shape[1])\n",
    "\n",
    "\n",
    "\n",
    "black_recall_non_zero = np.where(black_recall==0, 1, black_recall)\n",
    "\n",
    "http://localhost:8888/notebooks/cha_detec_desktop1_cae/hermi_ch_detec_cae.ipynb#\n",
    "black_precision_non_zero = np.where(black_precision==0, 1, black_precision)\n",
    "\n",
    "\n",
    "# F1 score = (2 * black_recall * black_precision) / (black_recall + black_precision)\n",
    "black_fl = (2 * black_recall_non_zero * black_precision_non_zero) / (black_recall_non_zero + black_precision_non_zero)\n",
    "\n",
    "print(\"Accu = \" + str(np.mean(acc)))\n",
    "print(\"Recall = \" + str(np.mean(black_recall)))\n",
    "print(\"Precision = \" + str(np.mean(black_precision)))\n",
    "print(\"F1 = \" + str(np.mean(black_fl)))"
   ]
  },
  {
   "cell_type": "code",
   "execution_count": null,
   "metadata": {},
   "outputs": [],
   "source": []
  }
 ],
 "metadata": {
  "colab": {
   "collapsed_sections": [],
   "include_colab_link": true,
   "name": "Untitled7.ipynb",
   "provenance": []
  },
  "kernelspec": {
   "display_name": "Python 3",
   "language": "python",
   "name": "python3"
  },
  "language_info": {
   "codemirror_mode": {
    "name": "ipython",
    "version": 3
   },
   "file_extension": ".py",
   "mimetype": "text/x-python",
   "name": "python",
   "nbconvert_exporter": "python",
   "pygments_lexer": "ipython3",
   "version": "3.6.10"
  }
 },
 "nbformat": 4,
 "nbformat_minor": 1
}
