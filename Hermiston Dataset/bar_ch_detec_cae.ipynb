{
 "cells": [
  {
   "cell_type": "markdown",
   "metadata": {
    "colab_type": "text",
    "id": "view-in-github"
   },
   "source": [
    "<a href=\"https://colab.research.google.com/github/mkbensalah/Change-Detection-in-Hyperspectral-Images/blob/master/Training.ipynb\" target=\"_parent\"><img src=\"https://colab.research.google.com/assets/colab-badge.svg\" alt=\"Open In Colab\"/></a>"
   ]
  },
  {
   "cell_type": "markdown",
   "metadata": {
    "colab": {
     "base_uri": "https://localhost:8080/",
     "height": 51
    },
    "colab_type": "code",
    "id": "mPjYThNS_7Gx",
    "outputId": "09358934-3c3f-4aec-f8ff-e31efe8782b3"
   },
   "source": [
    "### Training with Hermiston Datasets ###"
   ]
  },
  {
   "cell_type": "code",
   "execution_count": 1,
   "metadata": {
    "colab": {},
    "colab_type": "code",
    "id": "ajxzQhWOD-3q"
   },
   "outputs": [],
   "source": [
    "import os\n",
    "import random\n",
    "import itertools\n",
    "from random import shuffle\n",
    "import h5py\n",
    "import json\n",
    "import tensorflow as tf\n",
    "\n",
    "import numpy as np\n",
    "import scipy\n",
    "import scipy.io as sio # Scipy input and output\n",
    "import scipy.ndimage \n",
    "from skimage.transform import rotate \n",
    "import spectral # Module for processing hyperspectral image data.\n",
    "import matplotlib \n",
    "%matplotlib inline\n",
    "\n",
    "# scikit-learn imports \n",
    "from sklearn.decomposition import PCA\n",
    "from sklearn.model_selection import train_test_split\n",
    "from sklearn import preprocessing\n",
    "from sklearn.metrics import classification_report, confusion_matrix\n",
    "\n",
    "# keras imports \n",
    "#import keras\n",
    "import tensorflow as tf\n",
    "from tensorflow.keras import layers, Input, Model\n",
    "from tensorflow.keras.models import Sequential\n",
    "from tensorflow.keras.layers import Dense, Dropout, Flatten, LeakyReLU\n",
    "from tensorflow.keras.layers import Conv2D, MaxPooling2D, ConvLSTM2D, TimeDistributed\n",
    "from tensorflow.keras.optimizers import SGD\n",
    "from tensorflow.keras.models import load_model\n",
    "from tensorflow.keras import backend as K\n",
    "from tensorflow.keras.utils import to_categorical\n",
    "import sys"
   ]
  },
  {
   "cell_type": "code",
   "execution_count": 2,
   "metadata": {},
   "outputs": [
    {
     "name": "stderr",
     "output_type": "stream",
     "text": [
      "C:\\Users\\CVR 2019 2020\\AppData\\Roaming\\Python\\Python36\\site-packages\\tensorflow_addons\\utils\\ensure_tf_install.py:68: UserWarning: Tensorflow Addons supports using Python ops for all Tensorflow versions above or equal to 2.2.0 and strictly below 2.3.0 (nightly versions are not supported). \n",
      " The versions of TensorFlow you are currently using is 2.3.0 and is not supported. \n",
      "Some things might work, some things might not.\n",
      "If you were to encounter a bug, do not file an issue.\n",
      "If you want to make sure you're using a tested and supported configuration, either change the TensorFlow version or the TensorFlow Addons's version. \n",
      "You can find the compatibility matrix in TensorFlow Addon's readme:\n",
      "https://github.com/tensorflow/addons\n",
      "  UserWarning,\n"
     ]
    },
    {
     "name": "stdout",
     "output_type": "stream",
     "text": [
      "2.3.0\n"
     ]
    }
   ],
   "source": [
    "from tensorflow_addons.layers import InstanceNormalization\n",
    "from tensorflow.keras.layers import Dense, Conv1D, Activation, Flatten, Input, Reshape, LeakyReLU\n",
    "from tensorflow.keras import Model, Sequential\n",
    "from tensorflow.keras.models import load_model\n",
    "from tensorflow.keras.layers import Conv2DTranspose\n",
    "from tensorflow.keras.layers import BatchNormalization\n",
    "from tensorflow.keras.layers import Dropout\n",
    "from tensorflow.keras.layers import MaxPool2D\n",
    "from tensorflow.keras.layers import UpSampling2D\n",
    "from tensorflow.keras.layers import Flatten\n",
    "from tensorflow.keras.layers import Concatenate\n",
    "from tensorflow.keras.layers import Reshape\n",
    "from tensorflow.keras.layers import LeakyReLU\n",
    "from tensorflow.keras.callbacks import ModelCheckpoint\n",
    "\n",
    "import tensorflow_docs as tfdocs\n",
    "import tensorflow_docs.modeling\n",
    "import tensorflow_docs.plots\n",
    "\n",
    "from  IPython import display\n",
    "import pathlib\n",
    "import shutil\n",
    "import tempfile\n",
    "import math\n",
    "import numpy as np\n",
    "from scipy.io import loadmat\n",
    "import matplotlib.pyplot as plt\n",
    "import os\n",
    "import numpy as np\n",
    "from os.path import join, exists, basename, split\n",
    "from spectral import *\n",
    "\n",
    "from os import listdir\n",
    "from os.path import isfile, join\n",
    "from os import walk\n",
    "import glob\n",
    "from sklearn.model_selection import train_test_split\n",
    "from spectral import *\n",
    "\n",
    "print(tf.__version__)"
   ]
  },
  {
   "cell_type": "code",
   "execution_count": 22,
   "metadata": {
    "colab": {},
    "colab_type": "code",
    "id": "I-YKKfCiHcbL"
   },
   "outputs": [],
   "source": [
    "def  load_dataset(dataset):\n",
    "    \"\"\"load dataset parameters from config.json\"\"\"\n",
    "    dataset = str(dataset)\n",
    "    print(dataset)\n",
    "    with open(\"C:/Users/CVR 2019 2020/hyperspectral_custom/Change-Detection-in-Hyperspectral-Images/Config/config.json\") as f:\n",
    "        config = json.loads(str(f.read()))\n",
    "        params = config[dataset]\n",
    "        data_1 = sio.loadmat(params['img_path_1'])['Data2009']\n",
    "        data_2 = sio.loadmat(params['img_path_2'])['Data2015']\n",
    "        labels = sio.loadmat(params['gt_path'])['GT_end']\n",
    "\n",
    "    return data_1, data_2, labels"
   ]
  },
  {
   "cell_type": "code",
   "execution_count": 102,
   "metadata": {
    "colab": {},
    "colab_type": "code",
    "id": "x08Nh6uXKIA7"
   },
   "outputs": [],
   "source": [
    "river_before = sio.loadmat(r\"C:\\Users\\CVR 2019 2020\\hyperspectral_custom\\Change-Detection-in-Hyperspectral-Images\\Dataset\\river_before.mat\")['river_before']\n",
    "river_after = sio.loadmat(r\"C:\\Users\\CVR 2019 2020\\hyperspectral_custom\\Change-Detection-in-Hyperspectral-Images\\Dataset\\river_after.mat\")['river_after']\n",
    "river_gt = sio.loadmat(r\"C:\\Users\\CVR 2019 2020\\hyperspectral_custom\\Change-Detection-in-Hyperspectral-Images\\Dataset\\groundtruth.mat\")['lakelabel_v1']"
   ]
  },
  {
   "cell_type": "code",
   "execution_count": 29,
   "metadata": {
    "scrolled": true
   },
   "outputs": [
    {
     "name": "stdout",
     "output_type": "stream",
     "text": [
      "(463, 241, 198)\n",
      "(463, 241, 198)\n",
      "(463, 241)\n"
     ]
    }
   ],
   "source": [
    "print(river_before.shape)\n",
    "print(river_after.shape)\n",
    "print(river_gt.shape)"
   ]
  },
  {
   "cell_type": "code",
   "execution_count": 168,
   "metadata": {},
   "outputs": [
    {
     "data": {
      "text/plain": [
       "(array([  0, 255], dtype=uint8), array([101885,   9698], dtype=int64))"
      ]
     },
     "execution_count": 168,
     "metadata": {},
     "output_type": "execute_result"
    }
   ],
   "source": [
    "np.unique(river_gt, return_counts=True)"
   ]
  },
  {
   "cell_type": "code",
   "execution_count": 103,
   "metadata": {
    "scrolled": true
   },
   "outputs": [
    {
     "name": "stdout",
     "output_type": "stream",
     "text": [
      "-142\n",
      "7960\n",
      "908.0435871128046\n"
     ]
    }
   ],
   "source": [
    "print(river_before.min())\n",
    "print(river_before.max())\n",
    "print(river_before.mean())"
   ]
  },
  {
   "cell_type": "code",
   "execution_count": 105,
   "metadata": {},
   "outputs": [],
   "source": [
    "def normalize_spectra(spectralInput_1):\n",
    "    X_manual_scaled1 = (spectralInput_1 - spectralInput_1.min()) / (spectralInput_1.max() - spectralInput_1.min());\n",
    "    return X_manual_scaled1;"
   ]
  },
  {
   "cell_type": "code",
   "execution_count": 106,
   "metadata": {},
   "outputs": [],
   "source": [
    "river_before = normalize_spectra(river_before);\n",
    "river_after = normalize_spectra(river_after);\n",
    "#river_gt = normalize_spectra(river_gt);"
   ]
  },
  {
   "cell_type": "code",
   "execution_count": 108,
   "metadata": {},
   "outputs": [
    {
     "name": "stdout",
     "output_type": "stream",
     "text": [
      "0.0\n",
      "1.0\n",
      "0.13687919037863422\n"
     ]
    }
   ],
   "source": [
    "print(river_after.min())\n",
    "print(river_after.max())\n",
    "print(river_after.mean())"
   ]
  },
  {
   "cell_type": "code",
   "execution_count": 156,
   "metadata": {
    "scrolled": true
   },
   "outputs": [
    {
     "name": "stderr",
     "output_type": "stream",
     "text": [
      "c:\\users\\cvr 2019 2020\\anaconda3\\envs\\tf2\\lib\\site-packages\\spectral\\graphics\\spypylab.py:905: MatplotlibDeprecationWarning: Passing parameters norm and vmin/vmax simultaneously is deprecated since 3.3 and will become an error two minor releases later. Please pass vmin/vmax directly to the norm when creating it.\n",
      "  self.class_axes = plt.imshow(self.class_rgb, **kwargs)\n"
     ]
    },
    {
     "data": {
      "text/plain": [
       "ImageView object:\n",
       "  Interpolation       :  <default>"
      ]
     },
     "execution_count": 156,
     "metadata": {},
     "output_type": "execute_result"
    },
    {
     "data": {
      "image/png": "[encoded data removed]",
      "text/plain": [
       "<Figure size 432x288 with 1 Axes>"
      ]
     },
     "metadata": {
      "needs_background": "light"
     },
     "output_type": "display_data"
    }
   ],
   "source": [
    "spectral.imshow(classes= river_gt)"
   ]
  },
  {
   "cell_type": "code",
   "execution_count": 109,
   "metadata": {},
   "outputs": [
    {
     "name": "stdout",
     "output_type": "stream",
     "text": [
      "0.0\n",
      "1.0\n",
      "0.1296030100114543\n",
      "0.0\n",
      "1.0\n",
      "0.13687919037863422\n",
      "0\n",
      "255\n",
      "22.16278465357626\n"
     ]
    }
   ],
   "source": [
    "print(river_before.min())\n",
    "print(river_before.max())\n",
    "print(river_before.mean())\n",
    "print(river_after.min())\n",
    "print(river_after.max())\n",
    "print(river_after.mean())\n",
    "print(river_gt.min())\n",
    "print(river_gt.max())\n",
    "print(river_gt.mean())"
   ]
  },
  {
   "cell_type": "code",
   "execution_count": 110,
   "metadata": {
    "colab": {},
    "colab_type": "code",
    "id": "4PXwFUORIdCn"
   },
   "outputs": [],
   "source": [
    "def apply_pca(X, num_components=75):\n",
    "    \"\"\"apply pca to X and return new_X\"\"\"\n",
    "    \n",
    "    new_X = np.reshape(X, (-1, X.shape[2]))\n",
    "    pca = PCA(n_components=num_components, whiten=True)\n",
    "    new_X = pca.fit_transform(new_X)\n",
    "    new_X = np.reshape(new_X, (X.shape[0], X.shape[1], num_components))\n",
    "    return new_X, pca"
   ]
  },
  {
   "cell_type": "code",
   "execution_count": 111,
   "metadata": {
    "colab": {},
    "colab_type": "code",
    "id": "Gpwbhe08Ie_A"
   },
   "outputs": [],
   "source": [
    "def pad_with_zeros(X, margin=2):\n",
    "    \"\"\"apply zero padding to X with margin\"\"\"\n",
    "    \n",
    "    new_X = np.zeros(((X.shape[0] + 2*margin), (X.shape[1] + 2*margin), X.shape[2]))\n",
    "    x_offset = margin\n",
    "    y_offset = margin\n",
    "    new_X[(x_offset):(X.shape[0]+x_offset), (y_offset):(X.shape[1]+y_offset), :] = X\n",
    "    return new_X"
   ]
  },
  {
   "cell_type": "code",
   "execution_count": 135,
   "metadata": {
    "colab": {},
    "colab_type": "code",
    "id": "3FGTNOUpLdxE"
   },
   "outputs": [],
   "source": [
    "def create_patches(X, y, window_size=7, remove_zero_labels = True):\n",
    "    \"\"\"create patch from image. suppose the image has the shape (w,h,c) then the patch shape is\n",
    "    (w*h,window_size,window_size,c)\"\"\"\n",
    "    \n",
    "    m = margin = int((window_size - 1) / 2);#Just to shorten variable name\n",
    "    w = window_size;#Just to shorten variable name\n",
    "    s = 20;#strides\n",
    "    zero_padded_X = pad_with_zeros(X, margin=margin)\n",
    "    # split patches\n",
    "    new_row = int((X.shape[0] + 2*m - w)/s) + 1;# Size after convolution\n",
    "    new_col = int((X.shape[1] + 2*m - w)/s) + 1;# Size after convolution\n",
    "    patches_data = np.zeros((new_row*new_col, window_size, window_size, X.shape[2]));#Determined by s, w, p\n",
    "    print(patches_data.shape);\n",
    "    patches_labels = np.zeros(new_row*new_col)\n",
    "    patch_index = 0\n",
    "    for r in range(margin, (zero_padded_X.shape[0]-margin), s):\n",
    "        for c in range(margin, (zero_padded_X.shape[1]-margin), s):\n",
    "            patch = zero_padded_X[(r-margin):(r+margin+1), (c-margin):(c+margin+1)]   \n",
    "            patches_data[patch_index, :, :, :] = patch\n",
    "            patches_labels[patch_index] = y[r-margin, c-margin] + 1\n",
    "            patch_index = patch_index+1\n",
    "            \n",
    "    if remove_zero_labels:\n",
    "        patches_data = patches_data[patches_labels>0,:,:,:]\n",
    "        patches_labels = patches_labels[patches_labels>0]\n",
    "        patches_labels -= 1\n",
    "    return patches_data, patches_labels"
   ]
  },
  {
   "cell_type": "code",
   "execution_count": 113,
   "metadata": {
    "colab": {},
    "colab_type": "code",
    "id": "2f5hoZfNL8_A"
   },
   "outputs": [],
   "source": [
    "def split_train_test_set(X, y, test_ratio=0.10):\n",
    "    \n",
    "    X_train, X_test, y_train, y_test = train_test_split(X, y, test_size=test_ratio, random_state=345,\n",
    "                                                        stratify=y)\n",
    "    return X_train, X_test, y_train, y_test"
   ]
  },
  {
   "cell_type": "code",
   "execution_count": 114,
   "metadata": {
    "colab": {},
    "colab_type": "code",
    "id": "ETuYhSI1L-1Z"
   },
   "outputs": [],
   "source": [
    "def oversample_weak_classes(X, y):\n",
    "    \"\"\"\"balance the dataset by prforming oversample of weak classes (making each class have close labels_counts)\"\"\"\n",
    "    unique_labels, labels_counts = np.unique(y, return_counts=True)\n",
    "    \n",
    "    print(unique_labels.shape)\n",
    "    print(unique_labels)\n",
    "    print(labels_counts.shape)\n",
    "    print(labels_counts)\n",
    "    max_count = np.max(labels_counts)\n",
    "    labels_inverse_ratios = max_count / labels_counts  \n",
    "    #print(labels_inverse_ratios)\n",
    "    # repeat for every label and concat\n",
    "    print(labels_inverse_ratios)\n",
    "    new_X = X[y == unique_labels[0], :, :, :].repeat(round(labels_inverse_ratios[0]), axis=0)\n",
    "    new_Y = y[y == unique_labels[0]].repeat(round(labels_inverse_ratios[0]), axis=0)\n",
    "    for label, labelInverseRatio in zip(unique_labels[1:], labels_inverse_ratios[1:]):\n",
    "        cX = X[y== label,:,:,:].repeat(round(labelInverseRatio), axis=0)\n",
    "        cY = y[y == label].repeat(round(labelInverseRatio), axis=0)\n",
    "        new_X = np.concatenate((new_X, cX))\n",
    "        new_Y = np.concatenate((new_Y, cY))\n",
    "    np.random.seed(seed=42)\n",
    "    rand_perm = np.random.permutation(new_Y.shape[0])\n",
    "    new_X = new_X[rand_perm, :, :, :]\n",
    "    new_Y = new_Y[rand_perm]\n",
    "    unique_labels, labels_counts = np.unique(new_Y, return_counts=True)\n",
    "    \n",
    "#     print(unique_labels.shape)\n",
    "#     print(unique_labels)\n",
    "#     print(labels_counts.shape)\n",
    "#     print(labels_counts)\n",
    "    return new_X, new_Y"
   ]
  },
  {
   "cell_type": "code",
   "execution_count": 115,
   "metadata": {
    "colab": {},
    "colab_type": "code",
    "id": "14mXaJw8I2tt"
   },
   "outputs": [],
   "source": [
    "def augment_data(X_train):\n",
    "    \"\"\"augment the data by taking each patch and randomly performing \n",
    "    a flip(up/down or right/left) or a rotation\"\"\"\n",
    "    \n",
    "    for i in range(int(X_train.shape[0]/2)):\n",
    "        patch = X_train[i,:,:,:]\n",
    "        num = random.randint(0,2)\n",
    "        if (num == 0):\n",
    "            \n",
    "            flipped_patch = np.flipud(patch)\n",
    "        if (num == 1):\n",
    "            \n",
    "            flipped_patch = np.fliplr(patch)\n",
    "        if (num == 2):\n",
    "            \n",
    "            no = random.randrange(-180,180,30)\n",
    "            flipped_patch = scipy.ndimage.interpolation.rotate(patch, no,axes=(1, 0),\n",
    "                                                               reshape=False, output=None, order=3, mode='constant', cval=0.0, prefilter=False)\n",
    "    \n",
    "    \n",
    "        patch2 = flipped_patch\n",
    "        X_train[i,:,:,:] = patch2\n",
    "    \n",
    "    return X_train"
   ]
  },
  {
   "cell_type": "code",
   "execution_count": 116,
   "metadata": {
    "colab": {},
    "colab_type": "code",
    "id": "dhZjzEabJBmF"
   },
   "outputs": [],
   "source": [
    "#Parameters\n",
    "dataset = \"Hermiston\" # Indian_pines or PaviaU or or Salinas  . check config.json\n",
    "window_size = 21;#Kernel size\n",
    "num_pca_components = 30\n",
    "test_ratio = 0.25"
   ]
  },
  {
   "cell_type": "code",
   "execution_count": 146,
   "metadata": {},
   "outputs": [
    {
     "name": "stdout",
     "output_type": "stream",
     "text": [
      "(463, 241, 198)\n",
      "(463, 241, 198)\n"
     ]
    }
   ],
   "source": [
    "X_1, X_2, y = [river_before, river_after, river_gt]\n",
    "print(X_1.shape)\n",
    "print(X_2.shape)"
   ]
  },
  {
   "cell_type": "markdown",
   "metadata": {},
   "source": [
    "#### Preprocessing for the first image ####"
   ]
  },
  {
   "cell_type": "code",
   "execution_count": 139,
   "metadata": {
    "colab": {
     "base_uri": "https://localhost:8080/",
     "height": 289
    },
    "colab_type": "code",
    "id": "i1owCWClNK9V",
    "outputId": "85664f8e-40db-4679-ac62-1e637958c7f3"
   },
   "outputs": [
    {
     "data": {
      "text/plain": [
       "(463, 241, 30)"
      ]
     },
     "execution_count": 139,
     "metadata": {},
     "output_type": "execute_result"
    }
   ],
   "source": [
    "X_1, pca = apply_pca(X_1, num_pca_components)\n",
    "X_1.shape"
   ]
  },
  {
   "cell_type": "code",
   "execution_count": 140,
   "metadata": {},
   "outputs": [
    {
     "data": {
      "text/plain": [
       "(463, 241, 30)"
      ]
     },
     "execution_count": 140,
     "metadata": {},
     "output_type": "execute_result"
    }
   ],
   "source": [
    "X_1.shape"
   ]
  },
  {
   "cell_type": "code",
   "execution_count": 141,
   "metadata": {
    "scrolled": false
   },
   "outputs": [
    {
     "name": "stdout",
     "output_type": "stream",
     "text": [
      "(312, 21, 21, 30)\n",
      "(312, 21, 21, 30)\n",
      "(312,)\n"
     ]
    }
   ],
   "source": [
    "X_1_patches, y_patches = create_patches(X_1, y, window_size=window_size);\n",
    "print(X_1_patches.shape);\n",
    "print(y_patches.shape);"
   ]
  },
  {
   "cell_type": "code",
   "execution_count": 142,
   "metadata": {
    "scrolled": false
   },
   "outputs": [
    {
     "data": {
      "text/plain": [
       "array([  0.,   0.,   0.,   0.,   0.,   0.,   0.,   0.,   0.,   0.,   0.,\n",
       "         0.,   0.,   0.,   0.,   0.,   0.,   0.,   0.,   0.,   0.,   0.,\n",
       "         0.,   0.,   0.,   0.,   0.,   0.,   0.,   0.,   0.,   0.,   0.,\n",
       "         0.,   0.,   0.,   0.,   0.,   0.,   0.,   0.,   0.,   0.,   0.,\n",
       "         0.,   0.,   0., 255.,   0.,   0.,   0.,   0.,   0.,   0.,   0.,\n",
       "         0.,   0.,   0.,   0.,   0.,   0.,   0.,   0.,   0., 255.,   0.,\n",
       "         0.,   0.,   0.,   0.,   0.,   0.,   0.,   0.,   0.,   0.,   0.,\n",
       "         0.,   0.,   0.,   0.,   0.,   0.,   0.,   0.,   0.,   0.,   0.,\n",
       "         0.,   0.,   0.,   0.,   0.,   0.,   0.,   0.,   0.,   0.,   0.,\n",
       "         0.,   0.,   0.,   0.,   0., 255., 255.,   0.,   0.,   0.,   0.,\n",
       "         0.,   0.,   0.,   0.,   0.,   0.,   0.,   0.,   0., 255., 255.,\n",
       "         0.,   0.,   0.,   0.,   0.,   0.,   0.,   0.,   0., 255., 255.,\n",
       "         0.,   0.,   0.,   0.,   0.,   0.,   0.,   0.,   0.,   0.,   0.,\n",
       "         0.,   0.,   0.,   0.,   0.,   0.,   0.,   0.,   0.,   0.,   0.,\n",
       "         0.,   0.,   0.,   0.,   0.,   0.,   0.,   0.,   0., 255., 255.,\n",
       "         0.,   0.,   0.,   0., 255.,   0.,   0.,   0., 255.,   0., 255.,\n",
       "         0.,   0.,   0.,   0.,   0.,   0.,   0.,   0.,   0.,   0.,   0.,\n",
       "         0.,   0.,   0.,   0.,   0.,   0.,   0.,   0.,   0.,   0.,   0.,\n",
       "         0.,   0.,   0.,   0., 255.,   0.,   0.,   0.,   0.,   0.,   0.,\n",
       "         0.,   0.,   0.,   0.,   0.,   0., 255., 255.,   0., 255.,   0.,\n",
       "         0.,   0.,   0.,   0.,   0.,   0.,   0.,   0.,   0.,   0.,   0.,\n",
       "         0.,   0.,   0., 255.,   0.,   0.,   0.,   0., 255.,   0.,   0.,\n",
       "         0.,   0., 255.,   0.,   0.,   0.,   0.,   0.,   0.,   0.,   0.,\n",
       "       255.,   0., 255., 255.,   0.,   0.,   0.,   0.,   0.,   0.,   0.,\n",
       "         0.,   0.,   0.,   0.,   0.,   0.,   0.,   0.,   0.,   0.,   0.,\n",
       "         0.,   0., 255., 255.,   0.,   0.,   0.,   0.,   0.,   0.,   0.,\n",
       "         0.,   0.,   0.,   0.,   0.,   0.,   0.,   0.,   0.,   0.,   0.,\n",
       "         0.,   0.,   0.,   0.,   0.,   0.,   0.,   0.,   0.,   0., 255.,\n",
       "         0.,   0.,   0.,   0.])"
      ]
     },
     "execution_count": 142,
     "metadata": {},
     "output_type": "execute_result"
    }
   ],
   "source": [
    "y_patches"
   ]
  },
  {
   "cell_type": "code",
   "execution_count": 157,
   "metadata": {
    "scrolled": true
   },
   "outputs": [
    {
     "data": {
      "text/plain": [
       "(234, 21, 21, 30)"
      ]
     },
     "execution_count": 157,
     "metadata": {},
     "output_type": "execute_result"
    }
   ],
   "source": [
    "X_1_train, X_1_test, y_1_train, y_test = split_train_test_set(X_1_patches, y_patches, test_ratio)\n",
    "X_1_train.shape"
   ]
  },
  {
   "cell_type": "code",
   "execution_count": 158,
   "metadata": {
    "scrolled": false
   },
   "outputs": [
    {
     "name": "stdout",
     "output_type": "stream",
     "text": [
      "(2,)\n",
      "[  0. 255.]\n",
      "(2,)\n",
      "[214  20]\n",
      "[ 1.  10.7]\n",
      "(434, 21, 21, 30)\n"
     ]
    },
    {
     "data": {
      "text/plain": [
       "(434, 21, 21, 30)"
      ]
     },
     "execution_count": 158,
     "metadata": {},
     "output_type": "execute_result"
    }
   ],
   "source": [
    "X_1_train, y_1_train = oversample_weak_classes(X_1_train, y_1_train)\n",
    "print(X_1_train.shape)\n",
    "X_1_train = augment_data(X_1_train)\n",
    "X_1_train.shape"
   ]
  },
  {
   "cell_type": "markdown",
   "metadata": {},
   "source": [
    "#### Do the same for the second data ####"
   ]
  },
  {
   "cell_type": "code",
   "execution_count": 147,
   "metadata": {
    "scrolled": true
   },
   "outputs": [
    {
     "name": "stdout",
     "output_type": "stream",
     "text": [
      "(312, 21, 21, 30)\n",
      "(2,)\n",
      "[  0. 255.]\n",
      "(2,)\n",
      "[214  20]\n",
      "[ 1.  10.7]\n"
     ]
    },
    {
     "data": {
      "text/plain": [
       "(434, 21, 21, 30)"
      ]
     },
     "execution_count": 147,
     "metadata": {},
     "output_type": "execute_result"
    }
   ],
   "source": [
    "X_2,pca = apply_pca(X_2, num_pca_components)\n",
    "X_2_patches, y_patches = create_patches(X_2, y, window_size=window_size)\n",
    "X_2_train, X_2_test, y_train, y_test = split_train_test_set(X_2_patches, y_patches, test_ratio)\n",
    "X_2_train, y_train = oversample_weak_classes(X_2_train, y_train)\n",
    "X_2_train = augment_data(X_2_train)\n",
    "X_2_train.shape"
   ]
  },
  {
   "cell_type": "markdown",
   "metadata": {},
   "source": [
    "#### Some preprocessing for the lables (Groundtruth change) ####"
   ]
  },
  {
   "cell_type": "code",
   "execution_count": 148,
   "metadata": {},
   "outputs": [],
   "source": [
    "y_train = np_utils.to_categorical(y_train) # convert class labels to on-hot encoding\n",
    "y_test = np_utils.to_categorical(y_test)\n",
    "y_train = y_train[:,-1]"
   ]
  },
  {
   "cell_type": "code",
   "execution_count": 149,
   "metadata": {},
   "outputs": [
    {
     "data": {
      "text/plain": [
       "array([1., 0., 0., 1., 1., 1., 1., 0., 1., 1., 1., 0., 1., 1., 0., 0., 1.,\n",
       "       0., 0., 1., 0., 1., 0., 1., 0., 1., 0., 1., 1., 0., 0., 1., 0., 1.,\n",
       "       0., 0., 1., 1., 0., 0., 1., 1., 1., 0., 0., 0., 0., 1., 0., 1., 1.,\n",
       "       0., 0., 1., 0., 0., 1., 1., 0., 0., 0., 0., 1., 1., 1., 1., 0., 1.,\n",
       "       0., 0., 0., 1., 1., 1., 1., 0., 1., 0., 0., 0., 1., 1., 1., 0., 0.,\n",
       "       0., 0., 0., 1., 1., 0., 0., 1., 0., 1., 0., 1., 1., 1., 0., 0., 0.,\n",
       "       0., 1., 1., 1., 0., 1., 0., 1., 0., 0., 0., 0., 1., 1., 0., 0., 1.,\n",
       "       1., 0., 1., 0., 0., 0., 0., 1., 1., 0., 1., 1., 0., 0., 0., 0., 1.,\n",
       "       1., 1., 1., 1., 1., 1., 0., 1., 0., 1., 0., 1., 0., 0., 0., 0., 1.,\n",
       "       0., 0., 1., 0., 1., 1., 0., 1., 0., 0., 0., 1., 1., 0., 0., 1., 1.,\n",
       "       1., 1., 0., 0., 0., 1., 0., 1., 1., 0., 0., 0., 0., 1., 0., 0., 1.,\n",
       "       1., 0., 1., 1., 1., 0., 0., 0., 0., 1., 0., 0., 0., 0., 0., 0., 1.,\n",
       "       0., 1., 0., 0., 1., 1., 0., 1., 0., 0., 0., 0., 0., 1., 0., 0., 0.,\n",
       "       1., 1., 1., 1., 1., 1., 1., 0., 0., 1., 1., 1., 1., 0., 1., 1., 1.,\n",
       "       1., 1., 1., 1., 0., 1., 1., 1., 1., 0., 0., 0., 1., 0., 1., 1., 0.,\n",
       "       0., 1., 1., 1., 1., 1., 1., 1., 0., 0., 0., 1., 1., 0., 0., 1., 1.,\n",
       "       1., 0., 1., 0., 1., 0., 1., 0., 1., 0., 0., 1., 0., 0., 0., 0., 0.,\n",
       "       0., 0., 1., 1., 1., 0., 0., 1., 1., 1., 0., 0., 1., 0., 1., 1., 1.,\n",
       "       0., 1., 1., 0., 1., 1., 0., 0., 0., 1., 1., 0., 0., 0., 1., 0., 1.,\n",
       "       0., 1., 1., 1., 1., 0., 1., 0., 0., 0., 0., 0., 1., 0., 1., 0., 0.,\n",
       "       0., 1., 1., 1., 1., 1., 1., 1., 0., 0., 1., 1., 1., 1., 1., 1., 1.,\n",
       "       1., 0., 0., 0., 1., 0., 1., 1., 0., 0., 0., 1., 0., 0., 0., 0., 1.,\n",
       "       1., 0., 1., 0., 1., 1., 1., 0., 1., 0., 1., 0., 1., 1., 0., 1., 1.,\n",
       "       1., 1., 0., 1., 0., 0., 0., 1., 0., 0., 0., 0., 1., 1., 1., 0., 1.,\n",
       "       0., 1., 0., 1., 1., 1., 1., 1., 0., 0., 0., 1., 0., 1., 0., 1., 1.,\n",
       "       0., 1., 0., 0., 0., 0., 1., 1., 0.], dtype=float32)"
      ]
     },
     "execution_count": 149,
     "metadata": {},
     "output_type": "execute_result"
    }
   ],
   "source": [
    "y_train"
   ]
  },
  {
   "cell_type": "code",
   "execution_count": 150,
   "metadata": {
    "scrolled": true
   },
   "outputs": [
    {
     "name": "stdout",
     "output_type": "stream",
     "text": [
      "(434, 21, 21, 30)\n",
      "4\n",
      "(434, 21, 21, 30)\n",
      "4\n",
      "(434,)\n",
      "1\n"
     ]
    }
   ],
   "source": [
    "print(X_1_train.shape)\n",
    "print(X_1_train.ndim)\n",
    "print(X_2_train.shape)\n",
    "print(X_2_train.ndim)\n",
    "print(y_train.shape)\n",
    "print(y_train.ndim)"
   ]
  },
  {
   "cell_type": "code",
   "execution_count": 159,
   "metadata": {},
   "outputs": [
    {
     "name": "stdout",
     "output_type": "stream",
     "text": [
      "(21, 21, 30)\n"
     ]
    }
   ],
   "source": [
    "print(X_1_train[0].shape)"
   ]
  },
  {
   "cell_type": "code",
   "execution_count": 176,
   "metadata": {},
   "outputs": [
    {
     "data": {
      "text/plain": [
       "43.80674743652344"
      ]
     },
     "execution_count": 176,
     "metadata": {},
     "output_type": "execute_result"
    }
   ],
   "source": [
    "(sys.getsizeof(X_1_train))/(1048576)"
   ]
  },
  {
   "cell_type": "code",
   "execution_count": 154,
   "metadata": {
    "colab": {
     "base_uri": "https://localhost:8080/",
     "height": 85
    },
    "colab_type": "code",
    "id": "yT9IX1wYtHRL",
    "outputId": "2c6ed5cb-9bb5-41b7-f8e4-07e72eb90437"
   },
   "outputs": [
    {
     "name": "stdout",
     "output_type": "stream",
     "text": [
      "(434, 2, 21, 21, 30)\n",
      "5\n",
      "(434,)\n",
      "1\n"
     ]
    }
   ],
   "source": [
    "data = np.zeros(shape=(434, 2, 21, 21, 30)); # batches of paris of patches of size (21, 21, 30) \n",
    "labels = np.zeros(shape=(434, 1))\n",
    "labels = y_train\n",
    "# Is it just a redundancy? Why not start the loop from 0\n",
    "data_1 = np.array([X_1_train[0], X_2_train[0]]);# Form pairs of data\n",
    "data[0] = data_1\n",
    "\n",
    "for i in range(1, 434):\n",
    "  x = np.array([X_1_train[i], X_2_train[i]]);\n",
    "  data[i] = x;\n",
    "    \n",
    "print(data.shape);\n",
    "print(data.ndim);\n",
    "\n",
    "print(y_train.shape);\n",
    "print(y_train.ndim);"
   ]
  },
  {
   "cell_type": "code",
   "execution_count": 177,
   "metadata": {},
   "outputs": [
    {
     "data": {
      "text/plain": [
       "87.61337280273438"
      ]
     },
     "execution_count": 177,
     "metadata": {},
     "output_type": "execute_result"
    }
   ],
   "source": [
    "(sys.getsizeof(data))/(1048576)"
   ]
  },
  {
   "cell_type": "code",
   "execution_count": 181,
   "metadata": {
    "colab": {},
    "colab_type": "code",
    "id": "2Z-biiS6JL9U"
   },
   "outputs": [],
   "source": [
    "def define_model():\n",
    "    \n",
    "    \n",
    "    input_shape= X_1_train[0].shape # Define the input shape (21x21x30). What's the point?\n",
    "    C1 = 3 * num_pca_components # number of filters\n",
    "    \n",
    "    model = Sequential()\n",
    "    model.add(TimeDistributed(Conv2D(C1, (3, 3), padding='same', activation='relu'), input_shape=(2, 21, 21, 30)))\n",
    "    model.add(TimeDistributed(MaxPooling2D(2,2)))\n",
    "    model.add(TimeDistributed(Conv2D(3 * C1, (3, 3), padding='same', activation='relu')))\n",
    "    model.add(ConvLSTM2D(16, kernel_size = (3, 3),padding = 'same', return_sequences = True))\n",
    "    model.add(ConvLSTM2D(32, kernel_size = (3, 3), padding = 'same', return_sequences = False))\n",
    "    model.add(Flatten())\n",
    "    model.add(Dense(1, activation='sigmoid'))\n",
    "    \n",
    "    print(input_shape)\n",
    "    sgd = SGD(lr=0.01, decay=1e-3, momentum=0.9, nesterov=True)\n",
    "    model.compile(optimizer=sgd, loss='binary_crossentropy', metrics=['accuracy'])\n",
    "    \n",
    "    return model"
   ]
  },
  {
   "cell_type": "code",
   "execution_count": 182,
   "metadata": {
    "colab": {
     "base_uri": "https://localhost:8080/",
     "height": 408
    },
    "colab_type": "code",
    "id": "__G2of_tJN1R",
    "outputId": "c5513adc-4b28-480c-966e-55d735291e38",
    "scrolled": false
   },
   "outputs": [
    {
     "name": "stdout",
     "output_type": "stream",
     "text": [
      "(21, 21, 30)\n",
      "Model: \"sequential_2\"\n",
      "_________________________________________________________________\n",
      "Layer (type)                 Output Shape              Param #   \n",
      "=================================================================\n",
      "time_distributed_6 (TimeDist (None, 2, 21, 21, 90)     24390     \n",
      "_________________________________________________________________\n",
      "time_distributed_7 (TimeDist (None, 2, 10, 10, 90)     0         \n",
      "_________________________________________________________________\n",
      "time_distributed_8 (TimeDist (None, 2, 10, 10, 270)    218970    \n",
      "_________________________________________________________________\n",
      "conv_lst_m2d_4 (ConvLSTM2D)  (None, 2, 10, 10, 16)     164800    \n",
      "_________________________________________________________________\n",
      "conv_lst_m2d_5 (ConvLSTM2D)  (None, 10, 10, 32)        55424     \n",
      "_________________________________________________________________\n",
      "flatten_2 (Flatten)          (None, 3200)              0         \n",
      "_________________________________________________________________\n",
      "dense_2 (Dense)              (None, 1)                 3201      \n",
      "=================================================================\n",
      "Total params: 466,785\n",
      "Trainable params: 466,785\n",
      "Non-trainable params: 0\n",
      "_________________________________________________________________\n"
     ]
    }
   ],
   "source": [
    "model = define_model()\n",
    "\n",
    "model.summary()"
   ]
  },
  {
   "cell_type": "code",
   "execution_count": 167,
   "metadata": {
    "colab": {
     "base_uri": "https://localhost:8080/",
     "height": 85
    },
    "colab_type": "code",
    "id": "wTulfpEsJUYT",
    "outputId": "c84e294d-3b56-4365-82e0-56742ab4a130"
   },
   "outputs": [
    {
     "name": "stdout",
     "output_type": "stream",
     "text": [
      "(2, 2, 21, 21, 30)\n",
      "5\n",
      "(2,)\n",
      "1\n"
     ]
    }
   ],
   "source": [
    "# We have already trained the model\n",
    "data_1 = np.array([X_1_train[0], X_1_train[1]])\n",
    "\n",
    "data_2= np.array([X_1_train[2], X_1_train[3]])\n",
    "\n",
    "data = np.array([data_1, data_2])\n",
    "\n",
    "print(data.shape)\n",
    "print(data.ndim)\n",
    "labels =np.array([y_train[0], y_train[1]])\n",
    "print(labels.shape)\n",
    "print(labels.ndim)"
   ]
  },
  {
   "cell_type": "code",
   "execution_count": 183,
   "metadata": {
    "colab": {
     "base_uri": "https://localhost:8080/",
     "height": 544
    },
    "colab_type": "code",
    "id": "mPtRTMdankeR",
    "outputId": "5b3025cf-df53-4853-b773-78790059e597"
   },
   "outputs": [
    {
     "name": "stdout",
     "output_type": "stream",
     "text": [
      "Epoch 1/100\n",
      "14/14 [==============================] - 1s 39ms/step - loss: 0.6932 - accuracy: 0.4700\n",
      "Epoch 2/100\n",
      "14/14 [==============================] - 1s 38ms/step - loss: 0.6933 - accuracy: 0.4562\n",
      "Epoch 3/100\n",
      "14/14 [==============================] - 1s 39ms/step - loss: 0.6933 - accuracy: 0.5069\n",
      "Epoch 4/100\n",
      "14/14 [==============================] - 1s 39ms/step - loss: 0.6931 - accuracy: 0.5069\n",
      "Epoch 5/100\n",
      "14/14 [==============================] - 1s 39ms/step - loss: 0.6931 - accuracy: 0.5069\n",
      "Epoch 6/100\n",
      "14/14 [==============================] - 1s 39ms/step - loss: 0.6933 - accuracy: 0.5069\n",
      "Epoch 7/100\n",
      "14/14 [==============================] - 1s 39ms/step - loss: 0.6931 - accuracy: 0.5069\n",
      "Epoch 8/100\n",
      "14/14 [==============================] - 1s 38ms/step - loss: 0.6932 - accuracy: 0.5069\n",
      "Epoch 9/100\n",
      "14/14 [==============================] - 1s 40ms/step - loss: 0.6934 - accuracy: 0.4793\n",
      "Epoch 10/100\n",
      "14/14 [==============================] - 1s 40ms/step - loss: 0.6934 - accuracy: 0.5069\n",
      "Epoch 11/100\n",
      "14/14 [==============================] - 1s 39ms/step - loss: 0.6931 - accuracy: 0.5069\n",
      "Epoch 12/100\n",
      "14/14 [==============================] - 1s 39ms/step - loss: 0.6932 - accuracy: 0.5069\n",
      "Epoch 13/100\n",
      "14/14 [==============================] - 1s 39ms/step - loss: 0.6934 - accuracy: 0.5069\n",
      "Epoch 14/100\n",
      "14/14 [==============================] - 1s 40ms/step - loss: 0.6932 - accuracy: 0.5069\n",
      "Epoch 15/100\n",
      "14/14 [==============================] - 1s 40ms/step - loss: 0.6933 - accuracy: 0.5069\n",
      "Epoch 16/100\n",
      "14/14 [==============================] - 1s 38ms/step - loss: 0.6935 - accuracy: 0.5069\n",
      "Epoch 17/100\n",
      "14/14 [==============================] - 1s 40ms/step - loss: 0.6931 - accuracy: 0.5069\n",
      "Epoch 18/100\n",
      "14/14 [==============================] - 1s 39ms/step - loss: 0.6931 - accuracy: 0.5069\n",
      "Epoch 19/100\n",
      "14/14 [==============================] - 1s 39ms/step - loss: 0.6932 - accuracy: 0.5069\n",
      "Epoch 20/100\n",
      "14/14 [==============================] - 1s 39ms/step - loss: 0.6932 - accuracy: 0.5069\n",
      "Epoch 21/100\n",
      "14/14 [==============================] - 1s 40ms/step - loss: 0.6933 - accuracy: 0.5069\n",
      "Epoch 22/100\n",
      "14/14 [==============================] - 1s 39ms/step - loss: 0.6932 - accuracy: 0.5069\n",
      "Epoch 23/100\n",
      "14/14 [==============================] - 1s 41ms/step - loss: 0.6931 - accuracy: 0.5069\n",
      "Epoch 24/100\n",
      "14/14 [==============================] - 1s 39ms/step - loss: 0.6932 - accuracy: 0.5069\n",
      "Epoch 25/100\n",
      "14/14 [==============================] - 1s 39ms/step - loss: 0.6933 - accuracy: 0.5069\n",
      "Epoch 26/100\n",
      "14/14 [==============================] - 1s 38ms/step - loss: 0.6932 - accuracy: 0.5069\n",
      "Epoch 27/100\n",
      "14/14 [==============================] - 1s 39ms/step - loss: 0.6932 - accuracy: 0.5069\n",
      "Epoch 28/100\n",
      "14/14 [==============================] - 1s 38ms/step - loss: 0.6932 - accuracy: 0.5069\n",
      "Epoch 29/100\n",
      "14/14 [==============================] - 1s 39ms/step - loss: 0.6931 - accuracy: 0.5069\n",
      "Epoch 30/100\n",
      "14/14 [==============================] - 1s 39ms/step - loss: 0.6932 - accuracy: 0.5069\n",
      "Epoch 31/100\n",
      "14/14 [==============================] - 1s 39ms/step - loss: 0.6932 - accuracy: 0.5069\n",
      "Epoch 32/100\n",
      "14/14 [==============================] - 1s 39ms/step - loss: 0.6931 - accuracy: 0.5069\n",
      "Epoch 33/100\n",
      "14/14 [==============================] - 1s 39ms/step - loss: 0.6932 - accuracy: 0.5069\n",
      "Epoch 34/100\n",
      "14/14 [==============================] - 1s 41ms/step - loss: 0.6932 - accuracy: 0.5069\n",
      "Epoch 35/100\n",
      "14/14 [==============================] - 1s 40ms/step - loss: 0.6931 - accuracy: 0.5069\n",
      "Epoch 36/100\n",
      "14/14 [==============================] - 1s 39ms/step - loss: 0.6931 - accuracy: 0.5069\n",
      "Epoch 37/100\n",
      "14/14 [==============================] - 1s 39ms/step - loss: 0.6932 - accuracy: 0.5069\n",
      "Epoch 38/100\n",
      "14/14 [==============================] - 1s 39ms/step - loss: 0.6932 - accuracy: 0.5069\n",
      "Epoch 39/100\n",
      "14/14 [==============================] - 1s 40ms/step - loss: 0.6932 - accuracy: 0.5069\n",
      "Epoch 40/100\n",
      "14/14 [==============================] - 1s 39ms/step - loss: 0.6931 - accuracy: 0.5069\n",
      "Epoch 41/100\n",
      "14/14 [==============================] - 1s 39ms/step - loss: 0.6932 - accuracy: 0.5069\n",
      "Epoch 42/100\n",
      "14/14 [==============================] - 1s 41ms/step - loss: 0.6932 - accuracy: 0.5069\n",
      "Epoch 43/100\n",
      "14/14 [==============================] - 1s 40ms/step - loss: 0.6932 - accuracy: 0.5069\n",
      "Epoch 44/100\n",
      "14/14 [==============================] - 1s 39ms/step - loss: 0.6932 - accuracy: 0.5069\n",
      "Epoch 45/100\n",
      "14/14 [==============================] - 1s 39ms/step - loss: 0.6931 - accuracy: 0.5069\n",
      "Epoch 46/100\n",
      "14/14 [==============================] - 1s 40ms/step - loss: 0.6932 - accuracy: 0.5069\n",
      "Epoch 47/100\n",
      "14/14 [==============================] - 1s 39ms/step - loss: 0.6931 - accuracy: 0.5069\n",
      "Epoch 48/100\n",
      "14/14 [==============================] - 1s 39ms/step - loss: 0.6931 - accuracy: 0.5069\n",
      "Epoch 49/100\n",
      "14/14 [==============================] - 1s 41ms/step - loss: 0.6931 - accuracy: 0.5069\n",
      "Epoch 50/100\n",
      "14/14 [==============================] - 1s 39ms/step - loss: 0.6931 - accuracy: 0.5069\n",
      "Epoch 51/100\n",
      "14/14 [==============================] - 1s 39ms/step - loss: 0.6931 - accuracy: 0.5069\n",
      "Epoch 52/100\n",
      "14/14 [==============================] - 1s 40ms/step - loss: 0.6932 - accuracy: 0.5069\n",
      "Epoch 53/100\n",
      "14/14 [==============================] - 1s 39ms/step - loss: 0.6931 - accuracy: 0.5069\n",
      "Epoch 54/100\n",
      "14/14 [==============================] - 1s 39ms/step - loss: 0.6932 - accuracy: 0.5069\n",
      "Epoch 55/100\n",
      "14/14 [==============================] - 1s 40ms/step - loss: 0.6932 - accuracy: 0.5069\n",
      "Epoch 56/100\n",
      "14/14 [==============================] - 1s 41ms/step - loss: 0.6931 - accuracy: 0.5069\n",
      "Epoch 57/100\n",
      "14/14 [==============================] - 1s 41ms/step - loss: 0.6932 - accuracy: 0.5069\n",
      "Epoch 58/100\n",
      "14/14 [==============================] - 1s 40ms/step - loss: 0.6931 - accuracy: 0.5069\n",
      "Epoch 59/100\n",
      "14/14 [==============================] - 1s 39ms/step - loss: 0.6932 - accuracy: 0.5069\n",
      "Epoch 60/100\n",
      "14/14 [==============================] - 1s 40ms/step - loss: 0.6932 - accuracy: 0.5069\n",
      "Epoch 61/100\n",
      "14/14 [==============================] - 1s 40ms/step - loss: 0.6933 - accuracy: 0.5069\n",
      "Epoch 62/100\n",
      "14/14 [==============================] - 1s 41ms/step - loss: 0.6932 - accuracy: 0.5069\n",
      "Epoch 63/100\n",
      "14/14 [==============================] - 1s 39ms/step - loss: 0.6931 - accuracy: 0.5069\n",
      "Epoch 64/100\n",
      "14/14 [==============================] - 1s 39ms/step - loss: 0.6932 - accuracy: 0.5069\n",
      "Epoch 65/100\n",
      "14/14 [==============================] - 1s 40ms/step - loss: 0.6931 - accuracy: 0.5069\n",
      "Epoch 66/100\n",
      "14/14 [==============================] - 1s 39ms/step - loss: 0.6932 - accuracy: 0.5069\n",
      "Epoch 67/100\n",
      "14/14 [==============================] - 1s 39ms/step - loss: 0.6931 - accuracy: 0.5069\n",
      "Epoch 68/100\n",
      "14/14 [==============================] - 1s 39ms/step - loss: 0.6932 - accuracy: 0.5069\n",
      "Epoch 69/100\n",
      "14/14 [==============================] - 1s 39ms/step - loss: 0.6934 - accuracy: 0.5069\n",
      "Epoch 70/100\n",
      "14/14 [==============================] - 1s 39ms/step - loss: 0.6932 - accuracy: 0.5069\n",
      "Epoch 71/100\n",
      "14/14 [==============================] - 1s 39ms/step - loss: 0.6931 - accuracy: 0.5069\n",
      "Epoch 72/100\n",
      "14/14 [==============================] - 1s 38ms/step - loss: 0.6931 - accuracy: 0.5069\n",
      "Epoch 73/100\n",
      "14/14 [==============================] - 1s 39ms/step - loss: 0.6931 - accuracy: 0.5069\n",
      "Epoch 74/100\n",
      "14/14 [==============================] - 1s 39ms/step - loss: 0.6931 - accuracy: 0.5069\n",
      "Epoch 75/100\n",
      "14/14 [==============================] - 1s 39ms/step - loss: 0.6934 - accuracy: 0.5069\n",
      "Epoch 76/100\n",
      "14/14 [==============================] - 1s 39ms/step - loss: 0.6932 - accuracy: 0.5069\n",
      "Epoch 77/100\n",
      "14/14 [==============================] - 1s 39ms/step - loss: 0.6931 - accuracy: 0.5069\n",
      "Epoch 78/100\n",
      "14/14 [==============================] - 1s 39ms/step - loss: 0.6933 - accuracy: 0.5069\n",
      "Epoch 79/100\n",
      "14/14 [==============================] - 1s 38ms/step - loss: 0.6931 - accuracy: 0.5069\n",
      "Epoch 80/100\n",
      "14/14 [==============================] - 1s 40ms/step - loss: 0.6931 - accuracy: 0.5069\n",
      "Epoch 81/100\n",
      "14/14 [==============================] - 1s 38ms/step - loss: 0.6932 - accuracy: 0.5069\n",
      "Epoch 82/100\n",
      "14/14 [==============================] - 1s 39ms/step - loss: 0.6932 - accuracy: 0.5069\n",
      "Epoch 83/100\n",
      "14/14 [==============================] - 1s 39ms/step - loss: 0.6931 - accuracy: 0.5069\n",
      "Epoch 84/100\n",
      "14/14 [==============================] - 1s 39ms/step - loss: 0.6932 - accuracy: 0.5069\n",
      "Epoch 85/100\n",
      "14/14 [==============================] - 1s 38ms/step - loss: 0.6931 - accuracy: 0.5069\n",
      "Epoch 86/100\n",
      "14/14 [==============================] - 1s 39ms/step - loss: 0.6931 - accuracy: 0.5069\n",
      "Epoch 87/100\n",
      "14/14 [==============================] - 1s 38ms/step - loss: 0.6931 - accuracy: 0.5069\n",
      "Epoch 88/100\n",
      "14/14 [==============================] - 1s 38ms/step - loss: 0.6931 - accuracy: 0.5069\n",
      "Epoch 89/100\n",
      "14/14 [==============================] - 1s 38ms/step - loss: 0.6931 - accuracy: 0.5069\n",
      "Epoch 90/100\n",
      "14/14 [==============================] - 1s 39ms/step - loss: 0.6931 - accuracy: 0.5069\n",
      "Epoch 91/100\n",
      "14/14 [==============================] - 1s 38ms/step - loss: 0.6931 - accuracy: 0.5069\n",
      "Epoch 92/100\n",
      "14/14 [==============================] - 1s 38ms/step - loss: 0.6931 - accuracy: 0.5069\n",
      "Epoch 93/100\n",
      "14/14 [==============================] - 1s 40ms/step - loss: 0.6932 - accuracy: 0.5069\n",
      "Epoch 94/100\n",
      "14/14 [==============================] - 1s 47ms/step - loss: 0.6931 - accuracy: 0.5069\n",
      "Epoch 95/100\n",
      "14/14 [==============================] - 1s 41ms/step - loss: 0.6931 - accuracy: 0.5069\n",
      "Epoch 96/100\n",
      "14/14 [==============================] - 1s 41ms/step - loss: 0.6931 - accuracy: 0.5069\n",
      "Epoch 97/100\n",
      "14/14 [==============================] - 1s 40ms/step - loss: 0.6933 - accuracy: 0.5069\n",
      "Epoch 98/100\n",
      "14/14 [==============================] - 1s 42ms/step - loss: 0.6931 - accuracy: 0.5069\n",
      "Epoch 99/100\n",
      "14/14 [==============================] - 1s 43ms/step - loss: 0.6932 - accuracy: 0.5069\n",
      "Epoch 100/100\n",
      "14/14 [==============================] - 1s 40ms/step - loss: 0.6931 - accuracy: 0.5069\n"
     ]
    },
    {
     "data": {
      "text/plain": [
       "<tensorflow.python.keras.callbacks.History at 0x18a19d14668>"
      ]
     },
     "execution_count": 183,
     "metadata": {},
     "output_type": "execute_result"
    }
   ],
   "source": [
    "model.fit(data, labels, batch_size=32, epochs=100)"
   ]
  },
  {
   "cell_type": "code",
   "execution_count": 169,
   "metadata": {
    "colab": {},
    "colab_type": "code",
    "id": "rqEvsRLiJXHR"
   },
   "outputs": [],
   "source": [
    "model.save('trained_model_river.h5')"
   ]
  },
  {
   "cell_type": "code",
   "execution_count": 163,
   "metadata": {
    "colab": {
     "base_uri": "https://localhost:8080/",
     "height": 34
    },
    "colab_type": "code",
    "id": "OPZnt5vkSbqh",
    "outputId": "f8aa24b6-00ea-4462-d234-f6edc25de747"
   },
   "outputs": [
    {
     "name": "stdout",
     "output_type": "stream",
     "text": [
      "<tensorflow.python.keras.layers.wrappers.TimeDistributed object at 0x0000018A14B53F98>\n"
     ]
    }
   ],
   "source": [
    "print(model.layers[2])"
   ]
  },
  {
   "cell_type": "code",
   "execution_count": 184,
   "metadata": {
    "colab": {
     "base_uri": "https://localhost:8080/",
     "height": 51
    },
    "colab_type": "code",
    "id": "4v0DOC-uXcw5",
    "outputId": "d9e03adc-7041-489e-d2f9-33a43c029915"
   },
   "outputs": [
    {
     "name": "stdout",
     "output_type": "stream",
     "text": [
      "(463, 241, 30)\n",
      "4\n"
     ]
    }
   ],
   "source": [
    "X_1, X_2, y = [hermi_2004, hermi_2007, hermi_gt]\n",
    "X_1,pca = apply_pca(X_1,num_pca_components)\n",
    "X_2,pca = apply_pca(X_2,num_pca_components)\n",
    "height = y.shape[0]\n",
    "width = y.shape[1]\n",
    "patch_size = window_size\n",
    "data = np.zeros(shape=(434, 2, 21, 21,30))\n",
    "data_1 = np.array([X_1, X_2])\n",
    "X = X_1\n",
    "print(X_1.shape)\n",
    "print(x.ndim)"
   ]
  },
  {
   "cell_type": "code",
   "execution_count": 185,
   "metadata": {
    "colab": {},
    "colab_type": "code",
    "id": "bt-mo2BIab3S"
   },
   "outputs": [],
   "source": [
    "def get_patch(data,height_index,width_index):\n",
    "    #transpose_array = data.transpose((2,0,1))\n",
    "    #print transpose_array.shape\n",
    "    height_slice = slice(height_index, height_index+patch_size)\n",
    "    width_slice = slice(width_index, width_index+patch_size)\n",
    "    patch = data[height_slice, width_slice, :]\n",
    "    \n",
    "    return patch"
   ]
  },
  {
   "cell_type": "code",
   "execution_count": 186,
   "metadata": {
    "colab": {},
    "colab_type": "code",
    "id": "5OFPv8DiZ0hE"
   },
   "outputs": [],
   "source": [
    "def generate_pridected_image():\n",
    "    \"\"\"generate the predicted image\"\"\"\n",
    "    outputs = np.zeros((height,width))\n",
    "\n",
    "    for i in range(height-patch_size+1):\n",
    "        for j in range(width-patch_size+1):\n",
    "            target = y[int(i+patch_size/2), int(j+patch_size/2)]\n",
    "            if target == 0 :\n",
    "                continue\n",
    "            else :\n",
    "                image_patch=get_patch(X,i,j)\n",
    "                X_test_image = image_patch.reshape(21,21,30).astype('float32')\n",
    "                image_patch=get_patch(X_2,i,j)\n",
    "                X_2_test_image = image_patch.reshape(21,21,30).astype('float32')\n",
    "                \n",
    "                X_F = np.array([X_test_image, X_2_test_image])\n",
    "                X_2_F = X_F.reshape(1,X_F.shape[0],X_F.shape[1],X_F.shape[2],X_F.shape[3])\n",
    "                \n",
    "                prediction = (model.predict_classes(X_2_F))                         \n",
    "                outputs[int(i+patch_size/2)][int(j+patch_size/2)] = prediction+1\n",
    "    return outputs.astype(int)"
   ]
  },
  {
   "cell_type": "code",
   "execution_count": null,
   "metadata": {
    "colab": {
     "base_uri": "https://localhost:8080/",
     "height": 431
    },
    "colab_type": "code",
    "id": "YVbnJcFRaBsv",
    "outputId": "788e01c6-5e04-4693-c183-f5d7232327ab",
    "scrolled": true
   },
   "outputs": [],
   "source": [
    "outputs=generate_pridected_image()\n",
    "predict_image = spectral.imshow(classes = outputs.astype(int), figsize =(7,7))"
   ]
  },
  {
   "cell_type": "code",
   "execution_count": null,
   "metadata": {
    "colab": {
     "base_uri": "https://localhost:8080/",
     "height": 431
    },
    "colab_type": "code",
    "id": "CN1Q1CnmkOXL",
    "outputId": "63b5abc1-4d57-41c2-a3c2-f23fea5153d0",
    "scrolled": true
   },
   "outputs": [],
   "source": [
    "gt_image = spectral.imshow(classes = y,figsize =(7,7))"
   ]
  },
  {
   "cell_type": "code",
   "execution_count": null,
   "metadata": {
    "scrolled": true
   },
   "outputs": [],
   "source": [
    "spectral.imshow(hermi_2004, bands = (29, 19, 9))"
   ]
  },
  {
   "cell_type": "code",
   "execution_count": null,
   "metadata": {
    "scrolled": true
   },
   "outputs": [],
   "source": [
    "spectral.imshow(hermi_2007, bands = (29, 19, 9))"
   ]
  },
  {
   "cell_type": "markdown",
   "metadata": {},
   "source": [
    "### Outputs after normalization ###"
   ]
  },
  {
   "cell_type": "code",
   "execution_count": 147,
   "metadata": {},
   "outputs": [
    {
     "name": "stderr",
     "output_type": "stream",
     "text": [
      "c:\\users\\cvr 2019 2020\\anaconda3\\envs\\tf2\\lib\\site-packages\\spectral\\graphics\\spypylab.py:905: MatplotlibDeprecationWarning: Passing parameters norm and vmin/vmax simultaneously is deprecated since 3.3 and will become an error two minor releases later. Please pass vmin/vmax directly to the norm when creating it.\n",
      "  self.class_axes = plt.imshow(self.class_rgb, **kwargs)\n"
     ]
    },
    {
     "data": {
      "image/png": "[encoded data removed]",
      "text/plain": [
       "<Figure size 504x504 with 1 Axes>"
      ]
     },
     "metadata": {
      "needs_background": "light"
     },
     "output_type": "display_data"
    }
   ],
   "source": [
    "gt_image = spectral.imshow(classes = hermi_gt,figsize =(7,7));"
   ]
  },
  {
   "cell_type": "code",
   "execution_count": 148,
   "metadata": {},
   "outputs": [
    {
     "data": {
      "text/plain": [
       "ImageView object:\n",
       "  Display bands       :  (29, 19, 9)\n",
       "  Interpolation       :  <default>\n",
       "  RGB data limits     :\n",
       "    R: [0.13762034065662798, 0.6513206615650456]\n",
       "    G: [0.20229572944951862, 0.907923969390274]\n",
       "    B: [0.2891878548506542, 0.9198963218958282]"
      ]
     },
     "execution_count": 148,
     "metadata": {},
     "output_type": "execute_result"
    },
    {
     "data": {
      "image/png": "[encoded data removed]",
      "text/plain": [
       "<Figure size 432x288 with 1 Axes>"
      ]
     },
     "metadata": {
      "needs_background": "light"
     },
     "output_type": "display_data"
    }
   ],
   "source": [
    "spectral.imshow(hermi_2004, bands = (29, 19, 9))"
   ]
  },
  {
   "cell_type": "code",
   "execution_count": 149,
   "metadata": {
    "scrolled": true
   },
   "outputs": [
    {
     "data": {
      "text/plain": [
       "ImageView object:\n",
       "  Display bands       :  (29, 19, 9)\n",
       "  Interpolation       :  <default>\n",
       "  RGB data limits     :\n",
       "    R: [0.17660747091243112, 0.5970606246172688]\n",
       "    G: [0.2353949785670545, 0.7783221065523577]\n",
       "    B: [0.31916717697489283, 0.7611757501530925]"
      ]
     },
     "execution_count": 149,
     "metadata": {},
     "output_type": "execute_result"
    },
    {
     "data": {
      "image/png": "[encoded data removed]",
      "text/plain": [
       "<Figure size 432x288 with 1 Axes>"
      ]
     },
     "metadata": {
      "needs_background": "light"
     },
     "output_type": "display_data"
    }
   ],
   "source": [
    "spectral.imshow(hermi_2007, bands = (29, 19, 9))"
   ]
  },
  {
   "cell_type": "code",
   "execution_count": 22,
   "metadata": {
    "scrolled": true
   },
   "outputs": [
    {
     "name": "stdout",
     "output_type": "stream",
     "text": [
      "Model: \"functional_9\"\n",
      "_________________________________________________________________\n",
      "Layer (type)                 Output Shape              Param #   \n",
      "=================================================================\n",
      "input_9 (InputLayer)         [(None, 2, 64, 64, 32)]   0         \n",
      "_________________________________________________________________\n",
      "time_distributed_14 (TimeDis (None, 2, 64, 64, 64)     51264     \n",
      "_________________________________________________________________\n",
      "time_distributed_15 (TimeDis (None, 2, 64, 64, 32)     18464     \n",
      "_________________________________________________________________\n",
      "conv_lst_m2d_14 (ConvLSTM2D) (None, 2, 64, 64, 32)     73856     \n",
      "_________________________________________________________________\n",
      "conv_lst_m2d_15 (ConvLSTM2D) (None, 64, 64, 16)        27712     \n",
      "_________________________________________________________________\n",
      "dense_7 (Dense)              (None, 64, 64, 6)         102       \n",
      "=================================================================\n",
      "Total params: 171,398\n",
      "Trainable params: 171,398\n",
      "Non-trainable params: 0\n",
      "_________________________________________________________________\n"
     ]
    }
   ],
   "source": [
    "theInput = Input((2, 64, 64, 32))\n",
    "\n",
    "convLSTM = TimeDistributed(Conv2D(64, (5, 5), padding='same', activation=LeakyReLU()))(theInput)\n",
    "convLSTM = TimeDistributed(Conv2D(32, (3, 3), padding='same', activation=LeakyReLU()))(convLSTM)\n",
    "convLSTM = ConvLSTM2D(32, kernel_size = (3, 3),padding = 'same', return_sequences = True)(convLSTM)\n",
    "convLSTM = ConvLSTM2D(16, kernel_size = (3, 3), padding = 'same', return_sequences = False)(convLSTM)\n",
    "convLSTM = Dense(6, activation = 'softmax')(convLSTM)\n",
    "\n",
    "lstm_model = Model(inputs = theInput, outputs = convLSTM);\n",
    "lstm_model.summary();"
   ]
  },
  {
   "cell_type": "code",
   "execution_count": 19,
   "metadata": {},
   "outputs": [],
   "source": [
    "lstm_model.compile(optimizer='adam', loss='binary_crossentropy', metrics='accuracy')"
   ]
  },
  {
   "cell_type": "code",
   "execution_count": null,
   "metadata": {},
   "outputs": [],
   "source": []
  }
 ],
 "metadata": {
  "colab": {
   "collapsed_sections": [],
   "include_colab_link": true,
   "name": "Untitled7.ipynb",
   "provenance": []
  },
  "kernelspec": {
   "display_name": "Python 3",
   "language": "python",
   "name": "python3"
  },
  "language_info": {
   "codemirror_mode": {
    "name": "ipython",
    "version": 3
   },
   "file_extension": ".py",
   "mimetype": "text/x-python",
   "name": "python",
   "nbconvert_exporter": "python",
   "pygments_lexer": "ipython3",
   "version": "3.6.10"
  }
 },
 "nbformat": 4,
 "nbformat_minor": 1
}
