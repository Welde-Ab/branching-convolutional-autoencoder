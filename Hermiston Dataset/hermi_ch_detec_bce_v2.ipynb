{
 "cells": [
  {
   "cell_type": "markdown",
   "metadata": {
    "colab_type": "text",
    "id": "view-in-github"
   },
   "source": [
    "<a href=\"https://colab.research.google.com/github/mkbensalah/Change-Detection-in-Hyperspectral-Images/blob/master/Training.ipynb\" target=\"_parent\"><img src=\"https://colab.research.google.com/assets/colab-badge.svg\" alt=\"Open In Colab\"/></a>"
   ]
  },
  {
   "cell_type": "markdown",
   "metadata": {
    "colab": {
     "base_uri": "https://localhost:8080/",
     "height": 51
    },
    "colab_type": "code",
    "id": "mPjYThNS_7Gx",
    "outputId": "09358934-3c3f-4aec-f8ff-e31efe8782b3"
   },
   "source": [
    "### Training with Hermiston Datasets ###"
   ]
  },
  {
   "cell_type": "code",
   "execution_count": 1,
   "metadata": {
    "colab": {},
    "colab_type": "code",
    "id": "ajxzQhWOD-3q"
   },
   "outputs": [],
   "source": [
    "import os\n",
    "import random\n",
    "import itertools\n",
    "from random import shuffle\n",
    "import h5py\n",
    "import json\n",
    "import tensorflow as tf\n",
    "\n",
    "import numpy as np\n",
    "import scipy\n",
    "import scipy.io as sio # Scipy input and output\n",
    "import scipy.ndimage \n",
    "from skimage.transform import rotate \n",
    "import spectral # Module for processing hyperspectral image data.\n",
    "import matplotlib \n",
    "%matplotlib inline\n",
    "\n",
    "# scikit-learn imports \n",
    "from sklearn.decomposition import PCA\n",
    "from sklearn.model_selection import train_test_split\n",
    "from sklearn import preprocessing\n",
    "from sklearn.metrics import classification_report, confusion_matrix\n",
    "\n",
    "# keras imports \n",
    "#import keras\n",
    "import tensorflow as tf\n",
    "from tensorflow.keras import layers, Input, Model\n",
    "from tensorflow.keras.models import Sequential\n",
    "from tensorflow.keras.layers import Dense, Dropout, Flatten, LeakyReLU\n",
    "from tensorflow.keras.layers import Conv2D, MaxPooling2D, ConvLSTM2D, TimeDistributed\n",
    "from tensorflow.keras.optimizers import SGD\n",
    "from tensorflow.keras.models import load_model\n",
    "from tensorflow.keras import backend as K\n",
    "from tensorflow.keras.utils import to_categorical\n",
    "import sys"
   ]
  },
  {
   "cell_type": "code",
   "execution_count": 3,
   "metadata": {},
   "outputs": [
    {
     "name": "stderr",
     "output_type": "stream",
     "text": [
      "C:\\Users\\CVR 2019 2020\\AppData\\Roaming\\Python\\Python36\\site-packages\\tensorflow_addons\\utils\\ensure_tf_install.py:68: UserWarning: Tensorflow Addons supports using Python ops for all Tensorflow versions above or equal to 2.2.0 and strictly below 2.3.0 (nightly versions are not supported). \n",
      " The versions of TensorFlow you are currently using is 2.3.0 and is not supported. \n",
      "Some things might work, some things might not.\n",
      "If you were to encounter a bug, do not file an issue.\n",
      "If you want to make sure you're using a tested and supported configuration, either change the TensorFlow version or the TensorFlow Addons's version. \n",
      "You can find the compatibility matrix in TensorFlow Addon's readme:\n",
      "https://github.com/tensorflow/addons\n",
      "  UserWarning,\n"
     ]
    },
    {
     "name": "stdout",
     "output_type": "stream",
     "text": [
      "2.3.0\n"
     ]
    }
   ],
   "source": [
    "from tensorflow_addons.layers import InstanceNormalization\n",
    "from tensorflow.keras.layers import Dense, Conv1D, Activation, Flatten, Input, Reshape, LeakyReLU\n",
    "from tensorflow.keras import Model, Sequential\n",
    "from tensorflow.keras.models import load_model\n",
    "from tensorflow.keras.layers import Conv2DTranspose\n",
    "from tensorflow.keras.layers import BatchNormalization\n",
    "from tensorflow.keras.layers import Dropout\n",
    "from tensorflow.keras.layers import MaxPool2D\n",
    "from tensorflow.keras.layers import UpSampling2D\n",
    "from tensorflow.keras.layers import Flatten\n",
    "from tensorflow.keras.layers import Concatenate\n",
    "from tensorflow.keras.layers import Reshape\n",
    "from tensorflow.keras.layers import LeakyReLU\n",
    "from tensorflow.keras.callbacks import ModelCheckpoint\n",
    "\n",
    "import tensorflow_docs as tfdocs\n",
    "import tensorflow_docs.modeling\n",
    "import tensorflow_docs.plots\n",
    "\n",
    "from  IPython import display\n",
    "import pathlib\n",
    "import shutil\n",
    "import tempfile\n",
    "import math\n",
    "import numpy as np\n",
    "from scipy.io import loadmat\n",
    "import matplotlib.pyplot as plt\n",
    "import os\n",
    "import numpy as np\n",
    "from os.path import join, exists, basename, split\n",
    "from spectral import *\n",
    "\n",
    "from os import listdir\n",
    "from os.path import isfile, join\n",
    "from os import walk\n",
    "import glob\n",
    "from sklearn.model_selection import train_test_split\n",
    "from spectral import *\n",
    "\n",
    "print(tf.__version__)"
   ]
  },
  {
   "cell_type": "code",
   "execution_count": 4,
   "metadata": {
    "colab": {},
    "colab_type": "code",
    "id": "I-YKKfCiHcbL"
   },
   "outputs": [
    {
     "name": "stdout",
     "output_type": "stream",
     "text": [
      "1 Physical GPUs, 1 Logical GPUs\n"
     ]
    }
   ],
   "source": [
    "### Limit GPU Memory growth ###\n",
    "gpus = tf.config.experimental.list_physical_devices('GPU')\n",
    "if gpus:\n",
    "  try:\n",
    "    # Currently, memory growth needs to be the same across GPUs\n",
    "    for gpu in gpus:\n",
    "      tf.config.experimental.set_memory_growth(gpu, True)\n",
    "    logical_gpus = tf.config.experimental.list_logical_devices('GPU')\n",
    "    print(len(gpus), \"Physical GPUs,\", len(logical_gpus), \"Logical GPUs\")\n",
    "  except RuntimeError as e:\n",
    "    # Memory growth must be set before GPUs have been initialized\n",
    "    print(e)"
   ]
  },
  {
   "cell_type": "markdown",
   "metadata": {},
   "source": [
    "## Define data loading function"
   ]
  },
  {
   "cell_type": "code",
   "execution_count": 5,
   "metadata": {
    "scrolled": true
   },
   "outputs": [],
   "source": [
    "def load_data(name):\n",
    "    images = []\n",
    "    \n",
    "    print(name+\"----------\")\n",
    "    datas = []\n",
    "    u = 0\n",
    "    \n",
    "    for filename in glob.glob(name+\"/*.npy\"):\n",
    "\n",
    "        datas.append(filename)\n",
    "        u = u + 1\n",
    "\n",
    "    print(\"Number of Samples :    \"+str(u))\n",
    "        \n",
    "    return datas"
   ]
  },
  {
   "cell_type": "code",
   "execution_count": 6,
   "metadata": {
    "scrolled": false
   },
   "outputs": [
    {
     "name": "stdout",
     "output_type": "stream",
     "text": [
      "E:\\intermediate_notebooks\\hermi2004----------\n",
      "Number of Samples :    1943\n"
     ]
    }
   ],
   "source": [
    "hermi_2004 = load_data(r\"E:\\intermediate_notebooks\\hermi2004\");# List containing names (string) of the datasets in hermi2004"
   ]
  },
  {
   "cell_type": "code",
   "execution_count": 7,
   "metadata": {
    "scrolled": true
   },
   "outputs": [
    {
     "name": "stdout",
     "output_type": "stream",
     "text": [
      "E:\\intermediate_notebooks\\hermi2007----------\n",
      "Number of Samples :    1943\n"
     ]
    }
   ],
   "source": [
    "hermi_2007 = load_data(r\"E:\\intermediate_notebooks\\hermi2007\");# List containing names (string) of the datasets in hermi2007"
   ]
  },
  {
   "cell_type": "code",
   "execution_count": 8,
   "metadata": {},
   "outputs": [
    {
     "name": "stdout",
     "output_type": "stream",
     "text": [
      "1943\n"
     ]
    }
   ],
   "source": [
    "hermi_comb = [];\n",
    "for i in range(len(hermi_2004)):\n",
    "    hermi_comb.append([hermi_2004[i], hermi_2007[i]])\n",
    "print(len(hermi_comb))"
   ]
  },
  {
   "cell_type": "code",
   "execution_count": 9,
   "metadata": {},
   "outputs": [
    {
     "data": {
      "text/plain": [
       "['E:\\\\intermediate_notebooks\\\\hermi2004\\\\0060.npy',\n",
       " 'E:\\\\intermediate_notebooks\\\\hermi2007\\\\0060.npy']"
      ]
     },
     "execution_count": 9,
     "metadata": {},
     "output_type": "execute_result"
    }
   ],
   "source": [
    "hermi_comb[60]"
   ]
  },
  {
   "cell_type": "code",
   "execution_count": 10,
   "metadata": {},
   "outputs": [
    {
     "name": "stdout",
     "output_type": "stream",
     "text": [
      "E:\\intermediate_notebooks\\hermi_ch_gt_cat----------\n",
      "Number of Samples :    1943\n"
     ]
    }
   ],
   "source": [
    "hermi_ch_gt = load_data(r\"E:\\intermediate_notebooks\\hermi_ch_gt_cat\");# List containing names (string) of the datasets in hermi2007"
   ]
  },
  {
   "cell_type": "code",
   "execution_count": 11,
   "metadata": {},
   "outputs": [],
   "source": [
    "np.random.seed(25)\n",
    "hermi_train_im, hermi_test_im, hermi_train_lb, hermi_test_lb = train_test_split(hermi_comb, hermi_ch_gt, test_size=0.1, shuffle=True)"
   ]
  },
  {
   "cell_type": "code",
   "execution_count": 20,
   "metadata": {},
   "outputs": [
    {
     "name": "stdout",
     "output_type": "stream",
     "text": [
      "1748\n",
      "195\n"
     ]
    }
   ],
   "source": [
    "print(len(hermi_train_im))\n",
    "print(len(hermi_test_im))"
   ]
  },
  {
   "cell_type": "code",
   "execution_count": 21,
   "metadata": {},
   "outputs": [
    {
     "name": "stdout",
     "output_type": "stream",
     "text": [
      "['E:\\\\intermediate_notebooks\\\\hermi2004\\\\1003.npy', 'E:\\\\intermediate_notebooks\\\\hermi2007\\\\1003.npy']\n",
      "E:\\intermediate_notebooks\\hermi_ch_gt_cat\\1003.npy\n",
      "['E:\\\\intermediate_notebooks\\\\hermi2004\\\\1696.npy', 'E:\\\\intermediate_notebooks\\\\hermi2007\\\\1696.npy']\n",
      "E:\\intermediate_notebooks\\hermi_ch_gt_cat\\1696.npy\n"
     ]
    }
   ],
   "source": [
    "print(hermi_train_im[100])\n",
    "print(hermi_train_lb[100])\n",
    "print(hermi_test_im[50])\n",
    "print(hermi_test_lb[50])"
   ]
  },
  {
   "cell_type": "code",
   "execution_count": 168,
   "metadata": {},
   "outputs": [
    {
     "data": {
      "text/plain": [
       "(array([  0, 255], dtype=uint8), array([101885,   9698], dtype=int64))"
      ]
     },
     "execution_count": 168,
     "metadata": {},
     "output_type": "execute_result"
    }
   ],
   "source": [
    "np.unique(river_gt, return_counts=True)"
   ]
  },
  {
   "cell_type": "markdown",
   "metadata": {},
   "source": [
    "## Load the pretrained bce model ##"
   ]
  },
  {
   "cell_type": "code",
   "execution_count": 12,
   "metadata": {},
   "outputs": [
    {
     "name": "stderr",
     "output_type": "stream",
     "text": [
      "WARNING:root:The given value for groups will be overwritten.\n",
      "WARNING:root:The given value for groups will be overwritten.\n",
      "WARNING:root:The given value for groups will be overwritten.\n",
      "WARNING:root:The given value for groups will be overwritten.\n",
      "WARNING:root:The given value for groups will be overwritten.\n",
      "WARNING:root:The given value for groups will be overwritten.\n",
      "WARNING:root:The given value for groups will be overwritten.\n",
      "WARNING:root:The given value for groups will be overwritten.\n",
      "WARNING:root:The given value for groups will be overwritten.\n",
      "WARNING:root:The given value for groups will be overwritten.\n",
      "WARNING:root:The given value for groups will be overwritten.\n",
      "WARNING:root:The given value for groups will be overwritten.\n",
      "WARNING:root:The given value for groups will be overwritten.\n",
      "WARNING:root:The given value for groups will be overwritten.\n",
      "WARNING:root:The given value for groups will be overwritten.\n",
      "WARNING:root:The given value for groups will be overwritten.\n",
      "WARNING:root:The given value for groups will be overwritten.\n"
     ]
    },
    {
     "name": "stdout",
     "output_type": "stream",
     "text": [
      "Model: \"functional_5\"\n",
      "__________________________________________________________________________________________________\n",
      "Layer (type)                    Output Shape         Param #     Connected to                     \n",
      "==================================================================================================\n",
      "input_1 (InputLayer)            [(None, 64, 64, 242) 0                                            \n",
      "__________________________________________________________________________________________________\n",
      "conv2d_6 (Conv2D)               (None, 64, 64, 16)   189744      input_1[0][0]                    \n",
      "__________________________________________________________________________________________________\n",
      "max_pooling2d (MaxPooling2D)    (None, 32, 32, 16)   0           conv2d_6[0][0]                   \n",
      "__________________________________________________________________________________________________\n",
      "instance_normalization_6 (Insta (None, 32, 32, 16)   32          max_pooling2d[0][0]              \n",
      "__________________________________________________________________________________________________\n",
      "conv2d (Conv2D)                 (None, 64, 64, 242)  58806       input_1[0][0]                    \n",
      "__________________________________________________________________________________________________\n",
      "conv2d_7 (Conv2D)               (None, 32, 32, 64)   25664       instance_normalization_6[0][0]   \n",
      "__________________________________________________________________________________________________\n",
      "instance_normalization (Instanc (None, 64, 64, 242)  484         conv2d[0][0]                     \n",
      "__________________________________________________________________________________________________\n",
      "max_pooling2d_1 (MaxPooling2D)  (None, 16, 16, 64)   0           conv2d_7[0][0]                   \n",
      "__________________________________________________________________________________________________\n",
      "conv2d_1 (Conv2D)               (None, 64, 64, 197)  47871       instance_normalization[0][0]     \n",
      "__________________________________________________________________________________________________\n",
      "instance_normalization_7 (Insta (None, 16, 16, 64)   128         max_pooling2d_1[0][0]            \n",
      "__________________________________________________________________________________________________\n",
      "instance_normalization_1 (Insta (None, 64, 64, 197)  394         conv2d_1[0][0]                   \n",
      "__________________________________________________________________________________________________\n",
      "conv2d_8 (Conv2D)               (None, 16, 16, 112)  179312      instance_normalization_7[0][0]   \n",
      "__________________________________________________________________________________________________\n",
      "conv2d_2 (Conv2D)               (None, 64, 64, 152)  30096       instance_normalization_1[0][0]   \n",
      "__________________________________________________________________________________________________\n",
      "instance_normalization_8 (Insta (None, 16, 16, 112)  224         conv2d_8[0][0]                   \n",
      "__________________________________________________________________________________________________\n",
      "instance_normalization_2 (Insta (None, 64, 64, 152)  304         conv2d_2[0][0]                   \n",
      "__________________________________________________________________________________________________\n",
      "conv2d_9 (Conv2D)               (None, 16, 16, 160)  161440      instance_normalization_8[0][0]   \n",
      "__________________________________________________________________________________________________\n",
      "conv2d_3 (Conv2D)               (None, 64, 64, 107)  16371       instance_normalization_2[0][0]   \n",
      "__________________________________________________________________________________________________\n",
      "instance_normalization_9 (Insta (None, 16, 16, 160)  320         conv2d_9[0][0]                   \n",
      "__________________________________________________________________________________________________\n",
      "instance_normalization_3 (Insta (None, 64, 64, 107)  214         conv2d_3[0][0]                   \n",
      "__________________________________________________________________________________________________\n",
      "conv2d_10 (Conv2D)              (None, 16, 16, 208)  299728      instance_normalization_9[0][0]   \n",
      "__________________________________________________________________________________________________\n",
      "conv2d_4 (Conv2D)               (None, 64, 64, 62)   6696        instance_normalization_3[0][0]   \n",
      "__________________________________________________________________________________________________\n",
      "instance_normalization_10 (Inst (None, 16, 16, 208)  416         conv2d_10[0][0]                  \n",
      "__________________________________________________________________________________________________\n",
      "instance_normalization_4 (Insta (None, 64, 64, 62)   124         conv2d_4[0][0]                   \n",
      "__________________________________________________________________________________________________\n",
      "conv2d_11 (Conv2D)              (None, 16, 16, 256)  479488      instance_normalization_10[0][0]  \n",
      "__________________________________________________________________________________________________\n",
      "conv2d_5 (Conv2D)               (None, 64, 64, 16)   1008        instance_normalization_4[0][0]   \n",
      "__________________________________________________________________________________________________\n",
      "dropout_1 (Dropout)             (None, 16, 16, 256)  0           conv2d_11[0][0]                  \n",
      "__________________________________________________________________________________________________\n",
      "dropout (Dropout)               (None, 64, 64, 16)   0           conv2d_5[0][0]                   \n",
      "__________________________________________________________________________________________________\n",
      "instance_normalization_11 (Inst (None, 16, 16, 256)  512         dropout_1[0][0]                  \n",
      "__________________________________________________________________________________________________\n",
      "instance_normalization_5 (Insta (None, 64, 64, 16)   32          dropout[0][0]                    \n",
      "__________________________________________________________________________________________________\n",
      "reshape (Reshape)               (None, 64, 64, 16)   0           instance_normalization_11[0][0]  \n",
      "__________________________________________________________________________________________________\n",
      "concatenate (Concatenate)       (None, 64, 64, 32)   0           instance_normalization_5[0][0]   \n",
      "                                                                 reshape[0][0]                    \n",
      "__________________________________________________________________________________________________\n",
      "conv2d_transpose_6 (Conv2DTrans (None, 64, 64, 256)  73984       concatenate[0][0]                \n",
      "__________________________________________________________________________________________________\n",
      "instance_normalization_17 (Inst (None, 64, 64, 256)  512         conv2d_transpose_6[0][0]         \n",
      "__________________________________________________________________________________________________\n",
      "conv2d_transpose_7 (Conv2DTrans (None, 64, 64, 254)  585470      instance_normalization_17[0][0]  \n",
      "__________________________________________________________________________________________________\n",
      "instance_normalization_18 (Inst (None, 64, 64, 254)  508         conv2d_transpose_7[0][0]         \n",
      "__________________________________________________________________________________________________\n",
      "conv2d_transpose_8 (Conv2DTrans (None, 64, 64, 252)  576324      instance_normalization_18[0][0]  \n",
      "__________________________________________________________________________________________________\n",
      "instance_normalization_19 (Inst (None, 64, 64, 252)  504         conv2d_transpose_8[0][0]         \n",
      "__________________________________________________________________________________________________\n",
      "conv2d_transpose_9 (Conv2DTrans (None, 64, 64, 250)  1575250     instance_normalization_19[0][0]  \n",
      "__________________________________________________________________________________________________\n",
      "instance_normalization_20 (Inst (None, 64, 64, 250)  500         conv2d_transpose_9[0][0]         \n",
      "__________________________________________________________________________________________________\n",
      "conv2d_transpose_10 (Conv2DTran (None, 64, 64, 248)  1550248     instance_normalization_20[0][0]  \n",
      "__________________________________________________________________________________________________\n",
      "instance_normalization_21 (Inst (None, 64, 64, 248)  496         conv2d_transpose_10[0][0]        \n",
      "__________________________________________________________________________________________________\n",
      "conv2d_transpose_11 (Conv2DTran (None, 64, 64, 242)  2941026     instance_normalization_21[0][0]  \n",
      "==================================================================================================\n",
      "Total params: 8,804,230\n",
      "Trainable params: 8,804,230\n",
      "Non-trainable params: 0\n",
      "__________________________________________________________________________________________________\n"
     ]
    }
   ],
   "source": [
    "bce_dim = load_model(\"hermi_dim_reduc_v2.h5\", custom_objects={\"LeakyReLU\":LeakyReLU()})\n",
    "bce_dim.summary()"
   ]
  },
  {
   "cell_type": "code",
   "execution_count": 14,
   "metadata": {},
   "outputs": [
    {
     "name": "stdout",
     "output_type": "stream",
     "text": [
      "Tensor(\"concatenate/concat:0\", shape=(None, 64, 64, 32), dtype=float32)\n"
     ]
    }
   ],
   "source": [
    "output_layer = bce_dim.layers[-12].output\n",
    "print(output_layer)"
   ]
  },
  {
   "cell_type": "code",
   "execution_count": 15,
   "metadata": {},
   "outputs": [
    {
     "name": "stdout",
     "output_type": "stream",
     "text": [
      "Model: \"functional_1\"\n",
      "__________________________________________________________________________________________________\n",
      "Layer (type)                    Output Shape         Param #     Connected to                     \n",
      "==================================================================================================\n",
      "input_1 (InputLayer)            [(None, 64, 64, 242) 0                                            \n",
      "__________________________________________________________________________________________________\n",
      "conv2d_6 (Conv2D)               (None, 64, 64, 16)   189744      input_1[0][0]                    \n",
      "__________________________________________________________________________________________________\n",
      "max_pooling2d (MaxPooling2D)    (None, 32, 32, 16)   0           conv2d_6[0][0]                   \n",
      "__________________________________________________________________________________________________\n",
      "instance_normalization_6 (Insta (None, 32, 32, 16)   32          max_pooling2d[0][0]              \n",
      "__________________________________________________________________________________________________\n",
      "conv2d (Conv2D)                 (None, 64, 64, 242)  58806       input_1[0][0]                    \n",
      "__________________________________________________________________________________________________\n",
      "conv2d_7 (Conv2D)               (None, 32, 32, 64)   25664       instance_normalization_6[0][0]   \n",
      "__________________________________________________________________________________________________\n",
      "instance_normalization (Instanc (None, 64, 64, 242)  484         conv2d[0][0]                     \n",
      "__________________________________________________________________________________________________\n",
      "max_pooling2d_1 (MaxPooling2D)  (None, 16, 16, 64)   0           conv2d_7[0][0]                   \n",
      "__________________________________________________________________________________________________\n",
      "conv2d_1 (Conv2D)               (None, 64, 64, 197)  47871       instance_normalization[0][0]     \n",
      "__________________________________________________________________________________________________\n",
      "instance_normalization_7 (Insta (None, 16, 16, 64)   128         max_pooling2d_1[0][0]            \n",
      "__________________________________________________________________________________________________\n",
      "instance_normalization_1 (Insta (None, 64, 64, 197)  394         conv2d_1[0][0]                   \n",
      "__________________________________________________________________________________________________\n",
      "conv2d_8 (Conv2D)               (None, 16, 16, 112)  179312      instance_normalization_7[0][0]   \n",
      "__________________________________________________________________________________________________\n",
      "conv2d_2 (Conv2D)               (None, 64, 64, 152)  30096       instance_normalization_1[0][0]   \n",
      "__________________________________________________________________________________________________\n",
      "instance_normalization_8 (Insta (None, 16, 16, 112)  224         conv2d_8[0][0]                   \n",
      "__________________________________________________________________________________________________\n",
      "instance_normalization_2 (Insta (None, 64, 64, 152)  304         conv2d_2[0][0]                   \n",
      "__________________________________________________________________________________________________\n",
      "conv2d_9 (Conv2D)               (None, 16, 16, 160)  161440      instance_normalization_8[0][0]   \n",
      "__________________________________________________________________________________________________\n",
      "conv2d_3 (Conv2D)               (None, 64, 64, 107)  16371       instance_normalization_2[0][0]   \n",
      "__________________________________________________________________________________________________\n",
      "instance_normalization_9 (Insta (None, 16, 16, 160)  320         conv2d_9[0][0]                   \n",
      "__________________________________________________________________________________________________\n",
      "instance_normalization_3 (Insta (None, 64, 64, 107)  214         conv2d_3[0][0]                   \n",
      "__________________________________________________________________________________________________\n",
      "conv2d_10 (Conv2D)              (None, 16, 16, 208)  299728      instance_normalization_9[0][0]   \n",
      "__________________________________________________________________________________________________\n",
      "conv2d_4 (Conv2D)               (None, 64, 64, 62)   6696        instance_normalization_3[0][0]   \n",
      "__________________________________________________________________________________________________\n",
      "instance_normalization_10 (Inst (None, 16, 16, 208)  416         conv2d_10[0][0]                  \n",
      "__________________________________________________________________________________________________\n",
      "instance_normalization_4 (Insta (None, 64, 64, 62)   124         conv2d_4[0][0]                   \n",
      "__________________________________________________________________________________________________\n",
      "conv2d_11 (Conv2D)              (None, 16, 16, 256)  479488      instance_normalization_10[0][0]  \n",
      "__________________________________________________________________________________________________\n",
      "conv2d_5 (Conv2D)               (None, 64, 64, 16)   1008        instance_normalization_4[0][0]   \n",
      "__________________________________________________________________________________________________\n",
      "dropout_1 (Dropout)             (None, 16, 16, 256)  0           conv2d_11[0][0]                  \n",
      "__________________________________________________________________________________________________\n",
      "dropout (Dropout)               (None, 64, 64, 16)   0           conv2d_5[0][0]                   \n",
      "__________________________________________________________________________________________________\n",
      "instance_normalization_11 (Inst (None, 16, 16, 256)  512         dropout_1[0][0]                  \n",
      "__________________________________________________________________________________________________\n",
      "instance_normalization_5 (Insta (None, 64, 64, 16)   32          dropout[0][0]                    \n",
      "__________________________________________________________________________________________________\n",
      "reshape (Reshape)               (None, 64, 64, 16)   0           instance_normalization_11[0][0]  \n",
      "__________________________________________________________________________________________________\n",
      "concatenate (Concatenate)       (None, 64, 64, 32)   0           instance_normalization_5[0][0]   \n",
      "                                                                 reshape[0][0]                    \n",
      "==================================================================================================\n",
      "Total params: 1,499,408\n",
      "Trainable params: 0\n",
      "Non-trainable params: 1,499,408\n",
      "__________________________________________________________________________________________________\n"
     ]
    }
   ],
   "source": [
    "bce_encoder = Model(inputs=bce_dim.input, outputs=output_layer)\n",
    "bce_encoder.trainable = False;\n",
    "bce_encoder.summary()"
   ]
  },
  {
   "cell_type": "markdown",
   "metadata": {
    "scrolled": true
   },
   "source": [
    "# Define batch and validation data generators ###"
   ]
  },
  {
   "cell_type": "code",
   "execution_count": 16,
   "metadata": {},
   "outputs": [],
   "source": [
    "def myBatchGenerator(batch_size, images, labels):  \n",
    "    batch_counter = 0\n",
    "    save_batch = 0\n",
    "    while True:    \n",
    "        batch_image = []\n",
    "        batch_label = []\n",
    "        while batch_counter < batch_size + save_batch:\n",
    "            #rand_ind = np.random.randint(len(images));#Random index number to access list\n",
    "\n",
    "            filename1 = images[batch_counter][0]\n",
    "            filename2 = images[batch_counter][1]\n",
    "            theImage1 = np.load(filename1)\n",
    "            theImage2 = np.load(filename2)\n",
    "            tempImage = np.zeros((2, 64, 64, theImage1.shape[2]))\n",
    "            tempImage[0, :, :, :] = theImage1;\n",
    "            tempImage[1, :, :, :] = theImage2;\n",
    "            tempImage = bce_encoder.predict(tempImage)\n",
    "            \n",
    "            labelname = labels[batch_counter]\n",
    "            theLabel = np.load(labelname)\n",
    "            #The input image and the batch label should be the same in this case\n",
    "            \n",
    "            batch_image.append(tempImage)\n",
    "            batch_label.append(theLabel)\n",
    "            \n",
    "            #print(theImage.shape)\n",
    "            batch_counter = batch_counter + 1\n",
    "            #print(\"batch_counter : \"+str(batch_counter))\n",
    "        #print(\"batch_size + save_batch : \"+str(batch_size + save_batch))\n",
    "        if(batch_counter == len(images)-1 or (batch_size + save_batch) > len(images)-1):\n",
    "            batch_counter = 0\n",
    "            save_batch = 0\n",
    "            \n",
    "        save_batch = batch_counter\n",
    "        BI = np.array(batch_image)#.as...\n",
    "        BL = np.array(batch_label)#.astype(np.float32);#Batch labe\n",
    "        yield BI, BL"
   ]
  },
  {
   "cell_type": "code",
   "execution_count": 17,
   "metadata": {},
   "outputs": [],
   "source": [
    "def myValidGenerator(batch_size, images, labels): #Load images in a non-random way\n",
    "    \n",
    "    batch_counter = 0\n",
    "    while True:\n",
    "        batch_image = []\n",
    "        batch_label = []\n",
    "        while batch_counter < batch_size:\n",
    "            rand_ind = np.random.randint(len(images));#Random index number to access list\n",
    "            \n",
    "            filename1 = images[rand_ind][0]\n",
    "            filename2 = images[rand_ind][1]\n",
    "            theImage1 = np.load(filename1)\n",
    "            theImage2 = np.load(filename2)\n",
    "            tempImage = np.zeros((2, 64, 64, theImage1.shape[2]))\n",
    "            tempImage[0, :, :, :] = theImage1;\n",
    "            tempImage[1, :, :, :] = theImage2;\n",
    "            tempImage = bce_encoder.predict(tempImage)\n",
    "            \n",
    "            labelname = labels[rand_ind]\n",
    "            theLabel = np.load(labelname)\n",
    "            #The input image and the batch label should be the same in this case\n",
    "            \n",
    "            batch_image.append(tempImage)\n",
    "            batch_label.append(theLabel)\n",
    "\n",
    "            batch_counter = batch_counter + 1\n",
    "            \n",
    "        batch_counter = 0\n",
    "        \n",
    "        BI = np.array(batch_image)#.astype(np.float32);#Batch image\n",
    "#         print(\"Validation\")\n",
    "#         for i in range(len(batch_label)):\n",
    "#             print(batch_label[i].shape)\n",
    "            \n",
    "        BL = np.array(batch_label)#.astype(np.float32);#Batch labe\n",
    "        yield BI, BL;# Yield gives a sequence of values?"
   ]
  },
  {
   "cell_type": "markdown",
   "metadata": {},
   "source": [
    "#### Generate training and validation data from file ####"
   ]
  },
  {
   "cell_type": "code",
   "execution_count": 18,
   "metadata": {},
   "outputs": [],
   "source": [
    "BATCH_SIZE = 19; # Common divisor for 207 and 621\n",
    "train_batch = myBatchGenerator(BATCH_SIZE, hermi_train_im, hermi_train_lb)\n",
    "test_batch = myValidGenerator(BATCH_SIZE, hermi_test_im, hermi_test_lb)"
   ]
  },
  {
   "cell_type": "code",
   "execution_count": 63,
   "metadata": {},
   "outputs": [],
   "source": [
    "theInput = Input((2, 64, 64, 32))"
   ]
  },
  {
   "cell_type": "code",
   "execution_count": 66,
   "metadata": {
    "scrolled": true
   },
   "outputs": [
    {
     "name": "stdout",
     "output_type": "stream",
     "text": [
      "Model: \"functional_13\"\n",
      "_________________________________________________________________\n",
      "Layer (type)                 Output Shape              Param #   \n",
      "=================================================================\n",
      "input_3 (InputLayer)         [(None, 2, 64, 64, 32)]   0         \n",
      "_________________________________________________________________\n",
      "time_distributed_6 (TimeDist (None, 2, 64, 64, 64)     51264     \n",
      "_________________________________________________________________\n",
      "time_distributed_7 (TimeDist (None, 2, 64, 64, 32)     18464     \n",
      "_________________________________________________________________\n",
      "conv_lst_m2d_6 (ConvLSTM2D)  (None, 2, 64, 64, 32)     73856     \n",
      "_________________________________________________________________\n",
      "conv_lst_m2d_7 (ConvLSTM2D)  (None, 64, 64, 16)        27712     \n",
      "_________________________________________________________________\n",
      "dense_3 (Dense)              (None, 64, 64, 6)         102       \n",
      "=================================================================\n",
      "Total params: 171,398\n",
      "Trainable params: 171,398\n",
      "Non-trainable params: 0\n",
      "_________________________________________________________________\n"
     ]
    }
   ],
   "source": [
    "convLSTM = TimeDistributed(Conv2D(64, (5, 5), padding='same', activation=LeakyReLU()))(theInput)\n",
    "convLSTM = TimeDistributed(Conv2D(32, (3, 3), padding='same', activation=LeakyReLU()))(convLSTM)\n",
    "convLSTM = ConvLSTM2D(32, kernel_size = (3, 3),padding = 'same', return_sequences = True)(convLSTM)\n",
    "convLSTM = ConvLSTM2D(16, kernel_size = (3, 3), padding = 'same', return_sequences = False)(convLSTM)\n",
    "convLSTM = Dense(6, activation = 'softmax')(convLSTM)\n",
    "\n",
    "lstm_model = Model(inputs = theInput, outputs = convLSTM);\n",
    "lstm_model.summary();"
   ]
  },
  {
   "cell_type": "markdown",
   "metadata": {},
   "source": [
    "## Define training log paths ##"
   ]
  },
  {
   "cell_type": "code",
   "execution_count": 67,
   "metadata": {},
   "outputs": [
    {
     "data": {
      "text/plain": [
       "WindowsPath('E:/cha_detec_desktop1/hermi_change/tensorboard_logs')"
      ]
     },
     "execution_count": 67,
     "metadata": {},
     "output_type": "execute_result"
    }
   ],
   "source": [
    "logdir = pathlib.Path(r\"E:\\cha_detec_desktop1\\hermi_change\")/\"tensorboard_logs\"\n",
    "shutil.rmtree(logdir, ignore_errors=True)\n",
    "logdir"
   ]
  },
  {
   "cell_type": "markdown",
   "metadata": {},
   "source": [
    "## Define training callbacks"
   ]
  },
  {
   "cell_type": "code",
   "execution_count": 68,
   "metadata": {},
   "outputs": [],
   "source": [
    "def get_callbacks(name):\n",
    "  return [\n",
    "    tfdocs.modeling.EpochDots(),\n",
    "    tf.keras.callbacks.EarlyStopping(monitor='val_loss', patience=5),\n",
    "    tf.keras.callbacks.TensorBoard(logdir/name),\n",
    "    tf.keras.callbacks.ModelCheckpoint(\n",
    "        \"hermi_ch_detec_v1.h5\", monitor='val_loss', verbose=1, save_best_only=True,\n",
    "         mode='min', save_freq='epoch')\n",
    "  ]"
   ]
  },
  {
   "cell_type": "code",
   "execution_count": 69,
   "metadata": {},
   "outputs": [],
   "source": [
    "lstm_model.compile(optimizer = 'adam', loss = 'categorical_crossentropy', metrics = \"accuracy\")"
   ]
  },
  {
   "cell_type": "code",
   "execution_count": 70,
   "metadata": {
    "scrolled": true
   },
   "outputs": [
    {
     "name": "stdout",
     "output_type": "stream",
     "text": [
      "Epoch 1/10\n",
      "92/92 [==============================] - ETA: 0s - loss: 0.5410 - accuracy: 0.8672\n",
      "Epoch: 0, accuracy:0.8672,  loss:0.5410,  val_accuracy:0.9143,  val_loss:0.2112,  \n",
      ".\n",
      "Epoch 00001: val_loss improved from inf to 0.21120, saving model to hermi_ch_detec_v1.h5\n",
      "92/92 [==============================] - 172s 2s/step - loss: 0.5410 - accuracy: 0.8672 - val_loss: 0.2112 - val_accuracy: 0.9143\n",
      "Epoch 2/10\n",
      "92/92 [==============================] - ETA: 0s - loss: 0.1609 - accuracy: 0.9453.\n",
      "Epoch 00002: val_loss improved from 0.21120 to 0.09194, saving model to hermi_ch_detec_v1.h5\n",
      "92/92 [==============================] - 170s 2s/step - loss: 0.1609 - accuracy: 0.9453 - val_loss: 0.0919 - val_accuracy: 0.9684\n",
      "Epoch 3/10\n",
      "92/92 [==============================] - ETA: 0s - loss: 0.1071 - accuracy: 0.9616.\n",
      "Epoch 00003: val_loss did not improve from 0.09194\n",
      "92/92 [==============================] - 170s 2s/step - loss: 0.1071 - accuracy: 0.9616 - val_loss: 0.1076 - val_accuracy: 0.9646\n",
      "Epoch 4/10\n",
      "92/92 [==============================] - ETA: 0s - loss: 0.0796 - accuracy: 0.9778.\n",
      "Epoch 00004: val_loss improved from 0.09194 to 0.06478, saving model to hermi_ch_detec_v1.h5\n",
      "92/92 [==============================] - 171s 2s/step - loss: 0.0796 - accuracy: 0.9778 - val_loss: 0.0648 - val_accuracy: 0.9826\n",
      "Epoch 5/10\n",
      "92/92 [==============================] - ETA: 0s - loss: 0.0587 - accuracy: 0.9842.\n",
      "Epoch 00005: val_loss improved from 0.06478 to 0.05817, saving model to hermi_ch_detec_v1.h5\n",
      "92/92 [==============================] - 170s 2s/step - loss: 0.0587 - accuracy: 0.9842 - val_loss: 0.0582 - val_accuracy: 0.9824\n",
      "Epoch 6/10\n",
      "92/92 [==============================] - ETA: 0s - loss: 0.0481 - accuracy: 0.9864.\n",
      "Epoch 00006: val_loss improved from 0.05817 to 0.02921, saving model to hermi_ch_detec_v1.h5\n",
      "92/92 [==============================] - 170s 2s/step - loss: 0.0481 - accuracy: 0.9864 - val_loss: 0.0292 - val_accuracy: 0.9915\n",
      "Epoch 7/10\n",
      "92/92 [==============================] - ETA: 0s - loss: 0.0416 - accuracy: 0.9880.\n",
      "Epoch 00007: val_loss improved from 0.02921 to 0.02860, saving model to hermi_ch_detec_v1.h5\n",
      "92/92 [==============================] - 170s 2s/step - loss: 0.0416 - accuracy: 0.9880 - val_loss: 0.0286 - val_accuracy: 0.9919\n",
      "Epoch 8/10\n",
      "92/92 [==============================] - ETA: 0s - loss: 0.0362 - accuracy: 0.9892.\n",
      "Epoch 00008: val_loss improved from 0.02860 to 0.01664, saving model to hermi_ch_detec_v1.h5\n",
      "92/92 [==============================] - 170s 2s/step - loss: 0.0362 - accuracy: 0.9892 - val_loss: 0.0166 - val_accuracy: 0.9953\n",
      "Epoch 9/10\n",
      "92/92 [==============================] - ETA: 0s - loss: 0.0318 - accuracy: 0.9903.\n",
      "Epoch 00009: val_loss did not improve from 0.01664\n",
      "92/92 [==============================] - 170s 2s/step - loss: 0.0318 - accuracy: 0.9903 - val_loss: 0.0259 - val_accuracy: 0.9918\n",
      "Epoch 10/10\n",
      "92/92 [==============================] - ETA: 0s - loss: 0.0283 - accuracy: 0.9912.\n",
      "Epoch 00010: val_loss did not improve from 0.01664\n",
      "92/92 [==============================] - 170s 2s/step - loss: 0.0283 - accuracy: 0.9912 - val_loss: 0.0209 - val_accuracy: 0.9939\n"
     ]
    }
   ],
   "source": [
    "history_v1 = lstm_model.fit(train_batch, \n",
    "                          steps_per_epoch=92, \n",
    "                          epochs=10, \n",
    "                          verbose=1,\n",
    "                          validation_data=test_batch, \n",
    "                          validation_steps=1,\n",
    "                          callbacks = get_callbacks(\"updated\")\n",
    "                          )"
   ]
  },
  {
   "cell_type": "markdown",
   "metadata": {},
   "source": [
    "## Load pretrained change detection model "
   ]
  },
  {
   "cell_type": "code",
   "execution_count": 19,
   "metadata": {},
   "outputs": [],
   "source": [
    "bce_best = load_model(\"hermi_ch_detec_v1.h5\", custom_objects={\"LeakyReLU\": LeakyReLU})"
   ]
  },
  {
   "cell_type": "code",
   "execution_count": 20,
   "metadata": {},
   "outputs": [
    {
     "data": {
      "text/plain": [
       "['E:\\\\intermediate_notebooks\\\\hermi2004\\\\0876.npy',\n",
       " 'E:\\\\intermediate_notebooks\\\\hermi2007\\\\0876.npy']"
      ]
     },
     "execution_count": 20,
     "metadata": {},
     "output_type": "execute_result"
    }
   ],
   "source": [
    "hermi_test_im[70]"
   ]
  },
  {
   "cell_type": "code",
   "execution_count": 21,
   "metadata": {},
   "outputs": [],
   "source": [
    "hermi_2004 = np.load(hermi_test_im[70][0]);\n",
    "hermi_2007 = np.load(hermi_test_im[70][1]);"
   ]
  },
  {
   "cell_type": "code",
   "execution_count": 22,
   "metadata": {},
   "outputs": [
    {
     "name": "stderr",
     "output_type": "stream",
     "text": [
      "c:\\users\\cvr 2019 2020\\anaconda3\\envs\\tf2\\lib\\site-packages\\spectral\\graphics\\spypylab.py:27: MatplotlibDeprecationWarning: \n",
      "The keymap.all_axes rcparam was deprecated in Matplotlib 3.3 and will be removed two minor releases later.\n",
      "  mpl.rcParams['keymap.all_axes'] = ''\n"
     ]
    },
    {
     "data": {
      "text/plain": [
       "ImageView object:\n",
       "  Display bands       :  (29, 19, 12)\n",
       "  Interpolation       :  <default>\n",
       "  RGB data limits     :\n",
       "    R: [0.0875022494265903, 0.44362927212200876]\n",
       "    G: [0.16622839838825998, 0.4446643855468872]\n",
       "    B: [0.20151621338171996, 0.4229724983142613]"
      ]
     },
     "execution_count": 22,
     "metadata": {},
     "output_type": "execute_result"
    },
    {
     "data": {
      "image/png": "[encoded data removed]",
      "text/plain": [
       "<Figure size 432x288 with 1 Axes>"
      ]
     },
     "metadata": {
      "needs_background": "light"
     },
     "output_type": "display_data"
    }
   ],
   "source": [
    "imshow(hermi_2004, bands=(29,19,12))"
   ]
  },
  {
   "cell_type": "code",
   "execution_count": 23,
   "metadata": {},
   "outputs": [
    {
     "data": {
      "text/plain": [
       "ImageView object:\n",
       "  Display bands       :  (29, 19, 12)\n",
       "  Interpolation       :  <default>\n",
       "  RGB data limits     :\n",
       "    R: [0.08761528326745718, 0.42028985507246375]\n",
       "    G: [0.18302591128678086, 0.4126043039086517]\n",
       "    B: [0.20366710584101888, 0.40085638998682477]"
      ]
     },
     "execution_count": 23,
     "metadata": {},
     "output_type": "execute_result"
    },
    {
     "data": {
      "image/png": "[encoded data removed]",
      "text/plain": [
       "<Figure size 432x288 with 1 Axes>"
      ]
     },
     "metadata": {
      "needs_background": "light"
     },
     "output_type": "display_data"
    }
   ],
   "source": [
    "imshow(hermi_2007, bands=(29,19,12))"
   ]
  },
  {
   "cell_type": "code",
   "execution_count": 24,
   "metadata": {},
   "outputs": [],
   "source": [
    "feed = np.zeros((2, 64, 64, 242))\n",
    "feed[0, :, :, :] = hermi_2004;\n",
    "feed[1, :, :, :] = hermi_2007;"
   ]
  },
  {
   "cell_type": "code",
   "execution_count": 25,
   "metadata": {},
   "outputs": [],
   "source": [
    "out = bce_encoder.predict(feed)"
   ]
  },
  {
   "cell_type": "code",
   "execution_count": 26,
   "metadata": {},
   "outputs": [
    {
     "data": {
      "text/plain": [
       "(1, 2, 64, 64, 32)"
      ]
     },
     "execution_count": 26,
     "metadata": {},
     "output_type": "execute_result"
    }
   ],
   "source": [
    "out_re = np.expand_dims(out, axis=0)\n",
    "out_re.shape"
   ]
  },
  {
   "cell_type": "code",
   "execution_count": 27,
   "metadata": {},
   "outputs": [
    {
     "data": {
      "text/plain": [
       "(1, 64, 64, 6)"
      ]
     },
     "execution_count": 27,
     "metadata": {},
     "output_type": "execute_result"
    }
   ],
   "source": [
    "ch_pred = bce_best.predict(out_re)\n",
    "ch_pred.shape"
   ]
  },
  {
   "cell_type": "code",
   "execution_count": 28,
   "metadata": {},
   "outputs": [
    {
     "data": {
      "text/plain": [
       "(64, 64, 6)"
      ]
     },
     "execution_count": 28,
     "metadata": {},
     "output_type": "execute_result"
    }
   ],
   "source": [
    "ch_pred = np.squeeze(ch_pred)\n",
    "ch_pred.shape"
   ]
  },
  {
   "cell_type": "code",
   "execution_count": 29,
   "metadata": {},
   "outputs": [
    {
     "data": {
      "text/plain": [
       "(64, 64)"
      ]
     },
     "execution_count": 29,
     "metadata": {},
     "output_type": "execute_result"
    }
   ],
   "source": [
    "ch_pred_ord = np.argmax(ch_pred, axis=2)\n",
    "ch_pred_ord.shape"
   ]
  },
  {
   "cell_type": "code",
   "execution_count": 30,
   "metadata": {},
   "outputs": [
    {
     "name": "stderr",
     "output_type": "stream",
     "text": [
      "c:\\users\\cvr 2019 2020\\anaconda3\\envs\\tf2\\lib\\site-packages\\spectral\\graphics\\spypylab.py:905: MatplotlibDeprecationWarning: Passing parameters norm and vmin/vmax simultaneously is deprecated since 3.3 and will become an error two minor releases later. Please pass vmin/vmax directly to the norm when creating it.\n",
      "  self.class_axes = plt.imshow(self.class_rgb, **kwargs)\n"
     ]
    },
    {
     "data": {
      "text/plain": [
       "ImageView object:\n",
       "  Interpolation       :  <default>"
      ]
     },
     "execution_count": 30,
     "metadata": {},
     "output_type": "execute_result"
    },
    {
     "data": {
      "image/png": "[encoded data removed]",
      "text/plain": [
       "<Figure size 432x288 with 1 Axes>"
      ]
     },
     "metadata": {
      "needs_background": "light"
     },
     "output_type": "display_data"
    }
   ],
   "source": [
    "imshow(classes=ch_pred_ord)"
   ]
  },
  {
   "cell_type": "code",
   "execution_count": 31,
   "metadata": {},
   "outputs": [
    {
     "data": {
      "text/plain": [
       "(64, 64, 6)"
      ]
     },
     "execution_count": 31,
     "metadata": {},
     "output_type": "execute_result"
    }
   ],
   "source": [
    "ch_label = np.load(r\"E:\\intermediate_notebooks\\hermi_ch_gt_cat\\0876.npy\")\n",
    "ch_label.shape"
   ]
  },
  {
   "cell_type": "code",
   "execution_count": 32,
   "metadata": {},
   "outputs": [
    {
     "data": {
      "text/plain": [
       "(64, 64)"
      ]
     },
     "execution_count": 32,
     "metadata": {},
     "output_type": "execute_result"
    }
   ],
   "source": [
    "ch_label_ord = np.argmax(ch_label, axis=2)\n",
    "ch_label_ord.shape"
   ]
  },
  {
   "cell_type": "code",
   "execution_count": 33,
   "metadata": {},
   "outputs": [
    {
     "data": {
      "text/plain": [
       "ImageView object:\n",
       "  Interpolation       :  <default>"
      ]
     },
     "execution_count": 33,
     "metadata": {},
     "output_type": "execute_result"
    },
    {
     "data": {
      "image/png": "[encoded data removed]",
      "text/plain": [
       "<Figure size 432x288 with 1 Axes>"
      ]
     },
     "metadata": {
      "needs_background": "light"
     },
     "output_type": "display_data"
    }
   ],
   "source": [
    "imshow(classes = ch_label_ord)"
   ]
  },
  {
   "cell_type": "code",
   "execution_count": 34,
   "metadata": {},
   "outputs": [
    {
     "name": "stdout",
     "output_type": "stream",
     "text": [
      "E:\\intermediate_notebooks\\hermi2004_final----------\n",
      "Number of Samples :    28\n",
      "E:\\intermediate_notebooks\\hermi2007_final----------\n",
      "Number of Samples :    28\n"
     ]
    }
   ],
   "source": [
    "hermi_2004_final = load_data(r\"E:\\intermediate_notebooks\\hermi2004_final\");# List containing names (string) of the datasets in hermi_2004\n",
    "hermi_2007_final = load_data(r\"E:\\intermediate_notebooks\\hermi2007_final\");# List containing names (string) of the datasets in hermi_2004"
   ]
  },
  {
   "cell_type": "code",
   "execution_count": 35,
   "metadata": {},
   "outputs": [
    {
     "name": "stdout",
     "output_type": "stream",
     "text": [
      "Loaded 28 files\n"
     ]
    }
   ],
   "source": [
    "counter = 0;\n",
    "hermi_org = np.zeros((2, 64, 64, 242))\n",
    "for i in range(len(hermi_2004_final)):\n",
    "    #print(\"Loading file number: \", all_final[counter])\n",
    "    temp1 = np.load(hermi_2004_final[i])\n",
    "    temp2 = np.load(hermi_2007_final[i])\n",
    "    hermi_org[0, :, :, :] = temp1;\n",
    "    hermi_org[1, :, :, :] = temp2;\n",
    "    hermi_pred = bce_encoder.predict(hermi_org)\n",
    "    hermi_pred = np.expand_dims(hermi_pred, axis=0);\n",
    "    hermi_pred = bce_best.predict(hermi_pred)\n",
    "    hermi_pred = np.squeeze(hermi_pred)\n",
    "    hermi_pred = np.argmax(hermi_pred, axis=2)\n",
    "    np.save(pathlib.Path(r\"E:\\cha_detec_desktop1\\hermi_change\", '{:03d}'.format(counter)).with_suffix(\".npy\"), hermi_pred)\n",
    "    counter += 1\n",
    "print(\"Loaded \"+str(counter)+\" files\")"
   ]
  },
  {
   "cell_type": "code",
   "execution_count": 36,
   "metadata": {},
   "outputs": [
    {
     "name": "stdout",
     "output_type": "stream",
     "text": [
      "E:\\cha_detec_desktop1\\hermi_change----------\n",
      "Number of Samples :    28\n"
     ]
    }
   ],
   "source": [
    "all_change = load_data(r\"E:\\cha_detec_desktop1\\hermi_change\");# List containing names (string) of the datasets in pavC"
   ]
  },
  {
   "cell_type": "code",
   "execution_count": 37,
   "metadata": {},
   "outputs": [
    {
     "data": {
      "text/plain": [
       "(64, 64)"
      ]
     },
     "execution_count": 37,
     "metadata": {},
     "output_type": "execute_result"
    }
   ],
   "source": [
    "np.load(all_change[20]).shape"
   ]
  },
  {
   "cell_type": "code",
   "execution_count": 38,
   "metadata": {},
   "outputs": [
    {
     "data": {
      "text/plain": [
       "(448, 256)"
      ]
     },
     "execution_count": 38,
     "metadata": {},
     "output_type": "execute_result"
    }
   ],
   "source": [
    "change_im = np.zeros((448, 256))\n",
    "change_im.shape"
   ]
  },
  {
   "cell_type": "code",
   "execution_count": 39,
   "metadata": {},
   "outputs": [
    {
     "name": "stdout",
     "output_type": "stream",
     "text": [
      "28\n"
     ]
    }
   ],
   "source": [
    "counter = 0;\n",
    "for r in range(0, change_im.shape[0], 64):\n",
    "    for c in range(0, change_im.shape[1], 64):\n",
    "        temp = np.load(all_change[counter])\n",
    "        #print(temp.shape)\n",
    "        change_im[r:r+64, c:c+64] = temp \n",
    "        counter +=1;\n",
    "print(counter)"
   ]
  },
  {
   "cell_type": "code",
   "execution_count": 40,
   "metadata": {},
   "outputs": [],
   "source": [
    "change_im = change_im[0:390, 0:200]"
   ]
  },
  {
   "cell_type": "code",
   "execution_count": 41,
   "metadata": {},
   "outputs": [
    {
     "data": {
      "text/plain": [
       "ImageView object:\n",
       "  Interpolation       :  <default>"
      ]
     },
     "execution_count": 41,
     "metadata": {},
     "output_type": "execute_result"
    },
    {
     "data": {
      "image/png": "[encoded data removed]",
      "text/plain": [
       "<Figure size 432x288 with 1 Axes>"
      ]
     },
     "metadata": {
      "needs_background": "light"
     },
     "output_type": "display_data"
    }
   ],
   "source": [
    "imshow(classes=change_im)"
   ]
  },
  {
   "cell_type": "code",
   "execution_count": 42,
   "metadata": {},
   "outputs": [
    {
     "name": "stdout",
     "output_type": "stream",
     "text": [
      "E:\\intermediate_notebooks\\hermi_ch_gt_final----------\n",
      "Number of Samples :    28\n"
     ]
    }
   ],
   "source": [
    "gt_all_final = load_data(r\"E:\\intermediate_notebooks\\hermi_ch_gt_final\");# List containing names (string) of the datasets in pavC"
   ]
  },
  {
   "cell_type": "code",
   "execution_count": 43,
   "metadata": {},
   "outputs": [],
   "source": [
    "final_im = np.zeros((448, 256))"
   ]
  },
  {
   "cell_type": "code",
   "execution_count": 44,
   "metadata": {},
   "outputs": [
    {
     "name": "stdout",
     "output_type": "stream",
     "text": [
      "28\n"
     ]
    }
   ],
   "source": [
    "counter = 0;\n",
    "for r in range(0, final_im.shape[0], 64):\n",
    "    for c in range(0, final_im.shape[1], 64):\n",
    "        temp = np.load(gt_all_final[counter])\n",
    "        #print(temp.shape)\n",
    "        final_im[r:r+64, c:c+64] = temp \n",
    "        counter +=1;\n",
    "print(counter)"
   ]
  },
  {
   "cell_type": "code",
   "execution_count": 45,
   "metadata": {},
   "outputs": [],
   "source": [
    "final_im = final_im[0:390, 0:200]"
   ]
  },
  {
   "cell_type": "code",
   "execution_count": 46,
   "metadata": {
    "scrolled": true
   },
   "outputs": [
    {
     "data": {
      "text/plain": [
       "ImageView object:\n",
       "  Interpolation       :  <default>"
      ]
     },
     "execution_count": 46,
     "metadata": {},
     "output_type": "execute_result"
    },
    {
     "data": {
      "image/png": "[encoded data removed]",
      "text/plain": [
       "<Figure size 432x288 with 1 Axes>"
      ]
     },
     "metadata": {
      "needs_background": "light"
     },
     "output_type": "display_data"
    },
    {
     "data": {
      "image/png": "[encoded data removed]",
      "text/plain": [
       "<Figure size 432x288 with 1 Axes>"
      ]
     },
     "metadata": {
      "needs_background": "light"
     },
     "output_type": "display_data"
    }
   ],
   "source": [
    "imshow(classes=final_im)\n",
    "imshow(classes=change_im)"
   ]
  },
  {
   "cell_type": "code",
   "execution_count": 47,
   "metadata": {},
   "outputs": [],
   "source": [
    "np.save(pathlib.Path(r\"E:\\cha_detec_desktop1\", \"hermi_change_recon_large\").with_suffix(\".npy\"), change_im);\n",
    "np.save(pathlib.Path(r\"E:\\cha_detec_desktop1\", \"hermi_change_original_large\").with_suffix(\".npy\"), final_im);"
   ]
  },
  {
   "cell_type": "code",
   "execution_count": 93,
   "metadata": {},
   "outputs": [
    {
     "data": {
      "text/plain": [
       "array([68014,  5558,  1331,    79,  1557,  1461], dtype=int64)"
      ]
     },
     "execution_count": 93,
     "metadata": {},
     "output_type": "execute_result"
    }
   ],
   "source": [
    "\n",
    "unique = np.unique(final_im, return_counts=True)\n",
    "count = unique[1]\n",
    "count"
   ]
  },
  {
   "cell_type": "code",
   "execution_count": 135,
   "metadata": {},
   "outputs": [],
   "source": [
    "confMat = np.zeros((6,6), dtype=np.int64)\n",
    "classes = np.arange(0, 6)\n",
    "confMat2 = np.zeros((6,6), dtype=np.float64)"
   ]
  },
  {
   "cell_type": "code",
   "execution_count": 136,
   "metadata": {},
   "outputs": [],
   "source": [
    "# TO BE CHANGED FOR TWO DIMENSTIONAL ARRAY \n",
    "h = 0\n",
    "for r in range(390):\n",
    "    for c in range(200):\n",
    "        confMat[int(final_im[r][c])][int(change_im[r][c])] += 1;#Truth value should come first \n",
    "        h = h + 1"
   ]
  },
  {
   "cell_type": "code",
   "execution_count": null,
   "metadata": {},
   "outputs": [],
   "source": []
  },
  {
   "cell_type": "code",
   "execution_count": 137,
   "metadata": {},
   "outputs": [],
   "source": [
    "# TO BE CHANGED FOR TWO DIMENSTIONAL ARRAY \n",
    "h = 0\n",
    "for r in range(6):\n",
    "    for c in range(6):\n",
    "        confMat2[r][c] = (confMat[r][c]*100)/count[r]\n",
    "        h = h + 1"
   ]
  },
  {
   "cell_type": "code",
   "execution_count": 138,
   "metadata": {},
   "outputs": [
    {
     "data": {
      "text/plain": [
       "array([[9.96515423e+01, 1.69082836e-01, 1.76434264e-02, 0.00000000e+00,\n",
       "        7.05737054e-02, 9.11577028e-02],\n",
       "       [3.74235336e+00, 9.58618208e+01, 3.95825837e-01, 0.00000000e+00,\n",
       "        0.00000000e+00, 0.00000000e+00],\n",
       "       [1.15702479e+01, 1.26220887e+01, 7.56574005e+01, 0.00000000e+00,\n",
       "        7.51314801e-02, 7.51314801e-02],\n",
       "       [2.53164557e+00, 0.00000000e+00, 0.00000000e+00, 0.00000000e+00,\n",
       "        9.62025316e+01, 1.26582278e+00],\n",
       "       [2.56904303e+00, 0.00000000e+00, 0.00000000e+00, 0.00000000e+00,\n",
       "        9.48619139e+01, 2.56904303e+00],\n",
       "       [2.60095825e+00, 0.00000000e+00, 0.00000000e+00, 0.00000000e+00,\n",
       "        5.74948665e+00, 9.16495551e+01]])"
      ]
     },
     "execution_count": 138,
     "metadata": {},
     "output_type": "execute_result"
    }
   ],
   "source": [
    "confMat2"
   ]
  },
  {
   "cell_type": "code",
   "execution_count": 139,
   "metadata": {},
   "outputs": [],
   "source": [
    "def plot_confusion_matrix(cm, classes, title, normalize=False, cmap=plt.cm.Greens):\n",
    "    \n",
    "    fig, ax = plt.subplots(figsize=(5, 5))\n",
    "    im = ax.imshow(cm, interpolation='nearest', cmap=cmap)\n",
    "    ax.figure.colorbar(im, ax=ax)\n",
    "    # We want to show all ticks...\n",
    "    ax.set(xticks=np.arange(cm.shape[1]),\n",
    "           yticks=np.arange(cm.shape[0]),\n",
    "           # ... and label them with the respective list entries\n",
    "           xticklabels=classes, yticklabels=classes,\n",
    "           title=title,\n",
    "           ylabel='True label',\n",
    "           xlabel='Predicted label')\n",
    "\n",
    "    # Rotate the tick labels and set their alignment.\n",
    "    plt.setp(ax.get_xticklabels(), rotation=45, ha=\"right\",\n",
    "             rotation_mode=\"anchor\")\n",
    "\n",
    "    # Loop over data dimensions and create text annotations.\n",
    "    fmt = '.2f' if normalize else 'd'\n",
    "    thresh = cm.max() / 2.\n",
    "    for i in range(cm.shape[0]):\n",
    "        for j in range(cm.shape[1]):\n",
    "            ax.text(j, i, format(cm[i, j], fmt),\n",
    "                    ha=\"center\", va=\"center\",\n",
    "                    color=\"white\" if cm[i, j] > thresh else \"black\")\n",
    "    fig.tight_layout()\n",
    "    return ax"
   ]
  },
  {
   "cell_type": "code",
   "execution_count": 140,
   "metadata": {},
   "outputs": [
    {
     "data": {
      "text/plain": [
       "<AxesSubplot:title={'center':'Confusion Matrix'}, xlabel='Predicted label', ylabel='True label'>"
      ]
     },
     "execution_count": 140,
     "metadata": {},
     "output_type": "execute_result"
    },
    {
     "data": {
      "image/png": "[encoded data removed]",
      "text/plain": [
       "<Figure size 360x360 with 2 Axes>"
      ]
     },
     "metadata": {
      "needs_background": "light"
     },
     "output_type": "display_data"
    }
   ],
   "source": [
    "plot_confusion_matrix(confMat, classes, title=\"Confusion Matrix\")"
   ]
  },
  {
   "cell_type": "code",
   "execution_count": 141,
   "metadata": {},
   "outputs": [
    {
     "data": {
      "text/plain": [
       "<AxesSubplot:title={'center':'Confusion Matrix'}, xlabel='Predicted label', ylabel='True label'>"
      ]
     },
     "execution_count": 141,
     "metadata": {},
     "output_type": "execute_result"
    },
    {
     "data": {
      "image/png": "[encoded data removed]",
      "text/plain": [
       "<Figure size 360x360 with 2 Axes>"
      ]
     },
     "metadata": {
      "needs_background": "light"
     },
     "output_type": "display_data"
    }
   ],
   "source": [
    "plot_confusion_matrix(confMat2, classes, normalize=True, title=\"Confusion Matrix\")"
   ]
  },
  {
   "cell_type": "code",
   "execution_count": 145,
   "metadata": {},
   "outputs": [
    {
     "data": {
      "text/plain": [
       "array([68219,  5611,  1041,     1,  1686,  1443], dtype=int64)"
      ]
     },
     "execution_count": 145,
     "metadata": {},
     "output_type": "execute_result"
    }
   ],
   "source": []
  },
  {
   "cell_type": "code",
   "execution_count": 150,
   "metadata": {},
   "outputs": [
    {
     "name": "stdout",
     "output_type": "stream",
     "text": [
      "Accu = 0.9862564102564103\n",
      "Recall = 0.7628037210257722\n",
      "Precision = 0.7857315348214771\n",
      "F1 = 0.9385364991785751\n"
     ]
    }
   ],
   "source": [
    "row_sum = np.sum(confMat, axis=0)\n",
    "row_sum = np.where(row_sum==0, 1, row_sum)\n",
    "\n",
    "col_sum = np.sum(confMat, axis=1)\n",
    "col_sum = np.where(col_sum==0, 1, col_sum)\n",
    "\n",
    "# Recall = TP / (TP + FN) \n",
    "black_recall = np.diag(confMat) / col_sum\n",
    "\n",
    "# Precision = TP / (TP + FP)\n",
    "black_precision = np.diag(confMat) / row_sum\n",
    "h = 0\n",
    "for i in range(6):\n",
    "    h = h + confMat[i][i]\n",
    "    \n",
    "acc = h/(final_im.shape[0]*final_im.shape[1])\n",
    "\n",
    "\n",
    "\n",
    "black_recall_non_zero = np.where(black_recall==0, 1, black_recall)\n",
    "\n",
    "\n",
    "black_precision_non_zero = np.where(black_precision==0, 1, black_precision)\n",
    "\n",
    "\n",
    "# F1 score = (2 * black_recall * black_precision) / (black_recall + black_precision)\n",
    "black_fl = (2 * black_recall_non_zero * black_precision_non_zero) / (black_recall_non_zero + black_precision_non_zero)\n",
    "\n",
    "print(\"Accu = \" + str(np.mean(acc)))\n",
    "print(\"Recall = \" + str(np.mean(black_recall)))\n",
    "print(\"Precision = \" + str(np.mean(black_precision)))\n",
    "print(\"F1 = \" + str(np.mean(black_fl)))"
   ]
  },
  {
   "cell_type": "code",
   "execution_count": 133,
   "metadata": {},
   "outputs": [
    {
     "name": "stderr",
     "output_type": "stream",
     "text": [
      "c:\\users\\cvr 2019 2020\\anaconda3\\envs\\tf2\\lib\\site-packages\\ipykernel_launcher.py:1: RuntimeWarning: invalid value encountered in true_divide\n",
      "  \"\"\"Entry point for launching an IPython kernel.\n"
     ]
    },
    {
     "data": {
      "text/plain": [
       "array([0.99352087, 0.94956336, 0.9673391 ,        nan, 0.87603796,\n",
       "       0.92792793])"
      ]
     },
     "execution_count": 133,
     "metadata": {},
     "output_type": "execute_result"
    }
   ],
   "source": [
    "np.array(jok) / np.sum(confMat, axis=1)"
   ]
  },
  {
   "cell_type": "code",
   "execution_count": 122,
   "metadata": {},
   "outputs": [
    {
     "data": {
      "text/plain": [
       "array([[3, 3, 3, 2],\n",
       "       [2, 1, 1, 1],\n",
       "       [3, 1, 1, 3],\n",
       "       [2, 1, 3, 1]])"
      ]
     },
     "execution_count": 122,
     "metadata": {},
     "output_type": "execute_result"
    }
   ],
   "source": [
    "array = np.random.randint(1, 4, (4,4))\n",
    "array"
   ]
  },
  {
   "cell_type": "code",
   "execution_count": 123,
   "metadata": {},
   "outputs": [
    {
     "data": {
      "text/plain": [
       "array([10,  6,  8,  7])"
      ]
     },
     "execution_count": 123,
     "metadata": {},
     "output_type": "execute_result"
    }
   ],
   "source": [
    "np.sum(array, axis=0)"
   ]
  },
  {
   "cell_type": "code",
   "execution_count": 124,
   "metadata": {},
   "outputs": [
    {
     "data": {
      "text/plain": [
       "array([11,  5,  8,  7])"
      ]
     },
     "execution_count": 124,
     "metadata": {},
     "output_type": "execute_result"
    }
   ],
   "source": [
    "np.sum(array, axis=1)"
   ]
  },
  {
   "cell_type": "code",
   "execution_count": 114,
   "metadata": {
    "colab": {},
    "colab_type": "code",
    "id": "ETuYhSI1L-1Z"
   },
   "outputs": [],
   "source": [
    "def oversample_weak_classes(X, y):\n",
    "    \"\"\"\"balance the dataset by prforming oversample of weak classes (making each class have close labels_counts)\"\"\"\n",
    "    unique_labels, labels_counts = np.unique(y, return_counts=True)\n",
    "    \n",
    "    print(unique_labels.shape)\n",
    "    print(unique_labels)\n",
    "    print(labels_counts.shape)\n",
    "    print(labels_counts)\n",
    "    max_count = np.max(labels_counts)\n",
    "    labels_inverse_ratios = max_count / labels_counts  \n",
    "    #print(labels_inverse_ratios)\n",
    "    # repeat for every label and concat\n",
    "    print(labels_inverse_ratios)\n",
    "    new_X = X[y == unique_labels[0], :, :, :].repeat(round(labels_inverse_ratios[0]), axis=0)\n",
    "    new_Y = y[y == unique_labels[0]].repeat(round(labels_inverse_ratios[0]), axis=0)\n",
    "    for label, labelInverseRatio in zip(unique_labels[1:], labels_inverse_ratios[1:]):\n",
    "        cX = X[y== label,:,:,:].repeat(round(labelInverseRatio), axis=0)\n",
    "        cY = y[y == label].repeat(round(labelInverseRatio), axis=0)\n",
    "        new_X = np.concatenate((new_X, cX))\n",
    "        new_Y = np.concatenate((new_Y, cY))\n",
    "    np.random.seed(seed=42)\n",
    "    rand_perm = np.random.permutation(new_Y.shape[0])\n",
    "    new_X = new_X[rand_perm, :, :, :]\n",
    "    new_Y = new_Y[rand_perm]\n",
    "    unique_labels, labels_counts = np.unique(new_Y, return_counts=True)\n",
    "    \n",
    "#     print(unique_labels.shape)\n",
    "#     print(unique_labels)\n",
    "#     print(labels_counts.shape)\n",
    "#     print(labels_counts)\n",
    "    return new_X, new_Y"
   ]
  }
 ],
 "metadata": {
  "colab": {
   "collapsed_sections": [],
   "include_colab_link": true,
   "name": "Untitled7.ipynb",
   "provenance": []
  },
  "kernelspec": {
   "display_name": "Python 3",
   "language": "python",
   "name": "python3"
  },
  "language_info": {
   "codemirror_mode": {
    "name": "ipython",
    "version": 3
   },
   "file_extension": ".py",
   "mimetype": "text/x-python",
   "name": "python",
   "nbconvert_exporter": "python",
   "pygments_lexer": "ipython3",
   "version": "3.6.10"
  }
 },
 "nbformat": 4,
 "nbformat_minor": 1
}
